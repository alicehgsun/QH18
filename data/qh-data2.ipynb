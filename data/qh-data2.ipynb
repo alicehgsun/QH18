{
 "cells": [
  {
   "cell_type": "markdown",
   "metadata": {},
   "source": [
    "# Chrome History\n",
    "Following process uses an existing Google Extension to export Google Chrome history in JSON format."
   ]
  },
  {
   "cell_type": "code",
   "execution_count": 1,
   "metadata": {
    "collapsed": true
   },
   "outputs": [],
   "source": [
    "import json\n",
    "history = json.loads(open(\"history.json\").read())\n",
    "# this is Chrome history from 1/15/2018 ~ 4/15/2018"
   ]
  },
  {
   "cell_type": "code",
   "execution_count": 2,
   "metadata": {},
   "outputs": [
    {
     "data": {
      "text/plain": [
       "19311"
      ]
     },
     "execution_count": 2,
     "metadata": {},
     "output_type": "execute_result"
    }
   ],
   "source": [
    "len(history)"
   ]
  },
  {
   "cell_type": "code",
   "execution_count": 3,
   "metadata": {
    "collapsed": true
   },
   "outputs": [],
   "source": [
    "titles = []\n",
    "for i in range(19311):\n",
    "    titles.append(history[i][\"title\"])"
   ]
  },
  {
   "cell_type": "markdown",
   "metadata": {},
   "source": [
    "### Languages\n",
    "Categorize titles via regular expression"
   ]
  },
  {
   "cell_type": "code",
   "execution_count": 4,
   "metadata": {
    "collapsed": true
   },
   "outputs": [],
   "source": [
    "import re"
   ]
  },
  {
   "cell_type": "code",
   "execution_count": 5,
   "metadata": {},
   "outputs": [
    {
     "data": {
      "text/plain": [
       "5337"
      ]
     },
     "execution_count": 5,
     "metadata": {},
     "output_type": "execute_result"
    }
   ],
   "source": [
    "none = [item for item in titles if len(item)==0]\n",
    "len(none)"
   ]
  },
  {
   "cell_type": "code",
   "execution_count": 6,
   "metadata": {},
   "outputs": [
    {
     "data": {
      "text/plain": [
       "2977"
      ]
     },
     "execution_count": 6,
     "metadata": {},
     "output_type": "execute_result"
    }
   ],
   "source": [
    "kor = [item for item in titles if re.search(r\"[ㄱ-ㅎㅏ-ㅣ가-힣]\", item) and len(item)>0]\n",
    "len(kor)"
   ]
  },
  {
   "cell_type": "markdown",
   "metadata": {},
   "source": [
    "- I added the range of Chinese characters [一-龥], because Japanese is consisted of Katakana, Hiragana, and Chinese letters.\n",
    "- Another additions were [ㄱ-ㅎ] and [ㅏ-ㅣ], which are consonants and vowels. Although these letters are grammaticaly meant to be grouped into syllabic blocks, they're also used casually by themselves as abbreviations and slangs in internet."
   ]
  },
  {
   "cell_type": "code",
   "execution_count": 7,
   "metadata": {},
   "outputs": [
    {
     "data": {
      "text/plain": [
       "10927"
      ]
     },
     "execution_count": 7,
     "metadata": {},
     "output_type": "execute_result"
    }
   ],
   "source": [
    "en = [item for item in titles if re.search(r\"^[^가-힣ㄱ-ㅎㅏ-ㅣぁ-んァ-ン一-龥]*$\", item) and len(item)>0]\n",
    "len(en)"
   ]
  },
  {
   "cell_type": "markdown",
   "metadata": {},
   "source": [
    "- As I checked, the rest are all Japanese contents, but since filtering by Chinese letter can theoretically include Chinese contents as well."
   ]
  },
  {
   "cell_type": "code",
   "execution_count": 8,
   "metadata": {},
   "outputs": [
    {
     "data": {
      "text/plain": [
       "70"
      ]
     },
     "execution_count": 8,
     "metadata": {},
     "output_type": "execute_result"
    }
   ],
   "source": [
    "jp = [item for item in titles if re.search(r\"^[^가-힣]*$\", item) and re.search(r\"[ぁ-んァ-ン一-龥]\", item) and len(item)>0]\n",
    "len(jp)"
   ]
  },
  {
   "cell_type": "code",
   "execution_count": 9,
   "metadata": {},
   "outputs": [
    {
     "data": {
      "text/plain": [
       "5407"
      ]
     },
     "execution_count": 9,
     "metadata": {},
     "output_type": "execute_result"
    }
   ],
   "source": [
    "others = jp + none\n",
    "len(others)"
   ]
  },
  {
   "cell_type": "markdown",
   "metadata": {},
   "source": [
    "en : kor = 10927 : 2977"
   ]
  },
  {
   "cell_type": "markdown",
   "metadata": {},
   "source": [
    "### Counting\n",
    "Checking if total number matches the sum"
   ]
  },
  {
   "cell_type": "code",
   "execution_count": 10,
   "metadata": {},
   "outputs": [
    {
     "data": {
      "text/plain": [
       "True"
      ]
     },
     "execution_count": 10,
     "metadata": {},
     "output_type": "execute_result"
    }
   ],
   "source": [
    "total_len = len(en) + len(kor) + len(others)\n",
    "total_len == len(titles)"
   ]
  },
  {
   "cell_type": "code",
   "execution_count": 11,
   "metadata": {
    "scrolled": true
   },
   "outputs": [
    {
     "data": {
      "text/plain": [
       "0"
      ]
     },
     "execution_count": 11,
     "metadata": {},
     "output_type": "execute_result"
    }
   ],
   "source": [
    "total_len - len(titles)"
   ]
  },
  {
   "cell_type": "markdown",
   "metadata": {},
   "source": [
    "### Major services"
   ]
  },
  {
   "cell_type": "code",
   "execution_count": 17,
   "metadata": {},
   "outputs": [
    {
     "data": {
      "text/plain": [
       "695"
      ]
     },
     "execution_count": 17,
     "metadata": {},
     "output_type": "execute_result"
    }
   ],
   "source": [
    "kor_youtube = [line for line in kor if re.search(r\"[Yy]ou[Tt]ube\", line)]\n",
    "len(kor_youtube)"
   ]
  },
  {
   "cell_type": "code",
   "execution_count": 18,
   "metadata": {},
   "outputs": [
    {
     "data": {
      "text/plain": [
       "736"
      ]
     },
     "execution_count": 18,
     "metadata": {},
     "output_type": "execute_result"
    }
   ],
   "source": [
    "en_youtube = [line for line in en if re.search(r\"[Yy]ou[Tt]ube\", line)]\n",
    "len(en_youtube)"
   ]
  },
  {
   "cell_type": "code",
   "execution_count": 19,
   "metadata": {},
   "outputs": [
    {
     "data": {
      "text/plain": [
       "281"
      ]
     },
     "execution_count": 19,
     "metadata": {},
     "output_type": "execute_result"
    }
   ],
   "source": [
    "kor_google = [line for line in kor if re.search(r\"[Gg]oogle\", line)]\n",
    "len(kor_google)"
   ]
  },
  {
   "cell_type": "code",
   "execution_count": 20,
   "metadata": {},
   "outputs": [
    {
     "data": {
      "text/plain": [
       "2396"
      ]
     },
     "execution_count": 20,
     "metadata": {},
     "output_type": "execute_result"
    }
   ],
   "source": [
    "en_google = [line for line in en if re.search(r\"[Gg]oogle\", line)]\n",
    "len(en_google)"
   ]
  },
  {
   "cell_type": "markdown",
   "metadata": {},
   "source": [
    "### What compose Korean sites?"
   ]
  },
  {
   "cell_type": "code",
   "execution_count": 21,
   "metadata": {},
   "outputs": [
    {
     "data": {
      "text/plain": [
       "697"
      ]
     },
     "execution_count": 21,
     "metadata": {},
     "output_type": "execute_result"
    }
   ],
   "source": [
    "kor_namu = [line for line in kor if re.search(r\"나무위키\", line)]\n",
    "len(kor_namu)"
   ]
  },
  {
   "cell_type": "code",
   "execution_count": 22,
   "metadata": {},
   "outputs": [
    {
     "data": {
      "text/plain": [
       "54"
      ]
     },
     "execution_count": 22,
     "metadata": {},
     "output_type": "execute_result"
    }
   ],
   "source": [
    "kor_ppss = [line for line in kor if re.search(r\"ㅍㅍㅅㅅ\", line)]\n",
    "len(kor_ppss)"
   ]
  },
  {
   "cell_type": "code",
   "execution_count": 23,
   "metadata": {},
   "outputs": [
    {
     "data": {
      "text/plain": [
       "32"
      ]
     },
     "execution_count": 23,
     "metadata": {},
     "output_type": "execute_result"
    }
   ],
   "source": [
    "kor_insta = [line for line in kor if re.search(r\"[Ii]nstagram\", line)]\n",
    "len(kor_insta)"
   ]
  },
  {
   "cell_type": "code",
   "execution_count": 24,
   "metadata": {},
   "outputs": [
    {
     "data": {
      "text/plain": [
       "519"
      ]
     },
     "execution_count": 24,
     "metadata": {},
     "output_type": "execute_result"
    }
   ],
   "source": [
    "kor_naver = [line for line in kor if re.search(r\"네이버\", line)]\n",
    "len(kor_naver)"
   ]
  },
  {
   "cell_type": "code",
   "execution_count": 25,
   "metadata": {},
   "outputs": [
    {
     "data": {
      "text/plain": [
       "2278"
      ]
     },
     "execution_count": 25,
     "metadata": {},
     "output_type": "execute_result"
    }
   ],
   "source": [
    "# len(kor) == 2975\n",
    "len(kor_namu) + len(kor_youtube) + len(kor_google) + len(kor_ppss) + len(kor_insta) + len(kor_naver)"
   ]
  },
  {
   "cell_type": "code",
   "execution_count": 26,
   "metadata": {},
   "outputs": [
    {
     "name": "stdout",
     "output_type": "stream",
     "text": [
      "77% of Korean titles is defined.\n",
      "23% of them is undefined.\n"
     ]
    }
   ],
   "source": [
    "# 2278 : total = ?% : 100%\n",
    "print(str(round((2278 * 100) / len(kor))) + \"% of Korean titles is defined.\\n\" + str(100-round((2278 * 100) / len(kor))) + \"% of them is undefined.\")"
   ]
  },
  {
   "cell_type": "markdown",
   "metadata": {},
   "source": [
    "### How about English?"
   ]
  },
  {
   "cell_type": "code",
   "execution_count": 35,
   "metadata": {},
   "outputs": [
    {
     "data": {
      "text/plain": [
       "4236"
      ]
     },
     "execution_count": 35,
     "metadata": {},
     "output_type": "execute_result"
    }
   ],
   "source": [
    "# len(en) == 10940\n",
    "len(en_youtube) + len(en_google) + len(en_insta) + len(en_adobe) + len(en_me)"
   ]
  },
  {
   "cell_type": "code",
   "execution_count": 29,
   "metadata": {},
   "outputs": [
    {
     "data": {
      "text/plain": [
       "95"
      ]
     },
     "execution_count": 29,
     "metadata": {},
     "output_type": "execute_result"
    }
   ],
   "source": [
    "en_insta = [line for line in en if re.search(r\"[Ii]nstagram\", line)]\n",
    "len(en_insta)"
   ]
  },
  {
   "cell_type": "code",
   "execution_count": 30,
   "metadata": {},
   "outputs": [
    {
     "data": {
      "text/plain": [
       "118"
      ]
     },
     "execution_count": 30,
     "metadata": {},
     "output_type": "execute_result"
    }
   ],
   "source": [
    "en_adobe = [line for line in en if re.search(r\"[Aa]dobe\", line)]\n",
    "len(en_adobe)"
   ]
  },
  {
   "cell_type": "code",
   "execution_count": 31,
   "metadata": {},
   "outputs": [
    {
     "data": {
      "text/plain": [
       "891"
      ]
     },
     "execution_count": 31,
     "metadata": {},
     "output_type": "execute_result"
    }
   ],
   "source": [
    "# blog or portfolio or personal/professional accounts\n",
    "en_me = [line for line in en if re.search(r\"\\b(?:Alice Sun|alicehgsun)\\b\", line)]\n",
    "len(en_me)"
   ]
  },
  {
   "cell_type": "code",
   "execution_count": 32,
   "metadata": {},
   "outputs": [
    {
     "data": {
      "text/plain": [
       "70"
      ]
     },
     "execution_count": 32,
     "metadata": {},
     "output_type": "execute_result"
    }
   ],
   "source": [
    "en_class = [line for line in en if re.search(r\"[Ww]eek\\d\", line)]\n",
    "len(en_class)"
   ]
  },
  {
   "cell_type": "code",
   "execution_count": 33,
   "metadata": {},
   "outputs": [
    {
     "data": {
      "text/plain": [
       "271"
      ]
     },
     "execution_count": 33,
     "metadata": {},
     "output_type": "execute_result"
    }
   ],
   "source": [
    "en_linkedin = [line for line in en if re.search(r\"[Ll]inked[Ii]n\", line)]\n",
    "len(en_linkedin)"
   ]
  },
  {
   "cell_type": "code",
   "execution_count": 34,
   "metadata": {
    "scrolled": true
   },
   "outputs": [
    {
     "data": {
      "text/plain": [
       "2"
      ]
     },
     "execution_count": 34,
     "metadata": {},
     "output_type": "execute_result"
    }
   ],
   "source": [
    "en_naver = [line for line in en if re.search(r\"[Nn]aver\", line)]\n",
    "len(en_naver)"
   ]
  },
  {
   "cell_type": "markdown",
   "metadata": {},
   "source": [
    "## Timeline"
   ]
  },
  {
   "cell_type": "code",
   "execution_count": 13,
   "metadata": {},
   "outputs": [
    {
     "name": "stdout",
     "output_type": "stream",
     "text": [
      "Last record is 4/15/2018, 9:24:32 PM\n",
      "First record is 1/15/2018, 9:40:57 PM\n"
     ]
    }
   ],
   "source": [
    "# total there're 19311 history records\n",
    "print(\"Last record is \" + str(history[0][\"lastVisitTime\"]) + \"\\nFirst record is \" + str(history[19310][\"lastVisitTime\"]))"
   ]
  },
  {
   "cell_type": "code",
   "execution_count": 14,
   "metadata": {
    "collapsed": true
   },
   "outputs": [],
   "source": [
    "april = []\n",
    "march = []\n",
    "february = []\n",
    "january = []\n",
    "for elt in history:\n",
    "    match_apr = re.search(r\"^4/\", elt[\"lastVisitTime\"])\n",
    "    match_mar = re.search(r\"^3/\", elt[\"lastVisitTime\"])\n",
    "    match_feb = re.search(r\"^2/\", elt[\"lastVisitTime\"])\n",
    "    match_jan = re.search(r\"^1/\", elt[\"lastVisitTime\"])\n",
    "    if match_apr:\n",
    "        april.append(elt[\"title\"])\n",
    "    elif match_mar:\n",
    "        march.append(elt[\"title\"])\n",
    "    elif match_feb:\n",
    "        february.append(elt[\"title\"])\n",
    "    elif match_jan:\n",
    "        january.append(elt[\"title\"])"
   ]
  },
  {
   "cell_type": "code",
   "execution_count": 15,
   "metadata": {},
   "outputs": [
    {
     "name": "stdout",
     "output_type": "stream",
     "text": [
      "January en: 2385\n",
      "January kor: 471\n",
      "84% is Enlgish\n",
      "16% is Korean\n"
     ]
    }
   ],
   "source": [
    "january_en = [item for item in january if re.search(r\"^[^가-힣ㄱ-ㅎㅏ-ㅣぁ-んァ-ン一-龥]*$\", item) and len(item)>0]\n",
    "january_kor = [item for item in january if re.search(r\"[ㄱ-ㅎㅏ-ㅣ가-힣]\", item) and len(item)>0]\n",
    "print (\"January en:\", str(len(january_en)))\n",
    "print (\"January kor:\", str(len(january_kor)))\n",
    "# en : kor = 2386 : 470\n",
    "\n",
    "print(str(round((len(january_en)*100)/(len(january_en)+len(january_kor)))) + \"% is Enlgish\")\n",
    "print(str(round((len(january_kor)*100)/(len(january_en)+len(january_kor)))) + \"% is Korean\")"
   ]
  },
  {
   "cell_type": "code",
   "execution_count": 16,
   "metadata": {},
   "outputs": [
    {
     "name": "stdout",
     "output_type": "stream",
     "text": [
      "February en: 2916\n",
      "February kor: 908\n",
      "76% is Enlgish\n",
      "24% is Korean\n"
     ]
    }
   ],
   "source": [
    "february_en = [item for item in february if re.search(r\"^[^가-힣ㄱ-ㅎㅏ-ㅣぁ-んァ-ン一-龥]*$\", item) and len(item)>0]\n",
    "february_kor = [item for item in february if re.search(r\"[ㄱ-ㅎㅏ-ㅣ가-힣]\", item) and len(item)>0]\n",
    "print (\"February en:\", str(len(february_en)))\n",
    "print (\"February kor:\", str(len(february_kor)))\n",
    "\n",
    "print(str(round((len(february_en)*100)/(len(february_en)+len(february_kor)))) + \"% is Enlgish\")\n",
    "print(str(round((len(february_kor)*100)/(len(february_en)+len(february_kor)))) + \"% is Korean\")"
   ]
  },
  {
   "cell_type": "code",
   "execution_count": 17,
   "metadata": {},
   "outputs": [
    {
     "name": "stdout",
     "output_type": "stream",
     "text": [
      "March en: 3655\n",
      "March kor: 1099\n",
      "77% is Enlgish\n",
      "23% is Korean\n"
     ]
    }
   ],
   "source": [
    "march_en = [item for item in march if re.search(r\"^[^가-힣ㄱ-ㅎㅏ-ㅣぁ-んァ-ン一-龥]*$\", item) and len(item)>0]\n",
    "march_kor = [item for item in march if re.search(r\"[ㄱ-ㅎㅏ-ㅣ가-힣]\", item) and len(item)>0]\n",
    "print (\"March en:\", str(len(march_en)))\n",
    "print (\"March kor:\", str(len(march_kor)))\n",
    "\n",
    "print(str(round((len(march_en)*100)/(len(march_en)+len(march_kor)))) + \"% is Enlgish\")\n",
    "print(str(round((len(march_kor)*100)/(len(march_en)+len(march_kor)))) + \"% is Korean\")"
   ]
  },
  {
   "cell_type": "code",
   "execution_count": 18,
   "metadata": {},
   "outputs": [
    {
     "name": "stdout",
     "output_type": "stream",
     "text": [
      "April en: 1971\n",
      "April kor: 499\n",
      "80% is Enlgish\n",
      "20% is Korean\n"
     ]
    }
   ],
   "source": [
    "april_en = [item for item in april if re.search(r\"^[^가-힣ㄱ-ㅎㅏ-ㅣぁ-んァ-ン一-龥]*$\", item) and len(item)>0]\n",
    "april_kor = [item for item in april if re.search(r\"[ㄱ-ㅎㅏ-ㅣ가-힣]\", item) and len(item)>0]\n",
    "print (\"April en:\", str(len(april_en)))\n",
    "print (\"April kor:\", str(len(april_kor)))\n",
    "\n",
    "print(str(round((len(april_en)*100)/(len(april_en)+len(april_kor)))) + \"% is Enlgish\")\n",
    "print(str(round((len(april_kor)*100)/(len(april_en)+len(april_kor)))) + \"% is Korean\")"
   ]
  },
  {
   "cell_type": "code",
   "execution_count": 42,
   "metadata": {},
   "outputs": [
    {
     "name": "stdout",
     "output_type": "stream",
     "text": [
      "April total: 3292\n",
      "March total: 6869\n",
      "February total: 5218\n",
      "January total: 3932\n"
     ]
    }
   ],
   "source": [
    "print(\"April total: \" + str(len(april)) + \"\\nMarch total: \" + str(len(march)) + \"\\nFebruary total: \" + str(len(february)) + \"\\nJanuary total: \" + str(len(january)))"
   ]
  },
  {
   "cell_type": "markdown",
   "metadata": {},
   "source": [
    "### 30 days period"
   ]
  },
  {
   "cell_type": "code",
   "execution_count": 19,
   "metadata": {
    "collapsed": true
   },
   "outputs": [],
   "source": [
    "# total = 19311\n",
    "# 1/15 - 2/13\n",
    "# 2/14 - 3/15\n",
    "# 3/16 - 4/15\n",
    "\n",
    "month1 = []\n",
    "month2 = []\n",
    "month3 = []\n",
    "for elt in history:\n",
    "    match1 = re.search(r\"\\b(?:1/(1[5-9]|[2,3][0-9])|2/(\\d|1[0-3]))\\b\", elt[\"lastVisitTime\"])\n",
    "    match2 = re.search(r\"\\b(?:2/(1[4-9]|2[0-8])|3/(\\d|1[0-5]))\\b\", elt[\"lastVisitTime\"])\n",
    "    match3 = re.search(r\"\\b(?:3/(1[6-9]|[2,3][0-9])|4/(\\d|1[0-5]))\\b\", elt[\"lastVisitTime\"])\n",
    "    \n",
    "    if match1:\n",
    "        month1.append(elt[\"title\"])\n",
    "    elif match2:\n",
    "        month2.append(elt[\"title\"])\n",
    "    elif match3:\n",
    "        month3.append(elt[\"title\"])"
   ]
  },
  {
   "cell_type": "code",
   "execution_count": 20,
   "metadata": {},
   "outputs": [
    {
     "data": {
      "text/plain": [
       "True"
      ]
     },
     "execution_count": 20,
     "metadata": {},
     "output_type": "execute_result"
    }
   ],
   "source": [
    "len(history) == len(month3) + len(month2) + len(month1)"
   ]
  },
  {
   "cell_type": "code",
   "execution_count": 21,
   "metadata": {},
   "outputs": [
    {
     "name": "stdout",
     "output_type": "stream",
     "text": [
      "Month 1 en: 4006\n",
      "Month 1 kor: 806\n",
      "83% is Enlgish\n",
      "17% is Korean\n"
     ]
    }
   ],
   "source": [
    "month1_en = [item for item in month1 if re.search(r\"^[^가-힣ㄱ-ㅎㅏ-ㅣぁ-んァ-ン一-龥]*$\", item) and len(item)>0]\n",
    "month1_kor = [item for item in month1 if re.search(r\"[ㄱ-ㅎㅏ-ㅣ가-힣]\", item) and len(item)>0]\n",
    "print (\"Month 1 en:\", str(len(month1_en)))\n",
    "print (\"Month 1 kor:\", str(len(month1_kor)))\n",
    "\n",
    "print(str(round((len(month1_en)*100)/(len(month1_en)+len(month1_kor)))) + \"% is Enlgish\")\n",
    "print(str(round((len(month1_kor)*100)/(len(month1_en)+len(month1_kor)))) + \"% is Korean\")"
   ]
  },
  {
   "cell_type": "code",
   "execution_count": 22,
   "metadata": {},
   "outputs": [
    {
     "name": "stdout",
     "output_type": "stream",
     "text": [
      "Month 2 en: 3370\n",
      "Month 2 kor: 1090\n",
      "76% is Enlgish\n",
      "24% is Korean\n"
     ]
    }
   ],
   "source": [
    "month2_en = [item for item in month2 if re.search(r\"^[^가-힣ㄱ-ㅎㅏ-ㅣぁ-んァ-ン一-龥]*$\", item) and len(item)>0]\n",
    "month2_kor = [item for item in month2 if re.search(r\"[ㄱ-ㅎㅏ-ㅣ가-힣]\", item) and len(item)>0]\n",
    "print (\"Month 2 en:\", str(len(month2_en)))\n",
    "print (\"Month 2 kor:\", str(len(month2_kor)))\n",
    "\n",
    "print(str(round((len(month2_en)*100)/(len(month2_en)+len(month2_kor)))) + \"% is Enlgish\")\n",
    "print(str(round((len(month2_kor)*100)/(len(month2_en)+len(month2_kor)))) + \"% is Korean\")"
   ]
  },
  {
   "cell_type": "code",
   "execution_count": 23,
   "metadata": {
    "scrolled": true
   },
   "outputs": [
    {
     "name": "stdout",
     "output_type": "stream",
     "text": [
      "Month 3 en: 3551\n",
      "Month 3 kor: 1081\n",
      "77% is Enlgish\n",
      "23% is Korean\n"
     ]
    }
   ],
   "source": [
    "month3_en = [item for item in month3 if re.search(r\"^[^가-힣ㄱ-ㅎㅏ-ㅣぁ-んァ-ン一-龥]*$\", item) and len(item)>0]\n",
    "month3_kor = [item for item in month3 if re.search(r\"[ㄱ-ㅎㅏ-ㅣ가-힣]\", item) and len(item)>0]\n",
    "print (\"Month 3 en:\", str(len(month3_en)))\n",
    "print (\"Month 3 kor:\", str(len(month3_kor)))\n",
    "\n",
    "print(str(round((len(month3_en)*100)/(len(month3_en)+len(month3_kor)))) + \"% is Enlgish\")\n",
    "print(str(round((len(month3_kor)*100)/(len(month3_en)+len(month3_kor)))) + \"% is Korean\")"
   ]
  },
  {
   "cell_type": "markdown",
   "metadata": {},
   "source": [
    "### Weekly"
   ]
  },
  {
   "cell_type": "code",
   "execution_count": 24,
   "metadata": {
    "collapsed": true
   },
   "outputs": [],
   "source": [
    "# total = 19311\n",
    "#1 1/15 - 1/21\n",
    "#2 1/22 - 1/28\n",
    "#3 1/29 - 2/4\n",
    "#4 2/5 - 2/11\n",
    "#5 2/12 - 2/18\n",
    "#6 2/19 - 2/25\n",
    "#7 2/26 - 3/4\n",
    "#8 3/5 - 3/11\n",
    "#9 3/12 - 3/18\n",
    "#10 3/19 - 3/25\n",
    "#11 3/26 - 4/1\n",
    "#12 4/2 - 4/8\n",
    "#13 4/9 - 4/15\n",
    "\n",
    "week1 = []\n",
    "week2 = []\n",
    "week3 = []\n",
    "week4 = []\n",
    "week5 = []\n",
    "week6 = []\n",
    "week7 = []\n",
    "week8 = []\n",
    "week9 = []\n",
    "week10 = []\n",
    "week11 = []\n",
    "week12 = []\n",
    "week13 = []\n",
    "\n",
    "for elt in history:\n",
    "    match1 = re.search(r\"\\b(1/(1[5-9]|2[0,1]))\\b\", elt[\"lastVisitTime\"])\n",
    "    match2 = re.search(r\"\\b(1/2[2-8])\\b\", elt[\"lastVisitTime\"])\n",
    "    match3 = re.search(r\"\\b(?:1/(29|3[0-9])|2/[0-4]/2018)\\b\", elt[\"lastVisitTime\"])\n",
    "    match4 = re.search(r\"\\b(2/([5-9]/2018|1[0,1]))\\b\", elt[\"lastVisitTime\"])\n",
    "    match5 = re.search(r\"\\b(2/1[2-8])\\b\", elt[\"lastVisitTime\"])\n",
    "    match6 = re.search(r\"\\b(2/(19|2[0-5]))\\b\", elt[\"lastVisitTime\"])\n",
    "    match7 = re.search(r\"\\b(?:2/(2[6-9]|3[0-9])|3/[0-4]/2018)\\b\", elt[\"lastVisitTime\"])\n",
    "    match8 = re.search(r\"\\b(3/([5-9]/2018|1[0,1]))\\b\", elt[\"lastVisitTime\"])\n",
    "    match9 = re.search(r\"\\b(3/1[2-8])\\b\", elt[\"lastVisitTime\"])\n",
    "    match10 = re.search(r\"\\b(3/(19|2[0-5]))\\b\", elt[\"lastVisitTime\"])\n",
    "    match11 = re.search(r\"\\b(?:3/(2[6-9]|3[0-9])|4/1/2018)\\b\", elt[\"lastVisitTime\"])\n",
    "    match12 = re.search(r\"\\b(4/[2-8]/2018)\\b\", elt[\"lastVisitTime\"])\n",
    "    match13 = re.search(r\"\\b(4/(9|1[0-5]))\\b\", elt[\"lastVisitTime\"])\n",
    "    \n",
    "\n",
    "    if match1:\n",
    "        week1.append(elt[\"title\"])\n",
    "    elif match2:\n",
    "        week2.append(elt[\"title\"])\n",
    "    elif match3:\n",
    "        week3.append(elt[\"title\"])\n",
    "    elif match4:\n",
    "        week4.append(elt[\"title\"])\n",
    "    elif match5:\n",
    "        week5.append(elt[\"title\"])\n",
    "    elif match6:\n",
    "        week6.append(elt[\"title\"])\n",
    "    elif match7:\n",
    "        week7.append(elt[\"title\"])\n",
    "    elif match8:\n",
    "        week8.append(elt[\"title\"])\n",
    "    elif match9:\n",
    "        week9.append(elt[\"title\"])\n",
    "    elif match10:\n",
    "        week10.append(elt[\"title\"])\n",
    "    elif match11:\n",
    "        week11.append(elt[\"title\"])\n",
    "    elif match12:\n",
    "        week12.append(elt[\"title\"])\n",
    "    elif match13:\n",
    "        week13.append(elt[\"title\"])"
   ]
  },
  {
   "cell_type": "code",
   "execution_count": 25,
   "metadata": {},
   "outputs": [
    {
     "data": {
      "text/plain": [
       "True"
      ]
     },
     "execution_count": 25,
     "metadata": {},
     "output_type": "execute_result"
    }
   ],
   "source": [
    "len(history) == len(week1) + len(week2) + len(week3) + len(week4) + len(week5) + len(week6) +len(week7) + len(week8) + len(week9) + len(week10) + len(week11) + len(week12) + len(week13)"
   ]
  },
  {
   "cell_type": "code",
   "execution_count": 26,
   "metadata": {},
   "outputs": [
    {
     "name": "stdout",
     "output_type": "stream",
     "text": [
      "week1 en: 970\n",
      "week1 kor: 193\n",
      "week2 en: 982\n",
      "week2 kor: 238\n",
      "week3 en: 891\n",
      "week3 kor: 134\n",
      "week4 en: 940\n",
      "week4 kor: 200\n",
      "week5 en: 525\n",
      "week5 kor: 150\n",
      "week6 en: 680\n",
      "week6 kor: 360\n",
      "week7 en: 947\n",
      "week7 kor: 361\n",
      "week8 en: 1171\n",
      "week8 kor: 246\n",
      "week9 en: 569\n",
      "week9 kor: 100\n",
      "week10 en: 753\n",
      "week10 kor: 212\n",
      "week11 en: 543\n",
      "week11 kor: 315\n",
      "week12 en: 817\n",
      "week12 kor: 191\n",
      "week13 en: 1139\n",
      "week13 kor: 277\n"
     ]
    }
   ],
   "source": [
    "week1_en = [item for item in week1 if re.search(r\"^[^가-힣ㄱ-ㅎㅏ-ㅣぁ-んァ-ン一-龥]*$\", item) and len(item)>0]\n",
    "week1_kor = [item for item in week1 if re.search(r\"[ㄱ-ㅎㅏ-ㅣ가-힣]\", item) and len(item)>0]\n",
    "print (\"week1 en:\", str(len(week1_en)))\n",
    "print (\"week1 kor:\", str(len(week1_kor)))\n",
    "week2_en = [item for item in week2 if re.search(r\"^[^가-힣ㄱ-ㅎㅏ-ㅣぁ-んァ-ン一-龥]*$\", item) and len(item)>0]\n",
    "week2_kor = [item for item in week2 if re.search(r\"[ㄱ-ㅎㅏ-ㅣ가-힣]\", item) and len(item)>0]\n",
    "print (\"week2 en:\", str(len(week2_en)))\n",
    "print (\"week2 kor:\", str(len(week2_kor)))\n",
    "week3_en = [item for item in week3 if re.search(r\"^[^가-힣ㄱ-ㅎㅏ-ㅣぁ-んァ-ン一-龥]*$\", item) and len(item)>0]\n",
    "week3_kor = [item for item in week3 if re.search(r\"[ㄱ-ㅎㅏ-ㅣ가-힣]\", item) and len(item)>0]\n",
    "print (\"week3 en:\", str(len(week3_en)))\n",
    "print (\"week3 kor:\", str(len(week3_kor)))\n",
    "week4_en = [item for item in week4 if re.search(r\"^[^가-힣ㄱ-ㅎㅏ-ㅣぁ-んァ-ン一-龥]*$\", item) and len(item)>0]\n",
    "week4_kor = [item for item in week4 if re.search(r\"[ㄱ-ㅎㅏ-ㅣ가-힣]\", item) and len(item)>0]\n",
    "print (\"week4 en:\", str(len(week4_en)))\n",
    "print (\"week4 kor:\", str(len(week4_kor)))\n",
    "week5_en = [item for item in week5 if re.search(r\"^[^가-힣ㄱ-ㅎㅏ-ㅣぁ-んァ-ン一-龥]*$\", item) and len(item)>0]\n",
    "week5_kor = [item for item in week5 if re.search(r\"[ㄱ-ㅎㅏ-ㅣ가-힣]\", item) and len(item)>0]\n",
    "print (\"week5 en:\", str(len(week5_en)))\n",
    "print (\"week5 kor:\", str(len(week5_kor)))\n",
    "week6_en = [item for item in week6 if re.search(r\"^[^가-힣ㄱ-ㅎㅏ-ㅣぁ-んァ-ン一-龥]*$\", item) and len(item)>0]\n",
    "week6_kor = [item for item in week6 if re.search(r\"[ㄱ-ㅎㅏ-ㅣ가-힣]\", item) and len(item)>0]\n",
    "print (\"week6 en:\", str(len(week6_en)))\n",
    "print (\"week6 kor:\", str(len(week6_kor)))\n",
    "week7_en = [item for item in week7 if re.search(r\"^[^가-힣ㄱ-ㅎㅏ-ㅣぁ-んァ-ン一-龥]*$\", item) and len(item)>0]\n",
    "week7_kor = [item for item in week7 if re.search(r\"[ㄱ-ㅎㅏ-ㅣ가-힣]\", item) and len(item)>0]\n",
    "print (\"week7 en:\", str(len(week7_en)))\n",
    "print (\"week7 kor:\", str(len(week7_kor)))\n",
    "week8_en = [item for item in week8 if re.search(r\"^[^가-힣ㄱ-ㅎㅏ-ㅣぁ-んァ-ン一-龥]*$\", item) and len(item)>0]\n",
    "week8_kor = [item for item in week8 if re.search(r\"[ㄱ-ㅎㅏ-ㅣ가-힣]\", item) and len(item)>0]\n",
    "print (\"week8 en:\", str(len(week8_en)))\n",
    "print (\"week8 kor:\", str(len(week8_kor)))\n",
    "week9_en = [item for item in week9 if re.search(r\"^[^가-힣ㄱ-ㅎㅏ-ㅣぁ-んァ-ン一-龥]*$\", item) and len(item)>0]\n",
    "week9_kor = [item for item in week9 if re.search(r\"[ㄱ-ㅎㅏ-ㅣ가-힣]\", item) and len(item)>0]\n",
    "print (\"week9 en:\", str(len(week9_en)))\n",
    "print (\"week9 kor:\", str(len(week9_kor)))\n",
    "week10_en = [item for item in week10 if re.search(r\"^[^가-힣ㄱ-ㅎㅏ-ㅣぁ-んァ-ン一-龥]*$\", item) and len(item)>0]\n",
    "week10_kor = [item for item in week10 if re.search(r\"[ㄱ-ㅎㅏ-ㅣ가-힣]\", item) and len(item)>0]\n",
    "print (\"week10 en:\", str(len(week10_en)))\n",
    "print (\"week10 kor:\", str(len(week10_kor)))\n",
    "week11_en = [item for item in week11 if re.search(r\"^[^가-힣ㄱ-ㅎㅏ-ㅣぁ-んァ-ン一-龥]*$\", item) and len(item)>0]\n",
    "week11_kor = [item for item in week11 if re.search(r\"[ㄱ-ㅎㅏ-ㅣ가-힣]\", item) and len(item)>0]\n",
    "print (\"week11 en:\", str(len(week11_en)))\n",
    "print (\"week11 kor:\", str(len(week11_kor)))\n",
    "week12_en = [item for item in week12 if re.search(r\"^[^가-힣ㄱ-ㅎㅏ-ㅣぁ-んァ-ン一-龥]*$\", item) and len(item)>0]\n",
    "week12_kor = [item for item in week12 if re.search(r\"[ㄱ-ㅎㅏ-ㅣ가-힣]\", item) and len(item)>0]\n",
    "print (\"week12 en:\", str(len(week12_en)))\n",
    "print (\"week12 kor:\", str(len(week12_kor)))\n",
    "week13_en = [item for item in week13 if re.search(r\"^[^가-힣ㄱ-ㅎㅏ-ㅣぁ-んァ-ン一-龥]*$\", item) and len(item)>0]\n",
    "week13_kor = [item for item in week13 if re.search(r\"[ㄱ-ㅎㅏ-ㅣ가-힣]\", item) and len(item)>0]\n",
    "print (\"week13 en:\", str(len(week13_en)))\n",
    "print (\"week13 kor:\", str(len(week13_kor)))"
   ]
  },
  {
   "cell_type": "code",
   "execution_count": 51,
   "metadata": {},
   "outputs": [
    {
     "data": {
      "text/plain": [
       "10929"
      ]
     },
     "execution_count": 51,
     "metadata": {},
     "output_type": "execute_result"
    }
   ],
   "source": [
    "len(week1_en) + len(week2_en) + len(week3_en) + len(week4_en) + len(week5_en) + len(week6_en) +len(week7_en) + len(week8_en) + len(week9_en) + len(week10_en) + len(week11_en) + len(week12_en) + len(week13_en)"
   ]
  },
  {
   "cell_type": "code",
   "execution_count": 52,
   "metadata": {},
   "outputs": [
    {
     "data": {
      "text/plain": [
       "['김치련들 다 군대보낼수 있는 방법알려준다 - YouTube',\n",
       " '여팬심 자극, 꽃게춤 리액션ㅣ디바제시카(Deeva Jessica) - YouTube',\n",
       " \"영화 '아가씨' 김민희 메이크업! l 이사배(Risabae Makeup) - YouTube\",\n",
       " \"'애봉이' 웹툰 마음의소리 분장 l 이사배(Risabae Makeup) - YouTube\",\n",
       " 'SOS! 메이크업진단! 눈이 왜 답답해 보일까요? 편 l 이사배(Risabae Makeup) - YouTube',\n",
       " '라스 이사배 - YouTube',\n",
       " '이사배 라스 크리스티나 성대모사 - YouTube',\n",
       " '양세형의 짤방공작소 - 이사배의 커버 메이크업 여기서 끝이 아니다! 20180318 - YouTube',\n",
       " '라스 이사배 대박 메이크업 실력+표정묘사(feat.아이유,수지,장첸까지 ㅋㅋ) - YouTube',\n",
       " '홍진호 이사배 - YouTube',\n",
       " '\\'라디오스타\\' 홍진호, 이사배에게 메이크업 받아..\"이상해\" - 엔터테인먼트 - YouTube',\n",
       " '이사배, 홍진호 이상형 언급에 \"노골적이네요\" - YouTube',\n",
       " '김태리 리틀 포레스트 - YouTube',\n",
       " '리틀 포레스트 2018 . 김태리 류준열 . 임순례 감독 - YouTube',\n",
       " '리틀 포레스트2:겨울과 봄 ( Little Forest: Winter&Spring, 2015) - 찐감자샐러드 , 감자빵 - YouTube',\n",
       " '[VIDEO] 리틀포레스트 여름편 홀토마토 스파게티 : Little Forest: summer&autumn, spaghetti with tomato : 꿀키 - YouTube',\n",
       " '[VIDEO] 리틀포레스트 여름편 홀토마토 스파게티 : Little Forest: summer&autumn, spaghetti with tomato : 꿀키 - YouTube',\n",
       " '영화 토스트 (Toast, 2010) - YouTube',\n",
       " '고양이는 집사랑 대화가 가능합니다 - 삐약이 쵸비 - YouTube',\n",
       " '리틀 포레스트2:겨울과 봄 (Little Forest: Winter&Spring, 2015) -달걀말이 도시락 - YouTube',\n",
       " '아가씨 (김민희, 조진웅, 하정우) - YouTube',\n",
       " '리틀 포레스트2 : 겨울과 봄 (Little Forest: Winter&Spring, 2015) - 송어 ,달래, 꽃봉오리파스타 - YouTube',\n",
       " '리틀 포레스트2: 겨울과 봄 (Little Forest: Winter&Spring, 2015) -고사리 - YouTube',\n",
       " 'Broken Love - Jaurim, 파애 - 자우림, Lalala 20090219 - YouTube',\n",
       " '파애 - YouTube',\n",
       " '* music 자우림 Jaurim 파애 - YouTube',\n",
       " '[EBS 스페이스 공감 1338회] 자우림 - 파애 - YouTube',\n",
       " '[Big Pleasure Stage #77] 자우림 - 스물다섯, 스물하나 - YouTube',\n",
       " \"유승준 사과방송 후 '개씨발시키' 욕설 논란 - YouTube\",\n",
       " '스티븐유 사과 - YouTube',\n",
       " '곽찬양 - YouTube',\n",
       " '어린 도전자들 결승전에서 술찾는 박준우 셰프ㅋㅋ [아이엠 셰프 10회] 20180211 - YouTube',\n",
       " '곽찬양 과메기 - YouTube',\n",
       " '주니어 도전자들의 맘을 빼앗은 훈남 도전자 [아이엠 셰프 1회] 20171210 - YouTube',\n",
       " '리틀 포레스트2:겨울과 봄 (Little Forest: Winter&Spring, 2015) -무말랭이 ,곶감 - YouTube',\n",
       " '리틀 포레스트2: 겨울과 봄 (Little Forest: Winter&Spring, 2015) - 낫토 - YouTube',\n",
       " '줄리아 & 줄리아 - YouTube',\n",
       " '줄리 & 줄리아(Julie & Julia, 2009) - 가자미 버터구이 - YouTube',\n",
       " '줄리 & 줄리아 (Julie & Julia, 2009) - 비프 부르기뇽 - YouTube',\n",
       " '줄리 & 줄리아(Julie & Julia, 2009) - 홀란데이즈 소스 ,수란 - YouTube',\n",
       " '줄리앤줄리아 속 버섯, 와인, 크림을 넣은 닭요리 : Chicken with cream sauce from the movie ‘Julie & Julia’ | Honeykki 꿀키 - YouTube',\n",
       " \"그 유명한 '영국날씨' 실화인가?!?? - YouTube\",\n",
       " '국가비GabieKook - YouTube - YouTube',\n",
       " '원팬 프로방스 닭가슴살 스테이크! - YouTube',\n",
       " '부추전 - 바삭바삭 튀김같은 전 만드는 방법 - YouTube',\n",
       " '미나리바지락 - YouTube',\n",
       " '리틀포레스트 속 봄나물 튀김(with 옥션) : Fried Spring Herbs from the movie Little Forest | Honeykki 꿀키 - YouTube',\n",
       " '고양이가 벌레 잡는 법 🐞 제압! vs 칭구칭구~ - YouTube',\n",
       " '꿀키honeykki - YouTube - YouTube',\n",
       " '고양이가 눈곱 닦으면 얼마나 예뻐지게요~? - YouTube',\n",
       " '[행복이의 보듬일기] 골든리트리버 행복이 억울한 표정 짓는 모습 - YouTube',\n",
       " '테트리스 탑쌓기 게임?! [트리키 타워] 풍월량 인증 갓겜! (Tricky Towers) - YouTube',\n",
       " '전세계 유행한 추억돋는 그 게임! [광란의 수족관 엔딩] 보스가 이랬어? - YouTube',\n",
       " '용사가 있는 이세계 잡화점에서 물약을 팔게 된 사건! [잡화점 타이쿤+] - YouTube',\n",
       " '풍월량 - YouTube - YouTube',\n",
       " '웅냥 우웅 므앙 수다쟁이 꼬부기의 아그작 아그작 - YouTube',\n",
       " '헤이즈 (Heize) - Shut Up & Groove (Feat. DEAN) MV - YouTube',\n",
       " '[온스테이지] 279. 딘 (DEAN) - D (half moon) - YouTube',\n",
       " '치즈 (CHEEZE) - 조별과제 - YouTube',\n",
       " '펀치넬로 Punchnello - Pretty Boy Fly - YouTube',\n",
       " '[MV] 에디킴 Eddy Kim - 팔당댐 Paldangdam (Feat. 빈지노 Beenzino) - YouTube',\n",
       " '[MV] 산이, 매드클라운(San E, Mad Clown) _ 못먹는 감(Sour Grapes) - YouTube',\n",
       " 'Lee Hi (이하이) - Special (Feat. Jennie Kim Of YG New Artist) - YouTube',\n",
       " 'O3 Brown Eyed Girls (브라운 아이드 걸스 )- Wave [ FULL AUDIO ] - YouTube',\n",
       " '[티비플]쌀과자먹는소리 - YouTube',\n",
       " '쌀과자 먹는 소리 - YouTube',\n",
       " '[ 고양이외삼촌 ] 주인 때리는 고양이 체리 _ Cat beats up her owner _ 所有者を殴る猫 - YouTube',\n",
       " '고양이 발톱깎기: 순둥이 vs 보통반응 CAT NAIL TRIMMING: EASY KITTY vs COMMON REACTION - YouTube',\n",
       " '(초귀욤주의) 고양이 발톱깎기 ✂️ 집사 난이도 최상의 일 - YouTube',\n",
       " 'Elizabeth Bright - 세상의 약속 - YouTube',\n",
       " '에피톤 프로젝트 - 환절기 - YouTube',\n",
       " '백야 (Piano Ver.) by 짙은 - YouTube',\n",
       " '꼬부기 형아야 간식 먹어도 돼? - YouTube',\n",
       " '[마녀의 집] 풍월량의 공포게임 #5 - YouTube',\n",
       " '[마녀의 집] 풍월량의 공포게임 #4 - YouTube',\n",
       " '[마녀의 집] 풍월량의 공포게임 #2 - YouTube',\n",
       " '[마녀의 집] 풍월량의 공포게임 #1 - YouTube',\n",
       " '마녀의 집 풍월량 - YouTube',\n",
       " '테일즈위버 TalesWeaver OST : \"Reminiscence\" Piano cover 피아노 커버 - YouTube',\n",
       " '공일오비(015B) - 1월부터 6월까지 (From January to June) (Piano Cover) - YouTube',\n",
       " '015B 이젠안녕(inst.) - YouTube',\n",
       " '센과 치히로의 행방불명 OST - 생명의 이름 - YouTube',\n",
       " '[낮사람] 김동률 - 희망 (Piano Cover) - YouTube',\n",
       " 'Elizabeth Bright - 세상의 약속 - YouTube',\n",
       " '에피톤 프로젝트 - 환절기 - YouTube',\n",
       " \"세상에 나쁜 개는 없다 - '유기견 입양 프로젝트' 하누를 부탁해_#003 - YouTube\",\n",
       " \"세상에 나쁜 개는 없다 - '유기견 입양 프로젝트' 하누를 부탁해_#003 - YouTube\",\n",
       " '오직 봄철에만 먹는다. 사백어, 死白魚, ice goby, 병아리 [어영차바다야] - YouTube',\n",
       " '말미잘을 맛으로 즐긴다고요? [어영차바다야] - YouTube',\n",
       " '[낮사람] 김동률 - 희망 (Piano Cover) - YouTube',\n",
       " '에피톤 프로젝트 - 환절기 - YouTube',\n",
       " '세상에 나쁜 개는 없다 - 대형견과 아기의 위험한 동거_#003 - YouTube',\n",
       " '세상에 나쁜 개는 없다 - 대형견과 아기의 위험한 동거_#002 - YouTube',\n",
       " '정창욱 셰프의 재첩 봉골레 파스타 - YouTube',\n",
       " '세상에 나쁜 개는 없다 - 어서와~ 강형욱의 개(犬)스트하우스_#003 - YouTube',\n",
       " '세상에 나쁜 개는 없다 - 어서와~ 강형욱의 개(犬)스트하우스_#002 - YouTube',\n",
       " '쥐포의 재료 쥐치, 회로도 먹는다? [어영차바다야] - YouTube',\n",
       " '[보듬교육] 내가 만약 리트리버를 키운다면 세미나 3부 - YouTube',\n",
       " '[반려견 기초 상식] 식용견사에서 구조된 ‘도도’의 세상으로의 도약 - YouTube',\n",
       " '세상에 나쁜 개는 없다 - 최고의 날 149마리의 식용견을 구하라_#003 - YouTube',\n",
       " '강형욱 도도 - YouTube',\n",
       " '세상에 나쁜 개는 없다 - 어서와~ 강형욱의 개(犬)스트하우스_#001 - YouTube',\n",
       " '세상에 나쁜 개는 없다 - 어서와~ 강형욱의 개(犬)스트하우스 제2탄_#001 - YouTube',\n",
       " '세상에 나쁜 개는 없다 - 어서와~ 강형욱의 개(犬)스트하우스 제2탄_#002 - YouTube',\n",
       " '이색 ‘게’ 열전! 참게와 민꽃게(돌게, 박하지)! [어영차바다야] - YouTube',\n",
       " '호랑이를 닮은 범게 [어영차바다야] - YouTube',\n",
       " \"[한글자막] 빌 버 - 자기만 고고한 척 하는 오프라 윈프리 (코난쇼 conan o'brien/빌 버 Bill Burr) - YouTube\",\n",
       " '빌 버 - 페미니스트 시위(코난 쇼 인터뷰) - YouTube',\n",
       " '빌버 페미니즘 - YouTube',\n",
       " '빌버 코난 - YouTube',\n",
       " \"루이스 C.K. 코난 쇼 '사람들은 왜 살인을 더 안 할까?' (한글 자막) - YouTube\",\n",
       " 'Louis C.K. - Gay Marriage, Ewan McGregor (한글자막) (Shameless, 2007, HBO) - YouTube',\n",
       " '코난 오브라이언 2011 다트머스대학 졸업 축사(한글자막) - YouTube',\n",
       " '[1화] 조든 슐랜스키의 더러운 사무실을 청소하는 코난 오브라이언! - 코난쇼 - YouTube',\n",
       " '코난과 조든 슐랜스키가 이탈리아 여행의 계획을 세우다 2부 - YouTube',\n",
       " '꽃게계의 숨은 강자, 톱날 꽃게 [어영차바다야] - YouTube',\n",
       " '왕밤송이 털게를 소개합니다 [어영차바다야] - YouTube',\n",
       " '심야식당 속 오므라이스 : Omurice(Omelet Rice) from the Netflix drama Midnight Dinner | Honeykki 꿀키 - YouTube',\n",
       " '[셰프의 한 수] 모시조개 해감하기 - YouTube',\n",
       " '발품팔아 얻은 보석,가무락(모시조개) [어영차 바다야 제철수산] - YouTube',\n",
       " '탕탕이 - YouTube',\n",
       " '[food101] 낙지육회 탕탕이 - YouTube',\n",
       " \"[리플] 엄마가 해주던 '낙지탕탕이'를 직접 해 보았다! 손 끝으로 전해오는 낙지의 숨결 리뷰...(with.공대생,김하나) | Ripple_S - YouTube\",\n",
       " '영국남자 탕탕이 - YouTube',\n",
       " '극강의 싱싱함! 뿔소라, 참소라 [어영차바다야] - YouTube',\n",
       " '꼬들꼬들 입맛살리는 소라 [어영차바다야-황교익 해설] - YouTube',\n",
       " '멍게요리열전- 멍게해물뚝배기, 멍게구절판, 멍게파스타, 매생이멍게부침개 [어영차바다야] - YouTube',\n",
       " '강레오 셰프의 손끝에서 탄생한 신개념 바지락 요리 [바다한상] - YouTube',\n",
       " '최현석 셰프가 개발한 신개념 꽃게 요리 - YouTube',\n",
       " '입맛 돌아온다. 톡톡! 미더덕, 오만둥이 [어영차바다야] - YouTube',\n",
       " '게맛 밥도둑, 꽃게요리열전 [어영차바다야-황교익 해설] - YouTube',\n",
       " \"전기도 없이 사는 오지 셰프의 '야생 밥상' - YouTube\",\n",
       " '차이다오로 만든 국화꽃 ‘쥐화위’ - YouTube',\n",
       " '중국식 ‘두부 두루치기’와 ‘계수나무 꽃 양갱’ - YouTube',\n",
       " '여경래 셰프의 전통방식 두부 만들기! - YouTube',\n",
       " '일본 우레시노의 명물 ‘온천탕두부’ - YouTube',\n",
       " '욕지도의 봄맞이 음식, ‘도다리 쑥국’ - YouTube',\n",
       " '[보듬교육] 내가 만약 리트리버를 키운다면 세미나 2부 - YouTube',\n",
       " '[보듬교육] 내가 만약 리트리버를 키운다면 세미나 1부 - YouTube',\n",
       " '[ENG SUB] VLOG #10 하루세끼, 양배추스튜와 초간단 떡볶이 : What I eat in a day, stew and tteokbokki | Honeykki 꿀키 - YouTube',\n",
       " '[ENG SUB] VLOG #13 하루세끼, 파스타와 제육볶음 : What I eat in a day, Pasta and spicy pork | Honeykki 꿀키 - YouTube',\n",
       " '탈조힘죠 - YouTube - YouTube',\n",
       " '길거리 호신술 연습 - YouTube',\n",
       " '후부샹 먹자골목, 마오쩌둥이 즐겨 먹은 ‘우창위’ 요리 - YouTube',\n",
       " '일본 규슈 우레시노, ‘미인 온천’과 가이세키 요리 - YouTube',\n",
       " '풍피셜] 에버랜드 정모 없다!! - YouTube',\n",
       " '크림치즈 프렌치 토스트 : Stuffed French Toast | Honeykki 꿀키 - YouTube',\n",
       " '꿀키 프렌치토스트 - YouTube',\n",
       " '녹차 티라미수 : Green Tea Tiramisu : 抹茶ティラミス : 꿀키 - YouTube',\n",
       " '풍뎅이 정신공격, 효과는 굉장했다! [골프공게임 하이라이트] Golfing Over It - YouTube',\n",
       " '풍월량의 굶지마 멀티! 베타 4명과 함께!! #3 - 돈스타브(Dont starve) - YouTube',\n",
       " '호라이즌 제로 던 악마의 갈증 도적단 잠입 - YouTube',\n",
       " '호라이즌 제로 던 가마솥 SIGMA 불 벨로우백 - YouTube',\n",
       " '호라이즌 제로 던(Horizon Zero Dawn) - 가마솥SIGMA 보스전(불 벨로우벡) - YouTube',\n",
       " '파이어 벨로우백 가마솥 - YouTube',\n",
       " '푸드 포르노를 만들어보았다 Food Porn / 한 번쯤 볼만한 요리 채널 / 씨즐 Sizzle - YouTube',\n",
       " '새우구이 / 새우요리 / 캠핑요리 / Shrimp Smoke / Camping / 캠핑한끼 - YouTube',\n",
       " '봄나물 열전! 노고단 봄나물 수확 나들이 - YouTube',\n",
       " '[MV] HYUKOH (혁오) - GONDRY (공드리) - YouTube',\n",
       " '모로코에서 가장 유명한 굴 식당, 프랑스식 굴요리 - YouTube',\n",
       " '국수기행, 원주 할머니의 손맛 ‘막국수’ - YouTube',\n",
       " '춤추다 진짜 죽을뻔함ㅠ 풍월량과 꿀미의 저스트댄스 2018! Just Dance 2018 - YouTube',\n",
       " '술키의 꿀안주, 어묵꼬치탕 : Fish cake soup : おでん鍋 : 꿀키 - YouTube',\n",
       " '가쓰오부시 오뎅탕 - YouTube',\n",
       " '복어의 고장 시모노세키! 명물 복어회 - YouTube',\n",
       " '공일오비(015B) - 1월부터 6월까지 (From January to June) (Piano Cover) - YouTube',\n",
       " '015B 이젠안녕(inst.) - YouTube',\n",
       " '백야 (Piano Ver.) by 짙은 - YouTube',\n",
       " '보라돌이 - YouTube - YouTube',\n",
       " '메콩강의 별미, 거대 우렁이 요리! - YouTube',\n",
       " '인도네시아 모라 라야 어시장, 닭새우 요리 먹기 - YouTube',\n",
       " '겨울 필수 여행지! 홋카이도 ‘삿포로 눈 축제‘ (Sapporo Snow Festival, Sapporo Yuki Matsuri) - YouTube',\n",
       " '요부코 새벽 시장, 오징어회 정식 - YouTube',\n",
       " \"비오는 날, 일본식 수제비 '당고지루' - YouTube\",\n",
       " \"일본 옛 어부들이 먹던 '테코네스시' - YouTube\",\n",
       " '일본 명문 요리 료칸 ‘미야마소’ 가이세키 요리 - YouTube',\n",
       " \"두부를 실처럼 만드는 중국 칼 ‘차이다오’ (Chinese Chef's Unbelievable Knife Skills) - YouTube\",\n",
       " '[가을이 일상] 솜방망이로 집사 폭행하는 고양이- 랙돌, 렉돌(Ragdoll) 귀여운 고양이 가을이 - YouTube',\n",
       " '최고급 흰살생선 킨메다이 손질 Splendid Alfonsino KINME-DAI filleted to Sashimi 金目鯛をさばく。 - YouTube',\n",
       " '[아오＆아키 / あお＆あき] 꽃과 냥이들🌷 花と猫。(랙돌 렉돌 생후１년、９개월) - YouTube',\n",
       " '青い秋空푸른가을하늘 / - YouTube - YouTube',\n",
       " '[아키/あき] 평온하게 발톱 깎는 아키 おとなしく爪を切らせるあきちゃん(랙돌 렉돌, 생후４개월) - YouTube',\n",
       " '랙돌 목욕 - YouTube',\n",
       " '[ 고양이 외삼촌 ] 고양이 목욕 그후 _ Dry cat hair after bathing _ すべすべ猫の毛乾燥 - YouTube',\n",
       " '[ 고양이외삼촌 ] 주인 때리는 고양이 체리 _ Cat beats up her owner _ 所有者を殴る猫 - YouTube',\n",
       " '[ 고양이외삼촌 ] 너무 쉬운 고양이 목욕 _ Cat bathing was easy _ シャワーするときおとなしい猫 - YouTube',\n",
       " '고양이 치순이 목욕시키기! (치순&콩이, Chisoon&Kong Lovely Cat) - YouTube',\n",
       " '개미왕국] #2 개미크래프트 지상진출! 갈수록 갓겜 Empires of the Undergrowth - YouTube',\n",
       " '개미왕국] #1 개미로 스타크래프트 하는 갓게임! Empires of the Undergrowth - YouTube',\n",
       " '개미왕국] #2 개미크래프트 지상진출! 갈수록 갓겜 Empires of the Undergrowth - YouTube',\n",
       " '개미왕국] #1 개미로 스타크래프트 하는 갓게임! Empires of the Undergrowth - YouTube',\n",
       " '어 웨이 아웃] 5화 인성학살듀오의 탈옥, 복수전! 프리즌브레이크! (번역) A WAY OUT - YouTube',\n",
       " '어 웨이 아웃] 5화 인성학살듀오의 탈옥, 복수전! 프리즌브레이크! (번역) A WAY OUT - YouTube',\n",
       " '초대형 칠면조 가즈아 🔥 / 칠면조 turkey SWAG / 씨즐 Sizzle - YouTube',\n",
       " \"(UP) 일본 밥상의 주연, 일본식 장아찌 '쯔께모노' - YouTube\",\n",
       " '모로코 에사우이라의 명물, 정어리와 대게 - YouTube',\n",
       " '【풍터스텔라】 S.T.A.Y..! 감옥탈출 멘붕 레전드 엔딩~ (초반유튭자막설명/더 이스케이피스트) - YouTube',\n",
       " '【풍터스텔라】 S.T.A.Y..! 감옥탈출 멘붕 레전드 엔딩~ (초반유튭자막설명/더 이스케이피스트) - YouTube',\n",
       " '풍터스텔라 - YouTube',\n",
       " '어 웨이 아웃] 3화 목숨걸고 탈옥하는 길치박치듀오, 프리즌브레이크! (번역) A WAY OUT - YouTube',\n",
       " '랍스터 도전! 버릴것 없이 모두 사용한 바닷가재 파스타!/ Lobster Pasta / 씨즐 Sizzle - YouTube',\n",
       " '나쁜 김장 도전! / 보쌈&굴 / Kimchi / 씨즐 Sizzle - YouTube',\n",
       " '씨즐 Sizzle - YouTube - YouTube',\n",
       " '뵈프 부르기뇽 도전! 즐거운 할로윈 되세요! / Boeuf Bourguignon! Happy Halloween! / 씨즐 Sizzle - YouTube',\n",
       " '미디움 레어 김밥🔥 / 삼겹살 김밥 이어 스테이크 김밥 도전해보았다 / 씨즐 Sizzle - YouTube',\n",
       " '스테인리스 팬을 사용해 보았다 구우면 벌어지는 일 / 한번쯤은 알아두면 좋은 팁 / How to use stainless pan / 씨즐 Sizzle - YouTube',\n",
       " \"파크라이5] 5화 환각, 곰 그리고 미친 교주!! 풍월량 Far Cry 5: Inside Eden's Gate - YouTube\",\n",
       " \"청산도의 맛, '톳 나물‘과 ’유채나물‘ - YouTube\",\n",
       " '오사카의 스시, ‘하코스시‘ - YouTube',\n",
       " \"일 년을 기다려야 먹을 수 있는 ‘후나스시’ (Funazushi - Japan's Most Exotic Sushi) - YouTube\",\n",
       " '최고의 요리비결 플러스 - 코다리 무조림 - YouTube',\n",
       " 'korean food : 백종원 집밥 백선생 스타일 무조림 - YouTube',\n",
       " '무조림 - YouTube',\n",
       " '무조림 :: How to make Simmered Daikon [Korean Food] - YouTube',\n",
       " '[요리]일본인이라면 누구나 아는 일본요리. 부리다이콘(방어 무 조림)ぶり大根を作ります。 - YouTube',\n",
       " '‘무조림’ 조리시간 절반 단축하는 비법! [만물상 215회] 20171022 - YouTube',\n",
       " '백선생표 무 없는 ′고등어조림′ 꿀팁 공개! 집밥 백선생 8화 - YouTube',\n",
       " '생선따위 필요없는 백쌤의 ′무조림′ 만들기! 집밥 백선생 16화 - YouTube',\n",
       " 'tvnzipbob3 NEW밥도둑 등장?! ′참치쌈장′ 레시피 대공개! 170516 EP.14 - YouTube',\n",
       " 'tvnzipbob3 참치쌈장과 쌈채소가 만나면? ′참치주먹쌈밥′ 완성! 170516 EP.14 - YouTube',\n",
       " '춤추다 진짜 죽을뻔함ㅠ 풍월량과 꿀미의 저스트댄스 2018! Just Dance 2018 - YouTube',\n",
       " \"세계에서 가장 맛있는 음식 2위 '나시고렝' (Nasi goreng - Indonesian stir-fried rice) - YouTube\",\n",
       " '어 웨이 아웃] 3화 목숨걸고 탈옥하는 길치박치듀오, 프리즌브레이크! (번역) A WAY OUT - YouTube',\n",
       " '[온스테이지 플러스] 19. 언니네 이발관 - 아름다운 것 - YouTube',\n",
       " '[온스테이지 플러스] 19. 언니네 이발관 - 아름다운 것 - YouTube',\n",
       " '[온스테이지 플러스] 07. 자우림 - 낙화 - YouTube',\n",
       " '[온스테이지 플러스] 07. 자우림(JAURIM) - 스물다섯, 스물하나 - YouTube',\n",
       " '[온스테이지] 314. 잔나비 - Goodnight + 뜨거운 여름밤은 가고 남은 건 볼품없지만 - YouTube',\n",
       " \"EPIK HIGH - '빈차 (HOME IS FAR AWAY)' + '연애소설 (LOVE STORY)' M/V - YouTube\",\n",
       " 'TAEYEON (태연) - 수채화 (Love in Color) (Audio) [My Voice - The 1st Album] - YouTube',\n",
       " 'IU (아이유) - 이런 엔딩 (Ending Scene) (MP3 Audio) [Palette] - YouTube',\n",
       " '정창욱 셰프의 홋카이도산 사슴 스테이크와 사슴 불고기 - YouTube',\n",
       " '홋카이도 명물 빙어튀김과 구운 게 - YouTube',\n",
       " \"삿포로의 별미, '닭고기 수프카레' - YouTube\",\n",
       " '백야 (Piano Ver.) by 짙은 - YouTube',\n",
       " '자우림 - 낙화 - YouTube',\n",
       " '낙화 - YouTube',\n",
       " \"[Audio] 언니네 이발관 - 누구나 아는 비밀 (With 아이유), Sister's Barbershop - A Secret Everyone Knows (With IU) - YouTube\",\n",
       " '배그 사냥모드 느낌의 사냥꾼 게임! [헌팅 시뮬레이터] 풍월량 (Hunting Simulator) - YouTube',\n",
       " '락오브에이지2] #1 돌굴려서 성문 뿌수는 미친 게임! (Rock of Ages II : Bigger & Boulder) - YouTube',\n",
       " '수어사이드 가이] #5(완) 난 대체 얼마나 죽은 거지?! 죽어야 사는 남자 엔딩! (Suicide Guy) - YouTube',\n",
       " '[MV] JANNABI(잔나비) _ Summer(뜨거운 여름밤은 가고 남은 건 볼품없지만) - YouTube',\n",
       " '인사담당자가 자녀의 자기소개서를 읽어본다면 - YouTube',\n",
       " '개냥이 너무너무 사랑스럽내요(Cat Love,고양이 사랑) - YouTube',\n",
       " '어 웨이 아웃] 3화 목숨걸고 탈옥하는 길치박치듀오, 프리즌브레이크! (번역) A WAY OUT - YouTube',\n",
       " '곰인형 강아지 - YouTube',\n",
       " '인형 푸들 - YouTube',\n",
       " '어 웨이 아웃] 2화 엉망진창 탈옥이야!! 길치박치듀오의 프리즌브레이크! (번역) A WAY OUT - YouTube',\n",
       " '어 웨이 아웃] 1화 길치박치듀오의 알콩달콩탈옥, 프리즌브레이크! (번역) A WAY OUT - YouTube',\n",
       " '맥심에서 화보찍은 남자 [풍월량] 인터뷰 풀영상! (스트리머 입니다) - YouTube',\n",
       " 'VLOG #12 하루세끼, 카야토스트, 딸기청 그리고 부대찌개 : What I eat in a day, kaya toast & budae-jjigae | Honeykki 꿀키 - YouTube',\n",
       " '도전! 샤오롱바오 : Xiao-long-bao (Steamed Soup Dumplings) | Honeykki 꿀키 - YouTube',\n",
       " '🌹감성자극 지브리 애니 OST 모음🍒Studio Ghibli Best Songs Collection(Relaxing Piano)スタジオジブリ BGM🌹 - YouTube',\n",
       " '파이어 벨로우백 - YouTube',\n",
       " '아기 키우기가 이렇게 어렵습니다!! 극한육아 [엄마 시뮬레이터] Mother Simulator - YouTube',\n",
       " '풍월량 맥심 유출본] 머리크기 왜 저래? 사기당했네!! - YouTube',\n",
       " '크라켄vs쉐풍 해적단! 대부분은 버그입니다 [씨 오브 시브즈] 멀티 Sea of Thieves - YouTube',\n",
       " '봉골레 파스타 / Vongole Pasta / 캠핑요리 / 솔로캠핑 / Camping, Cooking / 캠핑한끼 - YouTube',\n",
       " '언니네 이발관 - 홀로 있는 사람들 - YouTube',\n",
       " \"언니네 이발관 (Sister's Barbershop) - 혼자 추는 춤 - YouTube\",\n",
       " '풍월량&쉐리 덤앤더머 해적단 결성! 노인들과 바다 [씨 오브 시브즈] 멀티 Sea of Thieves - YouTube',\n",
       " '컴퓨터실에서 몰래 했던 물고기 키우는 게임! [광란의 수족관] 시간순삭 - YouTube',\n",
       " '🌹감성자극 지브리 애니 OST 모음🍒Studio Ghibli Best Songs Collection(Relaxing Piano)スタジオジブリ BGM🌹 - YouTube',\n",
       " '🌹감성자극 지브리 애니 OST 모음🍒Studio Ghibli Best Songs Collection(Relaxing Piano)スタジオジブリ BGM🌹 - YouTube',\n",
       " '연연 - 성시경(그들이 사는 세상 OST) - YouTube',\n",
       " '에픽하이(Epik high) - 1분 1초 (Feat. 타루) - YouTube',\n",
       " 'Lucid Fall 3rd - 바람, 어디에서 부는지 - YouTube',\n",
       " '치즈(CHEEZE) - 망고(Mango) MV - YouTube',\n",
       " 'Acoustic Collabo - It’s Strange, With You (묘해, 너와) Discovery of Romance OST Part.4 - YouTube',\n",
       " '\" The time of walking on remembrance \"(기억을 걷는 시간) - Nell(넬) - YouTube',\n",
       " '06. 아이유 (IU) - 여름밤의 꿈 (미니앨범 - 꽃갈피) - YouTube',\n",
       " \"NELL 넬 '1:03 NELL's ROOM 2013 Live' - YouTube\",\n",
       " '이소라 봄 - YouTube',\n",
       " '풍월량의 굶지마 멀티! 베타 4명과 함께!! #2 - 돈스타브(Dont starve) - YouTube',\n",
       " '풍월량의 굶지마 멀티! 베타 4명과 함께!! #1 - 돈스타브(Dont starve) - YouTube',\n",
       " '굶지마 풍월량 - YouTube',\n",
       " '만들고 사냥하고! 귀여운 생존게임 [와이랜드] 싱글! YLands - YouTube',\n",
       " '뚜벅초 기생수로 진화!! 어메이징한 최후 [포트나이트 배틀로얄] - YouTube',\n",
       " '드디어 해냈다! 답은 갓물주: 마리오 엔딩!! [포트나이트 배틀로얄] - YouTube',\n",
       " '배신?협력? 인생은 실전이야! 흑우들을 위한 게임이론 [신뢰의 진화] - YouTube',\n",
       " \"오합지졸 유사해적단 '와베스'호 출항! [씨 오브 시브즈] 멀티 Sea of Thieves - YouTube\",\n",
       " '풍월량이 넷! 개노답 해적단 출항! [씨 오브 시브즈] Sea of Thieves - YouTube',\n",
       " \"대기업 면접! '와베스호' 해적단원 뽑기 [씨 오브 시브즈] 멀티 Sea of Thieves - YouTube\",\n",
       " \"오합지졸 유사해적단 '와베스'호 출항! [씨 오브 시브즈] 멀티 Sea of Thieves - YouTube\",\n",
       " '화난형 - YouTube',\n",
       " '화난형]출항이다 시오브씹스 - YouTube',\n",
       " '화난형]출항이다 시오브씹스 - YouTube',\n",
       " '수어사이드 가이] #1 아무튼, 죽어야 사는 남자! 정말 이상한 게임 (Suicide Guy) - YouTube',\n",
       " '스타 유즈맵] 눈치보며 가스짓기!! 눈치게임/관전 (스타크래프트 리마스터) - YouTube',\n",
       " '[마영전] 마비노기 속옷전 미드OP 아리샤 - 풍월량의 마비노기영웅전 - YouTube',\n",
       " '[스펠렁키] 더럽게 화나는게임 1화 -풍월량 코믹게임방송 (spelunky) - YouTube',\n",
       " '김동률 피아노 메들리 (Kim Dong Ryul Piano Collection) - YouTube',\n",
       " '테일즈위버 TalesWeaver OST : \"Reminiscence\" Piano cover 피아노 커버 - YouTube',\n",
       " '공일오비(015B) - 1월부터 6월까지 (From January to June) (Piano Cover) - YouTube',\n",
       " '[김재환 옹성우] 브이앱 시작하는지도 모르고 투닥대는 김재환 옹성우 - YouTube',\n",
       " '[워너원/배진영] 붐붐붐붐 부메랑ㅋㅋㅋㅋㅋㅋㅋㅋㅋㅋㅋㅋㅋㅋㅋㅋㅋㅋㅋㅋㅋㅋㅋㅋ - YouTube',\n",
       " '[4K] 171215 워너원 팬콘 만보기 흔들기 옹성우 - YouTube',\n",
       " '[4K] 171013 마닐라 팬미팅 l HANDS ON ME l Focus. WANNAONE 옹성우 - YouTube',\n",
       " \"[4K] 170930 워너원 (Wanna One), 옹성우 'NEVER' 직캠 by 도라삐 @ 피버페스티벌, 서울광장 - YouTube\",\n",
       " '170909 INK 나야나(PICK ME) 옹성우 포커스 / WANNA ONE ongseongwu focus - YouTube',\n",
       " '[4K] 171202 MMA 멜론 뮤직 어워드 l Beautiful l WANNAONE 옹성우 직캠 - YouTube',\n",
       " '옹성우 직캠 - YouTube',\n",
       " '워너원(Wanna One), 옹민환 누우우우나~ 애교 ㅋㅋㅋㅋ - YouTube',\n",
       " '워너원 - YouTube',\n",
       " \"Wanna One (워너원) - 'BOOMERANG (부메랑)' M/V - YouTube\",\n",
       " '호라이즌 제로 던 4화 (Horizon Zero Dawn)[PS4] -홍방장 - YouTube',\n",
       " '호라이즌 제로 던 3화 (Horizon Zero Dawn)[PS4] -홍방장 - YouTube',\n",
       " '호라이즌 제로 던 2화 (Horizon Zero Dawn)[PS4] -홍방장 - YouTube',\n",
       " '인류멸망을 막을 마지막 희망! 호라이즌 제로 던 1화 (Horizon Zero Dawn)[PS4] -홍방장 - YouTube',\n",
       " '호라이즌 제로 던 홍방장 - YouTube',\n",
       " '알파고와 캐치마인드를 했더니 농락당해버렸다!! [Quick, Draw!] 구글 딥러닝 그림그리기 게임 - YouTube',\n",
       " '1박2일 박보영 애교 엄마야...♥(park bo young) - YouTube',\n",
       " '데프콘 차태현 유혹 - YouTube',\n",
       " '팽이치기-팬티지림-팬티젖음 - YouTube',\n",
       " '[온스테이지] 314. 잔나비 - Goodnight + 뜨거운 여름밤은 가고 남은 건 볼품없지만 - YouTube',\n",
       " '자동세차할 때 강아지의 반응(놀람주의) /곰탱이(Gom&Taeng) / 시바견 / shibainu - YouTube',\n",
       " '개엄살 주사 놓지도 않았는데 소리지르고 난리치는 시바견/ 곰이 탱이 - YouTube',\n",
       " '풍월량 [파타퐁] 전설의 빡종 사건!! \"그 게임 공개\" - YouTube',\n",
       " '빡종 풍월량 - YouTube',\n",
       " '[풍월량] 전설의 빡종 & 비하인드 - YouTube',\n",
       " '빡종했던 그 게임 [파타퐁] 봉인해제! 풍월량 리듬재활훈련 - YouTube',\n",
       " '※주의! 세상에서 가장 기괴한 공포 사이트 [팬시 아일랜드] 고양이소녀에 낚시 당했다! - YouTube',\n",
       " '모잘알 풍월량] 제 바탕화면 스타일은요! - YouTube',\n",
       " '풍월량 - YouTube - YouTube',\n",
       " '[행복이의 보듬일기] 골든 리트리버 행복이 생후 81일째 되는 날 - YouTube',\n",
       " '[행복이의 보듬일기] 골든 리트리버 반려견 교육 Thinking Training - YouTube',\n",
       " '[행복이의 보듬일기] 골든 리트리버 행복이 생후 80일째 되는 날 - YouTube',\n",
       " '[행복이의 보듬일기] 골든 리트리버 강아지 행복이 입양한 날 첼시와 다올이 소개시켜주기 - YouTube',\n",
       " '강형욱 다올이 - YouTube',\n",
       " '[직장인 최씨] 강형욱 훈련사님의 반려견, 첼시의 생활 밀착형 출근 스토리 1화 - YouTube',\n",
       " '강형욱의 견종백과 - YouTube',\n",
       " '영화 ‘줄리앤줄리아’ 속 뵈프 부르기뇽 : Boeuf Bourguignon from the movie ‘Julie & Julia’ | Honeykki 꿀키 - YouTube',\n",
       " '불닭볶음면 중독자에게 해주는 홈메이드 까르보불닭🔥🐔 - YouTube',\n",
       " '06. 아이유 (IU) - 여름밤의 꿈 (미니앨범 - 꽃갈피) - YouTube',\n",
       " '이소라 봄 - YouTube',\n",
       " '풍월량!! 울지말고 게임해ㅠㅠ [파타퐁] 울먹울먹 하이라이트 - YouTube',\n",
       " '떠먹는 감자피자 / 감자전 / 캠핑요리 / Potato Pizza / Camping, Cooking / 캠핑한끼 - YouTube',\n",
       " '캠핑한끼 - YouTube - YouTube',\n",
       " '선풍기 바람 맞는 고양이 - 짧은 영상 모음 - YouTube',\n",
       " '네? 풍월량이 [맥심]에 나온다구요? 진짜 맥심 인터뷰썰 - YouTube',\n",
       " '원아워 원라이프] #3 악마의 아이 풍! 나 혼자 산다 one hour one life - YouTube',\n",
       " '원아워 원라이프] #2 핵소름 늑대엄마의 비밀!! 멀티생존게임 one hour one life - YouTube',\n",
       " '짙은(Zitten)- 곁에 - YouTube',\n",
       " '[KOR SUB] 후계자에게 참 교육 주는 코난 오브라이언 2부 - YouTube',\n",
       " '[KOR SUB] 후계자에게 참 교육 주는 코난 오브라이언 1부 - YouTube',\n",
       " '[KOR SUB] 남부 예절 학교에 간 코난 오브라이언 2부 - YouTube',\n",
       " '[일본예능] 다양해지는 일본의 통신제 고등학교의 실태 - YouTube',\n",
       " '[KOR SUB] 남부 예절 학교에 간 코난 오브라이언 1부 - YouTube',\n",
       " '[Gordon Ramsay, 고든램지] 고든램지가 요리사들에게 푸아그라는 어떻게 요리하는지 보여주다(자막) - YouTube',\n",
       " '원아워 원라이프] #3 악마의 아이 풍! 나 혼자 산다 one hour one life - YouTube',\n",
       " '스타 레전드] 컴퓨터인척 하는 연기달인들! 진짜 사람을 찾아라! [유즈맵/스타크래프트 리마스터] 중년탐정 풍전일 - YouTube',\n",
       " '[ 고양이 외삼촌 ] 렉돌 고양이의 개냥성과 순함의 정도 _ You will see how gentle a ragdoll cat can be _ 非常におとなしいレクドル猫 - YouTube',\n",
       " '렉돌 - YouTube',\n",
       " '레그돌 - YouTube',\n",
       " '고양이 확대마: 쵸비의 성장 KITTEN TO CAT: RAPID GROWTH - YouTube',\n",
       " '자다 깨면 주인한테 오는 고양이 🐕 무릎냥이 쵸비 - YouTube',\n",
       " '원아워 원라이프] #1 갓난아기부터 시작하는 인생게임! 멀티생존 one hour one life - YouTube',\n",
       " '원아워 원라이프] #1 갓난아기부터 시작하는 인생게임! 멀티생존 one hour one life - YouTube',\n",
       " '고양이 쉽게 약 먹이기 HOW TO GIVE A PILL TO KITTEN EASILY - YouTube',\n",
       " '고양이 확대마: 쵸비의 성장 KITTEN TO CAT: RAPID GROWTH - YouTube',\n",
       " '자다 깨면 주인한테 오는 고양이 🐕 무릎냥이 쵸비 - YouTube',\n",
       " '레전드 노르웨이 스키선수들의 한국 벌꿀집 먹방!?! - YouTube',\n",
       " 'SNS에서 핫한 연어장 / 연어요리 / 캠핑요리 / salmon / Camping, Cooking / 캠핑한끼 - YouTube',\n",
       " '캠핑한끼 연어장 - YouTube',\n",
       " '드라이에이징 / 등심스테이크 / 캠핑요리 / 솔로캠핑 / Camping, Cooking / 캠핑한끼 - YouTube',\n",
       " '백예린(Yerin Baek) - 내가 날 모르는 것처럼 (ft. Car, the Garden) - YouTube',\n",
       " \"[MV] 검정치마(The Black Skirts) - 'EVERYTHING' - YouTube\",\n",
       " '[Audio] OOHYO (우효) - Teddy Bear Rises - YouTube',\n",
       " '지코 (ZICO) - 오만과 편견 (Feat. SURAN) MV - YouTube',\n",
       " '헤이즈 (Heize) - 저 별 (Star) MV (ENG Sub) - YouTube',\n",
       " '헤이즈 (Heize) - 비도 오고 그래서 (You, Clouds, Rain) (Feat. 신용재 (Shin Yong Jae)) MV - YouTube',\n",
       " \"헤이즈 (Heize) - 널 너무 모르고 (Don't know you) MV - YouTube\",\n",
       " '헤이즈 (Heize) - And July (Feat. DEAN, DJ Friz) MV - YouTube',\n",
       " 'DEAN - 넘어와(come over) (ft. Yerin Baek) Music Video - YouTube',\n",
       " 'DEAN - 풀어(Pour Up) (ft. Zico) Music Video - YouTube',\n",
       " '바다 최강의 생물!! 범고래 키우기 [피드 앤 그로우 피쉬] #4 풍월량 - YouTube',\n",
       " '우리 바다거북! 결혼할 수 있을까?? [피드 앤 그로우 피쉬] #3 풍월량 - YouTube',\n",
       " '손님 죽이는 게임?! 공포의 스키 리프트 만들기 [캐리드 어웨이] - YouTube',\n",
       " '온라인 인형뽑기 일본에서 진짜 왔다! 두달걸림 [토레바] 주니어 선물해야지 - YouTube',\n",
       " '유럽에 없는 한국 과일 먹고 깜짝 놀란 체코 스키선수들!! - YouTube',\n",
       " '[ENG SUB] VLOG #09 하루세끼, 샌드위치와 생선덮밥 : What I Eat in A Day, Sandwich & Fish Rice Bowl | Honeykki 꿀키 - YouTube',\n",
       " '꿀키 삼치 - YouTube',\n",
       " '요즘 SNS에서 핫한 연어장 만들어 봄 : Marinated Salmon Rice Bowl | Honeykki 꿀키 - YouTube',\n",
       " '연어장 꿀키 - YouTube',\n",
       " 'Nell 5th Album_그리고 남겨진 것들_The Day Before - YouTube',\n",
       " '그리고 남겨진 것들 - YouTube',\n",
       " '[TJ노래방] 비밀의화원 -아이유( IU )/ TJ Karaoke - YouTube',\n",
       " '비밀의 화원 노래방 - YouTube',\n",
       " '[TJ노래방] 어떻게지내 - 크러쉬(Crush) / TJ Karaoke - YouTube',\n",
       " '[TJ노래방] 가끔 - 크러쉬 (Sometimes - Crush) / TJ Karaoke - YouTube',\n",
       " '[TJ노래방] Instagram - 딘(DEAN) / TJ Karaoke - YouTube',\n",
       " '[TJ노래방 / 여자키] Instagram - 딘(DEAN) / TJ Karaoke - YouTube',\n",
       " '인스타그램 노래방 - YouTube',\n",
       " '[TJ노래방 / 여자키] 광화문에서 - 규현 (At Gwanghwamun - KYUHYUN) / TJ Karaoke - YouTube',\n",
       " '광화문에서 노래방 여자키 - YouTube',\n",
       " '문차일드 - 태양은 가득히 - YouTube',\n",
       " '플라워 - 축제.wmv - YouTube',\n",
       " '네미시스(Nemesis) - 솜사탕 - YouTube',\n",
       " '솜사탕 네미시스 - YouTube',\n",
       " '약육강식의 세계!! 피라냐 비보스 GANG 키우기 [피드 앤 그로우 피쉬] #2 풍월량 - YouTube',\n",
       " '약육강식의 세계!! 피라냐 비보스 GANG 키우기 [피드 앤 그로우 피쉬] #2 풍월량 - YouTube',\n",
       " '엄마 물고기가 되어 보자! 버터플라이 키우기 [피드 앤 그로우 피쉬] #1 풍월량 - YouTube',\n",
       " '[화유기 OST Part 2] 범키 (BUMKEY) - When I Saw You MV - YouTube',\n",
       " '문문 (MoonMoon) - 결혼 Because This Is My First Life OST Part 4 / 이번 생은 처음이라 OST Part 4 - YouTube',\n",
       " 'SALTNPAPER 솔튼페이퍼 - Satellite (Chicago Typewriter OST Part 1) 시카고 타자기 OST Part 1 - YouTube',\n",
       " '로이킴 (Roy Kim) - 그때 헤어지면 돼 (Only then) MV - YouTube',\n",
       " 'Zitten (짙은) - 눈을 뜬다 Just Between Lovers OST Part 1 / 그냥 사랑하는 사이 OST Part 1 - YouTube',\n",
       " 'Ra.D (라디) - 그냥 보고싶은 사이 Rain or Shine OST Part 3 / 그냥 사랑하는 사이 OST Part 3 - YouTube',\n",
       " '이시은 - 넌 그렇게 그날 내게로 Just Between Lovers OST Part 4 / 그냥 사랑하는 사이 OST Part 4 - YouTube',\n",
       " 'Savina & Drones (사비나앤드론즈) Feat. 김경희 - 오로라 Just Between Lovers OST Part 2 / 그냥 사랑하는 사이 OST Part 2 - YouTube',\n",
       " '로이킴 (Roy Kim) - 그때 헤어지면 돼 (Only then) MV - YouTube',\n",
       " 'Zitten (짙은) - 눈을 뜬다 Just Between Lovers OST Part 1 / 그냥 사랑하는 사이 OST Part 1 - YouTube',\n",
       " 'Ra.D (라디) - 그냥 보고싶은 사이 Rain or Shine OST Part 3 / 그냥 사랑하는 사이 OST Part 3 - YouTube',\n",
       " 'Savina & Drones (사비나앤드론즈) Feat. 김경희 - 오로라 Just Between Lovers OST Part 2 / 그냥 사랑하는 사이 OST Part 2 - YouTube',\n",
       " '[IU] 아이유 - 비밀의 화원 1시간 연속 재생 - YouTube',\n",
       " '비밀의 화원 - YouTube',\n",
       " '기름떡볶이 : Oil Tteokbokki (Pan Fried Tteokbokki) : 꿀키 - YouTube',\n",
       " '[SUB] 타코야키 : How to make Takoyaki : 꿀키 - YouTube',\n",
       " '[SUB] 고독한 미식가 히로시마풍 오코노미야키 : hiroshima style okonomiyaki : 꿀키 - YouTube',\n",
       " '[4K] 눈으로 먹는 새우크림치즈퐁듀 (with Marketeat) : Shrimp Cream cheese Fondue | Honeykki 꿀키 - YouTube',\n",
       " '평소에 먹는 브런치와 술키포차 | 세로브이로그 - YouTube',\n",
       " '양파스프 : French Onion Soup | Honeykki 꿀키 - YouTube',\n",
       " '치즈듬뿍! 새우듬뿍! 빠네파스타 : Shrimp Cream Pasta in Bread Bowl | Honeykki 꿀키 - YouTube',\n",
       " \"[4K VIDEO] Korean Drama 'A Hungry Woman' - Cheese Monte Cristo Easy recipe : Honeykki 꿀키 - YouTube\",\n",
       " '[4K] Korean Street Food Toast : 주말 아침으로 좋은 길거리 토스트 | Honeykki 꿀키 - YouTube',\n",
       " '꿀키 토스트 - YouTube',\n",
       " '호떡을 처음 먹어본 영국인들의 반응!? - YouTube',\n",
       " '추석특집 전 + 송편을 처음 먹어본 영국인들의 반응!?! - YouTube',\n",
       " '어서와 한국은 처음이지? 이탈리아 친구들, 한국 길거리 음식 체험! - YouTube',\n",
       " '어서와 한국은 처음이지? 독일 3회, 휴게소 음식에 빠지다 - YouTube',\n",
       " '침샘 폭발, 맛있는 아우라 뿜어내는 ‘특급 라면’ @생활의 달인 592회 20170925 - YouTube',\n",
       " '충정로를 사로잡은 ‘진짜 라면’의 대박 신화! @생방송 투데이 2033회 20180115 - YouTube',\n",
       " '이연복 셰프 ′짬뽕보다 더 맛있는 해장라면′ 비법 공개! 수요미식회 25화 - YouTube',\n",
       " '[4K] 내가 좋아하는 팬케이크 레시피 : My Favorite Pancake Recipe : Honeykki 꿀키 - YouTube',\n",
       " '매운가재 아이먹니? 12월 역대급 먹방일기 | 세로브이로그 - YouTube',\n",
       " '그게 되나 적당히 먹는게...2월 먹방일기 | 세로브이로그 - YouTube',\n",
       " '꿀키하우스 - YouTube - YouTube',\n",
       " '꿀키honeykki - YouTube - YouTube',\n",
       " '세상에 나쁜 개는 없다 - 엄마껌딱지 카스의 홀로서기_#003 - YouTube',\n",
       " '[세나개] 응석받이 카스를 위한 올바른 급식 방법! - YouTube',\n",
       " '[세나개] 보호자 집착견을 위한 쓰리 돈트 대처법! - YouTube',\n",
       " '[세나개] 강형욱 훈련사가 설명하는 반려견의 가짜행동! - YouTube',\n",
       " '리마더드] #4(완) 알몸할배가 쫓아오는 무서운 공포게임 Remothered: Tormented - YouTube',\n",
       " \"사비나앤드론즈(SAVINA & DRONES)- Don't break your heart. official MV - YouTube\",\n",
       " 'Savina & Drones (사비나앤드론즈) Feat. 김경희 - 오로라 Just Between Lovers OST Part 2 / 그냥 사랑하는 사이 OST Part 2 - YouTube',\n",
       " '사비나앤드론즈 - Glass Bridge (Bride Of The Water God OST Part 2) 하백의 신부 2017 OST Part 2 - YouTube',\n",
       " 'Savina & Drones (사비나앤드론즈) Feat. 김경희 - 오로라 Just Between Lovers OST Part 2 / 그냥 사랑하는 사이 OST Part 2 - YouTube',\n",
       " '[애니 음악] 듣기좋은 지브리 스튜디오 OST 연속재생, - YouTube',\n",
       " '약빨고 만든 파리VS인간! 19금 될뻔한 게임 [파리 시뮬레이터] 공포,더러움주의 Fly Simulator - YouTube',\n",
       " '못(MOT) - 현기증 - YouTube',\n",
       " '넬 - 그리고 남겨진 것들 - YouTube',\n",
       " '(2012) 이이언(eAeon) - Bulletproof - YouTube',\n",
       " '[온스테이지] 11. 캐스커 - 꼭 이만큼만 - YouTube',\n",
       " '캐스커 - 히든 트랙 (물고기 답가).mp4 - YouTube',\n",
       " '캐스커 - 물고기.mp4 - YouTube',\n",
       " '오지은, 물고기 - YouTube',\n",
       " 'Misty Blue - 망각 (Obliviate) - YouTube',\n",
       " '오지은 - 어긋남을 깨닫다 - YouTube',\n",
       " '가을 방학 - 가끔 미치도록 네가 안고 싶어질 때가 있어 - YouTube',\n",
       " '못(Mot) - 먹구름을 향해 달리는 차 안에서 - YouTube',\n",
       " '안개-짙은 - YouTube',\n",
       " 'Zitten(짙은) - 별,달,밤(star,moon,night) - YouTube',\n",
       " '짙은 안개 - YouTube',\n",
       " '나무위키 꺼라!! 풍월량도 몰랐던 풍월량 /전지적 작가 시점 탐구영상 17.9.7 - YouTube',\n",
       " '저는 허언증 말기 환자입니다 - YouTube',\n",
       " '[日常] 일상 하카세가 천재인 이유 - YouTube',\n",
       " '강아지 무서워 - YouTube',\n",
       " '일상 개 - YouTube',\n",
       " '『티비플』 - 일상 영원히 고통받는 미오 - YouTube',\n",
       " 'official아는디 - YouTube - YouTube',\n",
       " '일상 bl - YouTube',\n",
       " '일상 상어 - YouTube',\n",
       " '추억 때문에 울 뻔 [라그나로크 제로]에서 밝히는 풍월량 과거 - YouTube',\n",
       " '테트리스 탑쌓기 게임?! [트리키 타워] 풍월량 인증 갓겜! (Tricky Towers) - YouTube',\n",
       " '본격 폭주족 되는 게임! [Road Redemption] 시간도둑갓겜!! - YouTube',\n",
       " '유메닛키] 대도서관 공포게임 실황 1화 - 음산하고 기괴한 호러게임 유메니키 - YouTube',\n",
       " '유메닛키] 대도서관 공포게임 실황 1화 - 음산하고 기괴한 호러게임 유메니키 - YouTube',\n",
       " '유메키니 풍월량 - YouTube',\n",
       " '귀신 잡고 탈출하는 소녀 [나나 인 더 다크] 병맛공포 국산게임 Nana in the Dark - YouTube',\n",
       " '어느 게임방송인의 하루! 우연히 미인시청자와 만난 김방송의 운명은? | 풍월량 - YouTube',\n",
       " '[MV] IU(아이유) _ Palette(팔레트) (Feat. G-DRAGON) - YouTube',\n",
       " '팔레트 아이유 - YouTube',\n",
       " '뮤직뱅크 Music Bank - 팔레트 - 아이유 (Palette - IU).20170428 - YouTube',\n",
       " \"Girls' Generation (소녀시대) - Holiday (홀리데이) Stage Mix - YouTube\",\n",
       " '트와이스 - 하트셰이커 / TWICE - Heart Shaker 교차편집 Stage Mix - YouTube',\n",
       " '레드벨벳(Red Velvet) - Bad Boy (All Stage mix/교차편집) - YouTube',\n",
       " \"'훈수요정&뇌피셜'에 일침! 풍월량 모노드라마 (풍터스텔라 뒷이야기) - YouTube\",\n",
       " '헬로 네이버] #6 마인크래프트와 수상한 아저씨! (hello neighbor) 정식출시 - YouTube',\n",
       " '마인크래프트 풍월량 - YouTube',\n",
       " '마인크래프트 1화-처음이라 그래요 [왕초보 풍월량의 마크 체험] - YouTube',\n",
       " '우리아빠 풍월량] 주니어도 이제 안다! 아빠가 뭐하는지~ - YouTube',\n",
       " '천공의 성 라퓨타 : 미야자키 하야오가 꿈꾸었던 것들 - YouTube',\n",
       " '지브리영화 원령공주 클로징ost - YouTube',\n",
       " '옷코토누시 - YouTube',\n",
       " '[1080P] 젤다의전설 야생의숨결 ~ 엔딩 ~ 대재앙의 괴물 ~ 가논 ~ - YouTube',\n",
       " '가논 젤다 - YouTube',\n",
       " '퇴직 후 치킨집 #1 한국에서 치킨집 창업으로 성공하기! 레전드 시작 - YouTube',\n",
       " '바퀴벌레 시뮬] 세스코급 바퀴벌레 학살하기! (Cockroach Simulator) | 풍월량 - YouTube',\n",
       " '바퀴벌레 시뮬] 진짜 바퀴벌레가 되어 생존하기! (Cockroach Simulator) | 풍월량 - YouTube',\n",
       " '호라이즌 제로 던] #14 광신도와 오염된 기계 사살(태양의 도시) /기계공룡 갓.겜! (Horizon Zero Dawn) - YouTube',\n",
       " '젤다의 전설] #6 야생의 숨결, 레전드급 갓겜 (The legend of the zelda : breath of the wild) - YouTube',\n",
       " '젤다의 전설] #5 야생의 숨결, 레전드급 갓겜 (The legend of the zelda : breath of the wild) - YouTube',\n",
       " '젤다의 전설] #4 야생의 숨결, 레전드급 갓겜 (The legend of the zelda : breath of the wild) - YouTube',\n",
       " '젤다의 전설] #1 야생의 숨결, 레전드급 갓겜 (The legend of the zelda : breath of the wild) - YouTube',\n",
       " '풍월량 젤다 - YouTube',\n",
       " '풍월량 메트로 - YouTube',\n",
       " '던그리드 켠왕] #1 엔딩 봤습니다!! | 횡스크롤 로그라이크 Dungreed - YouTube',\n",
       " '매생이가 되는 방법! 바다색으로 셀프염색 하기 - YouTube',\n",
       " 'saka사카 - YouTube - YouTube',\n",
       " '[아캔]ASMR남자 당신의 숙면을 도와드려요 (화이트노이즈 있어요) - YouTube',\n",
       " 'streamer 아캔 - YouTube - YouTube',\n",
       " '[아캔]고양이와 크리스마스 트리 만들기 - YouTube',\n",
       " '꼬부기 - YouTube',\n",
       " '우르르 몰려다니면서 불쌍한 괴물 잡는 게임! [DESOLATE] 호러멀티 - YouTube',\n",
       " \"러브홀릭스(Loveholics) 1st Single 'Butterfly'(영화 '국가대표' 삽입곡) - YouTube\",\n",
       " 'Soft Feminine Make up (With subs) 페미닌 음영 메이크업 - YouTube',\n",
       " 'Girlish Pink Make up (With subs) 소녀 핑크 메이크업 - YouTube',\n",
       " '홍시냠냠 - YouTube',\n",
       " '홍씨냠냠 - YouTube',\n",
       " \"PENOMECO 페노메코 'L.I.E (Prod. ZICO)' MV - YouTube\",\n",
       " 'DEAN - 풀어(Pour Up) (ft. Zico) Music Video - YouTube',\n",
       " \"[MV] 검정치마(The Black Skirts) - 'EVERYTHING' - YouTube\",\n",
       " '로이킴 (Roy Kim) - 그때 헤어지면 돼 (Only then) MV - YouTube',\n",
       " '[MV] OHHYUK, CIFIKA(오혁, 씨피카) _ MOMOM(몸마음) - YouTube',\n",
       " \"SUZY (수지) 'SObeR' M/V - YouTube\",\n",
       " '20180204_새소년(황소윤)_인스타그램_라이브 - YouTube',\n",
       " '헤이즈 (Heize) - And July (Feat. DEAN, DJ Friz) MV - YouTube',\n",
       " 'iKON - ‘사랑을 했다(LOVE SCENARIO)’ M/V - YouTube',\n",
       " \"Red Velvet 레드벨벳 'Bad Boy' MV - YouTube\",\n",
       " '배틀그라운드] #1 첫트장인, 스나이퍼 생존고수 /신작생존갓겜 (Battlegrounds 베타) - YouTube',\n",
       " '엄마 보고있나요? 아들, 게임만 해요 10년째!! [풍월량 고백 수다] - YouTube',\n",
       " '풍월량 10년 엄마 - YouTube',\n",
       " '풍월량 10년 - YouTube',\n",
       " '젤다의 전설] #6 야생의 숨결, 레전드급 갓겜 (The legend of the zelda : breath of the wild) - YouTube',\n",
       " '어메이징 프로그] #9 【UFO 켠왕】 될 때까지 돼지랑 점프!!! (Amazing Frog) - YouTube',\n",
       " '어메이징 프로그] #8 돼지와 나의 이야기, 하늘나라 여행 (Amazing Frog) - YouTube',\n",
       " '어메이징 프로그] #7 제트스키&비행선 타러 갑니다..!! (Amazing Frog) - YouTube',\n",
       " '풍월량 개구리 게임 - YouTube',\n",
       " '한글날 특집! [한컴타자연습 온라인]~이 게임도 고인물이?? - YouTube',\n",
       " '수습불가 【님네 엄마】 바른말 고운말! (팩폭&토론) 풍월량 수다 - YouTube',\n",
       " '[MV] HYUKOH (혁오) - PANDA BEAR (판다 베어) - YouTube',\n",
       " '진공 팩 - YouTube',\n",
       " 'Horizon 오염화살로 썬더죠 2마리 잡기 - YouTube',\n",
       " '썬더죠 쉽게 잡는 방법 - YouTube',\n",
       " '썬더죠 강제전환해서 싸움붙이기 - YouTube',\n",
       " '썬더죠 강제전환 - YouTube',\n",
       " '인면조 올림픽 - YouTube',\n",
       " '평창동계올림픽 개막식 인면조,김연아,강남스타일,드론 대미장식 - YouTube',\n",
       " \"평창 동계올림픽 개막식에 출연한 '인면조'의 정체 (Feat. 고구려) - YouTube\",\n",
       " '24 시간 뉴스 l \"기괴한데 끌린다\"…개막식서 역대급 존재감 드러낸 \\'인면조\\' - YouTube',\n",
       " 'Spot Interview(좌표 인터뷰): DEAN(딘) _ Instagram(인스타그램) - YouTube',\n",
       " '다금바리 / 라푸라푸 / lapu lapu / 스쿠버 다이빙 / Camping, Cooking / 캠핑요리 / 캠핑한끼 - YouTube',\n",
       " '슬리퍼 랍스터 / slipper robster / 부채새우 / 팔라완 코론 / 스쿠버다이빙 / scuba diving / 캠핑한끼 - YouTube',\n",
       " '호라이즌 제로 던] #12 관문에 있는 추구자 /기계공룡 갓.겜! (Horizon Zero Dawn) - YouTube',\n",
       " '호라이즌 제로 던] #11 코어 강제 전환하기(가마솥) /기계공룡 갓.겜! (Horizon Zero Dawn) - YouTube',\n",
       " '호라이즌 제로 던] #10 가마솥 SIGMA /기계공룡 갓.겜! (Horizon Zero Dawn) - YouTube',\n",
       " 'iKON - ‘사랑을 했다(LOVE SCENARIO)’ M/V - YouTube',\n",
       " '[MV] 센티멘탈 시너리(Sentimental Scenery) - 서약(The Promise) - YouTube',\n",
       " \"모두를 빛나게 하는 '평창 성화'…김연아가 최종 점화 / SBS - YouTube\",\n",
       " '김연아 올림픽 - YouTube',\n",
       " '호라이즌 제로 던] #30(완) 최종보스 /기계공룡 갓.겜! (Horizon Zero Dawn) - YouTube',\n",
       " '호라이즌 제로 던] #29 멸종의 얼굴 /기계공룡 갓.겜! (Horizon Zero Dawn) - YouTube',\n",
       " '호라이즌 제로 던] #28 다가오는 그림자 /기계공룡 갓.겜! (Horizon Zero Dawn) - YouTube',\n",
       " '호라이즌 제로 던] #27 무너진 산 /기계공룡 갓.겜! (Horizon Zero Dawn) - YouTube',\n",
       " '호라이즌 제로 던] #26 노라의 심장부 /기계공룡 갓.겜! (Horizon Zero Dawn) - YouTube',\n",
       " '호라이즌 제로 던] #25 - YouTube',\n",
       " '호라이즌 제로 던] #24 지구의 중대한 비밀 /기계공룡 갓.겜! (Horizon Zero Dawn) - YouTube',\n",
       " '호라이즌 제로 던] #24 - YouTube',\n",
       " '호라이즌 제로 던] #23 일식단 기지 (어둠을 저주하다2) /기계공룡 갓.겜! (Horizon Zero Dawn) - YouTube',\n",
       " '호라이즌 제로 던] #22 어둠을 저주하다 /기계공룡 갓.겜! (Horizon Zero Dawn) - YouTube',\n",
       " '호라이즌 제로 던] #21 태양은 몰락할 것이다 /기계공룡 갓.겜! (Horizon Zero Dawn) - YouTube',\n",
       " '호라이즌 제로 던] #21 - YouTube',\n",
       " '호라이즌 제로 던] #20 국경지대로 /기계공룡 갓.겜! (Horizon Zero Dawn) - YouTube',\n",
       " '호라이즌 제로 던] #19 죽은 자들의 들판 /기계공룡 갓.겜! (Horizon Zero Dawn) - YouTube',\n",
       " '호라이즌 제로 던] #18 데스브링어와 일식단무리 /기계공룡 갓.겜! (Horizon Zero Dawn) - YouTube',\n",
       " '호라이즌 제로 던] #17 무덤 무더기 /기계공룡 갓.겜! (Horizon Zero Dawn) - YouTube',\n",
       " '호라이즌 제로 던] #17 - YouTube',\n",
       " '호라이즌 제로 던] #16 창조주의 종착지 /기계공룡 갓.겜! (Horizon Zero Dawn) - YouTube',\n",
       " '호라이즌 제로 던] #15 사냥터 수호자 노라 /기계공룡 갓.겜! (Horizon Zero Dawn) - YouTube',\n",
       " '호라이즌 제로 던] #13 태양의 도시 /기계공룡 갓.겜! (Horizon Zero Dawn) - YouTube',\n",
       " '[MV] IU(아이유) _ Twenty-three(스물셋) - YouTube',\n",
       " '[MV] OOHYO(우효) _ PIZZA - YouTube',\n",
       " \"[MV] 검정치마(The Black Skirts) - 'EVERYTHING' - YouTube\",\n",
       " 'IU(아이유) - 06.무릎 - YouTube',\n",
       " '[MV] IU(아이유) _ Ending Scene(이런\\xa0엔딩) - YouTube',\n",
       " 'IU (아이유) - 개여울 (from Kkot-Galpi #꽃갈피 둘) - YouTube',\n",
       " 'IU (아이유) - 이 지금 (Dlwlrma) (MP3 Audio) [Palette] - YouTube',\n",
       " 'IU (아이유) - 이름에게 (Dear Name) (MP3 Audio) [Palette] - YouTube',\n",
       " 'HYUKOH(혁오) - TOMBOY(톰보이 뮤직비디오) M/V - YouTube',\n",
       " '아이유 (IU) - 가을 아침 (Autumn Morning) - YouTube',\n",
       " 'IU (아이유) - 매일 그대와 (from Kkot-Galpi #꽃갈피 둘) - YouTube',\n",
       " '[MV] OOHYO (우효) _ Honey Tea (꿀차) - YouTube',\n",
       " '[MV] Sunwoo Jung A (선우정아) _ C A T (Feat.IU) (고양이 (Feat.아이유)) - YouTube',\n",
       " '[MV] OHHYUK, CIFIKA(오혁, 씨피카) _ MOMOM(몸마음) - YouTube',\n",
       " '[Audio] 아이유 - 사랑이 잘 (With. 오혁), IU - Can‘t Love You Anymore (With. OHHYUK) - YouTube',\n",
       " '[MV] IU(아이유) _ 어젯밤 이야기 [Eojetbam Iyagi] : Last night story - YouTube',\n",
       " '[MV] IU(아이유) _ Palette(팔레트) (Feat. G-DRAGON) - YouTube',\n",
       " '[故 김광석 22주기 헌정영상] 잊어야 한다는 마음으로 – 아이유 - YouTube',\n",
       " '[Special Clip] IU(아이유)_Sleepless rainy night(잠 못 드는 밤 비는 내리고) - YouTube',\n",
       " '[MV] IU(아이유) _ Through the Night(밤편지) - YouTube',\n",
       " 'IU (아이유) - Secret Garden (비밀의 화원) (from Kkot-Galpi #꽃갈피 둘) - YouTube',\n",
       " '호라이즌 제로 던] #7 도적단 야영지-악마의 갈증 /기계공룡 갓.겜! (Horizon Zero Dawn) - YouTube',\n",
       " '호라이즌 제로 던] #6 산의 자궁 /기계공룡 갓.겜! (Horizon Zero Dawn) - YouTube',\n",
       " '호라이즌 제로 던] #5 증명의 의식 /기계공룡 갓.겜! (Horizon Zero Dawn) - YouTube',\n",
       " '호라이즌 제로 던] #4 어머니의 심장 /기계공룡 갓.겜! (Horizon Zero Dawn) - YouTube',\n",
       " '호라이즌 제로 던] #3 잊혀진 자 /기계공룡 갓.겜! (Horizon Zero Dawn) - YouTube',\n",
       " '호라이즌 제로 던] #2 황야의 가르침, 창끝 /기계공룡 갓.겜! (Horizon Zero Dawn) - YouTube',\n",
       " '호라이즌 제로 던] #1 기계공룡 오픈월드 RPG 갓.겜! (Horizon Zero Dawn) - YouTube',\n",
       " '호라이즌 제로 던 풍월량 - YouTube',\n",
       " '호라이즌 제로 던] #1 기계공룡 오픈월드 RPG 갓.겜! (Horizon Zero Dawn) - YouTube',\n",
       " '풍월량 호라이즌 - YouTube',\n",
       " '(미.친.남) 2회. 염색과 코팅의 차이 그리고 컬러트리트먼트의 진실_요상한TV - YouTube',\n",
       " '염색후 매니큐어 - YouTube',\n",
       " '[망함]염색했는데 자색고구마 재배함/푸딩염색약신상 6.21 스모키애쉬라벤더 / 보라색염색을하잡 - YouTube',\n",
       " '[vlog] 오랜만에 💎기우쌤한테 머리염색 받고 왔어요~ // How I got my Purple hair I - YouTube',\n",
       " '헤어미용사 자격증 염색(보라색) 하는법 - YouTube',\n",
       " '[vlog]수상레저 즐기러 빠지 다녀왔어요~ (with.남치니,기우쌤) 이 조합 이상해~//젤라jella - YouTube',\n",
       " '기우쌤 - YouTube',\n",
       " '[Get Ready With Me] 같이 준비해요 #07 in Tokyo / 리수 - YouTube',\n",
       " '리수 Leesu Blooming - YouTube - YouTube',\n",
       " '데일리 플럼 메이크업 Daily Plum Makeup /리수 - YouTube',\n",
       " '인디핑크 메이크업 Indipink Makeup / 리수 - YouTube',\n",
       " 'arctic fox 염색 - YouTube',\n",
       " '바라던 바다 BADACHANNEL - YouTube - YouTube',\n",
       " '[ 바라던 바다 ] 단발머리 했어요! (feat. 기우쌤, 유경) 그리고 처음으로.. 음주 브이로그 VLOG - YouTube',\n",
       " '젤다의 전설] #3 야생의 숨결, 레전드급 갓겜 (The legend of the zelda : breath of the wild) - YouTube',\n",
       " \"BIGBANG - '뱅뱅뱅(BANG BANG BANG)' DANCE PRACTICE - YouTube\",\n",
       " '짙은 - 그런 너 - YouTube',\n",
       " '[MV] IU(아이유) _ Through the Night(밤편지) - YouTube',\n",
       " '[故 김광석 22주기 헌정영상] 잊어야 한다는 마음으로 – 아이유 - YouTube',\n",
       " 'IU (아이유) - Secret Garden (비밀의 화원) (from Kkot-Galpi #꽃갈피 둘) - YouTube',\n",
       " '젤다의 전설] #2 야생의 숨결, 레전드급 갓겜 (The legend of the zelda : breath of the wild) - YouTube',\n",
       " '젤다의 전설] #1 야생의 숨결, 레전드급 갓겜 (The legend of the zelda : breath of the wild) - YouTube',\n",
       " '러스티 레이크: 파라다이스] 1화 기괴한 공포 탈출게임! Rusty Lake Paradise - YouTube',\n",
       " '[Mini Album] 수지 (Suzy) – Yes? No? - YouTube',\n",
       " 'IU (아이유) - Secret Garden (비밀의 화원) (from Kkot-Galpi #꽃갈피 둘) - YouTube',\n",
       " \"160401 아이유 습작곡 '너' [Lyrics] - YouTube\",\n",
       " '아이유- 천년의 신곡 (음양사ost) 가사 - YouTube',\n",
       " '[MV] IU(아이유) _ Through the Night(밤편지) - YouTube',\n",
       " '[FMV] 아이유 (IU) - 내사랑 내곁에 (My Love by my side) cover - YouTube',\n",
       " 'IU (아이유) - With the Heart to Forget You (잊어야 한다는 마음으로) [HAN|ROM|ENG LYRICS/가사] - YouTube',\n",
       " '휴먼폴플랫 멀티]#2 귀여움이 8배!! 난장판 된 협동게임 - YouTube',\n",
       " '식케이 (Sik-K) - YeLowS Gang (feat. 허내인, Woodie Gochild)(Prod. GroovyRoom) Official Music Video - YouTube',\n",
       " 'Lee Hi (이하이) – Breathe (한숨) Lyrics [Color Coded_Han_Rom_Eng] - YouTube',\n",
       " 'IU (아이유) - Ending Scene (이런 엔딩) (Color Coded Lyrics/Eng/Rom/Han) - YouTube',\n",
       " 'IU (아이유) - Dear Name (이름에게) (Color Coded Lyrics/Eng/Rom/Han) - YouTube',\n",
       " 'IU (아이유) - With the Heart to Forget You (잊어야 한다는 마음으로) [HAN|ROM|ENG LYRICS/가사] - YouTube',\n",
       " '아이유 잊어야 하는 마음으로 - YouTube',\n",
       " '[MV] SUNMI (선미) _ Heroine (주인공) - YouTube',\n",
       " '선미 주인공 - YouTube',\n",
       " '[ENG] 눈썹정리, 분홍눈썹만들기(염색NO!) / 깻잎뷰티 - YouTube',\n",
       " '핑크레드 염색 - YouTube',\n",
       " '자몽 핑크 염색 로미쌤 Pink Ombre Hair - YouTube',\n",
       " '[레드 핑크 셀프염색] 에뛰드 트리트먼트 컬러로 셀프염색 했어용!! - YouTube',\n",
       " '핑크레드 - YouTube',\n",
       " '레드핑크 - YouTube',\n",
       " '셀프염색하는 Key - YouTube',\n",
       " '셀프염색 성공보장 비결!! / 애쉬그레이 망한사람 다 드루왕!!! - YouTube',\n",
       " '애쉬블루 염색이 하고싶어? 파란머리 염색 잘 하는 법_요상한TV - YouTube',\n",
       " '진짜 예쁨!ㅠㅠ / 2018년 트렌트 컬러! 블루블랙 남색염색!! / 프레쉬라이트 슈가애쉬 - YouTube',\n",
       " '[머독방송] 속옷도둑 - YouTube',\n",
       " '머독 팬티 - YouTube',\n",
       " '머독방송 - YouTube - YouTube',\n",
       " '쫄보 머독2 - YouTube',\n",
       " '머독 아웃라스트 - YouTube',\n",
       " '아웃라스트 박사 - YouTube',\n",
       " '머독방송 - YouTube - YouTube',\n",
       " '머독 - YouTube',\n",
       " '국가비 원팬 봉골레 - YouTube',\n",
       " 'Big Bang (빅뱅) - Fool (바보) - YouTube',\n",
       " \"Big Bang - 'Cafe' '카페' - YouTube\",\n",
       " 'Without You (결국) - G-Dragon (feat. Rosé of BLACKPINK) [HAN/ROM/ENG LYRICS] - YouTube',\n",
       " \"[MV] 검정치마(The Black Skirts) - 'EVERYTHING' - YouTube\",\n",
       " '[MV] OOHYO(우효) _ PIZZA - YouTube',\n",
       " '헤이즈 (Heize) - Shut Up & Groove (Feat. DEAN) MV - YouTube',\n",
       " '[온스테이지] 279. 딘 (DEAN) - D (half moon) - YouTube',\n",
       " '치즈 (CHEEZE) - 조별과제 - YouTube',\n",
       " '팔로알토 (Paloalto) - Fancy (Feat. DEAN & Sway D) - YouTube',\n",
       " '[MV] 산이, 매드클라운(San E, Mad Clown) _ 못먹는 감(Sour Grapes) - YouTube',\n",
       " 'O3 Brown Eyed Girls (브라운 아이드 걸스 )- Wave [ FULL AUDIO ] - YouTube',\n",
       " '솔튼페이퍼 (SALTNPAPER) - LoveStrong (Feat. 타블로) - YouTube',\n",
       " '태양-새벽1시 - YouTube',\n",
       " '[MV] Gaeko(개코), Yankie(얀키) _ Cheers (feat. Beenzino, Babylon) - YouTube',\n",
       " 'Zion.T(자이언티)_Two melodies(뻔한 멜로디)(Feat. Crush) MV - YouTube',\n",
       " 'Paloalto - 가뭄 (Feat. Beenzino) - YouTube',\n",
       " '[MV] GAEKO(개코) _ Rose(장미꽃) - YouTube',\n",
       " '[병맛더빙] 급식생2 X SNL - YouTube',\n",
       " '장삐쭈 - YouTube - YouTube',\n",
       " '[병맛더빙] 일자리 창출 - YouTube',\n",
       " '고등학생 소년이 여자가 되면 안되는 이유 - YouTube',\n",
       " '피아노포엠 영혼을 팔기에 좋은 계절 - YouTube',\n",
       " '두번째달 잊혀지지 않습니다 - YouTube',\n",
       " '편지(김광진) [Live] - 아이유(IU) - YouTube',\n",
       " '[FMV] 아이유 (IU) - 내사랑 내곁에 (My Love by my side) cover - YouTube',\n",
       " '잊어야 하는 마음으로 아이유 - YouTube']"
      ]
     },
     "execution_count": 52,
     "metadata": {},
     "output_type": "execute_result"
    }
   ],
   "source": [
    "kor_youtube"
   ]
  },
  {
   "cell_type": "code",
   "execution_count": 53,
   "metadata": {},
   "outputs": [
    {
     "data": {
      "text/plain": [
       "['Korea Bronze Girl Playing Oriana - YouTube',\n",
       " 'History - YouTube',\n",
       " 'YouTube',\n",
       " '０７：Daylife - YouTube',\n",
       " '０７：Daylife - YouTube',\n",
       " 'girl who leapt through time painting - YouTube',\n",
       " 'The Girl Who Leapt Through Time: The Painting (Fandub) - YouTube',\n",
       " 'girl who leapt through time paused - YouTube',\n",
       " 'girl who leapt through time stop - YouTube',\n",
       " 'The Girl Who Leapt Through Time amv - YouTube',\n",
       " 'Final Scene - Sweeney Todd - YouTube',\n",
       " 'sweeney todd ending - YouTube',\n",
       " 'Sweeney Todd - Worst pies in London (HD) - YouTube',\n",
       " '\"Pretty Women\" Sweeney Todd - YouTube',\n",
       " '\"By the Sea\" - Sweeney Todd : The Demon Barber of Fleet Street (2007) - Helena Bonham Carter - YouTube',\n",
       " '\"Epiphany\" - Sweeney Todd : The Demon Barber of Fleet Street (2007) - Johnny Depp - YouTube',\n",
       " '\"A Little Priest\" - Sweeney Todd : The Demon Barber of Fleet Street (2007) - YouTube',\n",
       " 'Sweeney Todd: The Demon Barber of Fleet Street - Trailer - YouTube',\n",
       " 'Johnny Depp Goes Off on Amber Heard... Hurls Wine Glass | TMZ - YouTube',\n",
       " 'helena movie - YouTube',\n",
       " 'vkdo - YouTube',\n",
       " 'Julie and Julia - Boeuf Bourguignon.wmv - YouTube',\n",
       " 'Julie and Julia - How yummy does this simple food looks.wmv - YouTube',\n",
       " 'Julie & Julia cooking lessons - YouTube',\n",
       " 'grilled cheese - YouTube',\n",
       " 'grilled cheese movie - YouTube',\n",
       " 'Chef Movie CLIP - Sign Me Up (2014) - Jon Favreau, Robert Downey Jr. Movie HD - YouTube',\n",
       " 'Julie & Julia - YouTube',\n",
       " 'Julie & Julia (2009) - Dirty Mouth Scene (6/10) | Movieclips - YouTube',\n",
       " 'The Best of Ryuichi Sakamoto (1 hour Relaxing Music) - YouTube',\n",
       " 'Ryuichi Sakamoto Trio_Merry Christmas Mr.Lawrence.mp4 - YouTube',\n",
       " 'ᄋ ᄋ - YouTube - YouTube',\n",
       " 'Kiss the Rain - Yiruma - YouTube',\n",
       " 'Ludovico Einaudi - Una Mattina - YouTube',\n",
       " 'Ludovico Einaudi - Oltremare - YouTube',\n",
       " 'Ludovico Einaudi - Night - YouTube',\n",
       " 'Ludovico Einaudi - Life - YouTube',\n",
       " 'Yiruma - River flows in you - YouTube',\n",
       " 'Ludovico Einaudi - Nuvole Bianche - YouTube',\n",
       " 'Ludovico Einaudi - \"Divenire\" - Live @ Royal Albert Hall London - YouTube',\n",
       " 'Ludovico Einaudi - Fly - YouTube',\n",
       " 'Primavera - Ludovico Einaudi - YouTube',\n",
       " 'Ludovico Einaudi - Nuvole Bianche [HD] - YouTube',\n",
       " 'Ludovico Einaudi - Nuvole Bianche [HD] - YouTube',\n",
       " 'Debussy, Arabesque #1, Piano Solo (animation ver. 2) - YouTube',\n",
       " 'Bonobo : Second Sun - YouTube',\n",
       " '07 - You Know Nothing - Game of Thrones - Season 3 - Soundtrack - YouTube',\n",
       " 'Goldberg Variations Complete (J.S. Bach BWV 988), with score, Kimiko Ishizaka piano - YouTube',\n",
       " 'Ryuichi_Sakamoto self portrait - YouTube',\n",
       " 'Ryuichi Sakamoto - Merry Christmas Mr. Lawrence (Piano) - YouTube',\n",
       " 'j - YouTube - YouTube',\n",
       " 'Yiruma - River Flows In You - YouTube',\n",
       " 'DEAN - instagram Music Video - YouTube',\n",
       " 'MISO - Take Me (Official Video) - YouTube',\n",
       " \"[MV] offonoff - 'Photograph' - YouTube\",\n",
       " \"TAEYANG - ‘DARLING' M/V - YouTube\",\n",
       " '[MV] offonoff - gold (Feat. DEAN) - YouTube',\n",
       " 'CHEEZE (치즈) - Madeleine Love - YouTube',\n",
       " 'DEAN - what2do (ft. Crush x Jeff Bernat) Music Video - YouTube',\n",
       " 'lalala - YouTube - YouTube',\n",
       " 'Barenboim on Beethoven \"Pathetique\" 1st movement - YouTube',\n",
       " 'Matthew Kim - YouTube - YouTube',\n",
       " \"generative type 'A' - YouTube\",\n",
       " 'R - YouTube - YouTube',\n",
       " 'Tchaikovsky: The most beautiful solo piano pieces - YouTube',\n",
       " \"Hans Rosling's 200 Countries, 200 Years, 4 Minutes - The Joy of Stats - BBC Four - YouTube\",\n",
       " 'My Pet Diary - YouTube - YouTube',\n",
       " 'Hungry Teddy Bear Puppy - YouTube',\n",
       " 'Nujabes - 03. Reflection Eternal - YouTube',\n",
       " 'Ludovico Einaudi - Nuvole Bianche [HD] - YouTube',\n",
       " 'Ryuichi Sakamoto - A Flower Is Not A Flower - YouTube',\n",
       " 'Ryuichi Sakamoto - Lost Child - YouTube',\n",
       " 'Ryuichi Sakamoto \"Chanson live\" - YouTube',\n",
       " 'Yiruma - River Flows In You - YouTube',\n",
       " 'Ryuichi Sakamoto - Merry Christmas Mr. Lawrence (Piano) - YouTube',\n",
       " 'What makes life worth living in the face of death - YouTube',\n",
       " 'n u a g e s - Dreams - YouTube',\n",
       " 'UNDERTALE - Piano Medley / Suite - YouTube',\n",
       " 'La mangave. French Jazz Trio & Strings.wmv - YouTube',\n",
       " 'Ludovico Einaudi - Nuvole Bianche [HD] - YouTube',\n",
       " 'YouTube',\n",
       " 'Wealth Inequality in America - YouTube',\n",
       " 'UNDERTALE - Piano Medley / Suite - YouTube',\n",
       " 'La mangave. French Jazz Trio & Strings.wmv - YouTube',\n",
       " 'Ryuichi Sakamoto - Lost Child - YouTube',\n",
       " 'Ryuichi Sakamoto - Merry Christmas Mr. Lawrence (Piano) - YouTube',\n",
       " 'Ryuichi Sakamoto - Railroad Man (Piano) - YouTube',\n",
       " 'Witcher 3 Blood and Wine - Conan Clueless Gamer Easter Egg! - Having Sex on a Stuffed Unicorn - YouTube',\n",
       " 'Baramgood - YouTube - YouTube',\n",
       " \"Conan O'Brien's Speech to the Harvard Class of 2000.(Pt 2 of 2) - YouTube\",\n",
       " \"Conan O'Brien's Speech to the Harvard Class of 2000.(Pt 1 of 2) - YouTube\",\n",
       " 'Conan O\\'Brien In \"Sharktopus Vs. Pteracuda\"- FULL CAMEO - YouTube',\n",
       " \"Fan Correction: King Tut Isn't In A Museum! - YouTube\",\n",
       " 'Massive Attack - Silent Spring (w/ Lyrics) - YouTube',\n",
       " 'Zero Gravity Wedding - YouTube - YouTube',\n",
       " 'tangtangee - YouTube',\n",
       " 'tangtange - YouTube',\n",
       " 'Horizon Zero Dawn: Killing Redmaw - YouTube',\n",
       " 'Ravel - Le Tombeau de Couperin, orchestration complète - YouTube',\n",
       " 'Ryuichi Sakamoto \"Chanson live\" - YouTube',\n",
       " 'j - YouTube - YouTube',\n",
       " 'Jeremy&Luigi - YouTube - YouTube',\n",
       " 'ragdoll bath - YouTube',\n",
       " 'ragdoll wash - YouTube',\n",
       " 'uncle cat - YouTube - YouTube',\n",
       " 'YouTube',\n",
       " 'Tchaikovsky: The most beautiful solo piano pieces - YouTube',\n",
       " 'import antigravity - YouTube',\n",
       " 'shining - YouTube - YouTube',\n",
       " 'j - YouTube - YouTube',\n",
       " 'Catherine Tate - The Offensive Translator [HighQuality] - YouTube',\n",
       " 'speaking many languages funny - YouTube',\n",
       " 'Funny Translator - she Fluent in 7 languages - YouTube',\n",
       " 'speaking many languages - YouTube',\n",
       " 'The benefits of a bilingual brain - Mia Nacamulli - YouTube',\n",
       " 'HomePod — Welcome Home by Spike Jonze — Apple - YouTube',\n",
       " 'Spike Jonze Welcome Home - Apple HomePod Making Of From AdWeek - Behind The Scenes - YouTube',\n",
       " 'Ryuichi Sakamoto - Railroad Man (Piano) - YouTube',\n",
       " 'Dogs Loyalty to Baby Compilation - YouTube',\n",
       " 'Meet Shu the lovely Teddy Dog! - YouTube',\n",
       " 'chocolate poodle - YouTube',\n",
       " 'Tiny chocolate poodle - YouTube',\n",
       " 'Tiny chocolate poodle cuteness - YouTube',\n",
       " 'Debussy, Satie, Faure, Ravel, Saint Saens - YouTube',\n",
       " 'The Little Mermaid: Part of Your World (arr. for orchestra) - YouTube',\n",
       " 'part of your world orchestra - YouTube',\n",
       " 'Keystroke Recorder - YouTube',\n",
       " 'YouTube',\n",
       " 'YouTube',\n",
       " 'Ryuichi Sakamoto - The Revenant Main Theme (The Revenant Original Motion Picture Soundtrack) - YouTube',\n",
       " 'revenant ost ryuichi - YouTube',\n",
       " 'revenant ost - YouTube',\n",
       " 'Sound of Hugh Glass | 1 hour Extended - YouTube',\n",
       " 'Impressionism: Ravel & Debussy | Classical Piano Music - YouTube',\n",
       " 'Adagios | Classical Music for Relaxation - YouTube',\n",
       " 'How to Rename a File on a Mac | Mac Basics - YouTube',\n",
       " 'Ryuichi Sakamoto - koko - YouTube',\n",
       " 'Ryuichi Sakamoto-Aqua - YouTube',\n",
       " 'Princess Mononoke - Ashitaka and San Theme - YouTube',\n",
       " 'n u a g e s - Dreams - YouTube',\n",
       " 'Nujabes - 03. Reflection Eternal - YouTube',\n",
       " \"Don't Starve RoG - Catcoon (New Animal from Feet of Strenght update) - YouTube\",\n",
       " \"catcoon don't starve - YouTube\",\n",
       " 'catcoon motion - YouTube',\n",
       " 'Claude Debussy - Prelude to the Afternoon of a Faun - YouTube',\n",
       " 'Debussy, Suite Bergamasque. Claudio Arrau, piano - YouTube',\n",
       " 'Bonobo : Second Sun - YouTube',\n",
       " 'Ryuichi Sakamoto \"Chanson live\" - YouTube',\n",
       " 'Ludovico Einaudi - I Giorni - YouTube',\n",
       " 'UNDERTALE - Piano Medley / Suite - YouTube',\n",
       " 'Ludovico Einaudi - Night - YouTube',\n",
       " '[Making Film] IDIOTAPE - Dystopian PART 01 - YouTube',\n",
       " 'Kings Of Convenience - Misread - YouTube',\n",
       " 'Maurice Ravel - Miroirs - YouTube',\n",
       " 'Phoebe - my eyes!!! - YouTube',\n",
       " 'Afraid of Technology - YouTube',\n",
       " 'Debussy: Violin Sonata, Cello Sonata, Piano Trio - YouTube',\n",
       " 'Claude Debussy - Nocturnes - YouTube',\n",
       " 'DEAN - instagram Music Video - YouTube',\n",
       " 'Claude Debussy - Nocturnes - YouTube',\n",
       " 'Ryuichi Sakamoto - Railroad Man (Piano) - YouTube',\n",
       " 'Testing - YouTube',\n",
       " 'Alice Sun - YouTube - YouTube',\n",
       " 'Impressionism: Ravel & Debussy | Classical Piano Music - YouTube',\n",
       " 'Barenboim on Beethoven \"Pathetique\" 2nd movement - YouTube',\n",
       " 'Ottorino Respighi - Pini di Roma - YouTube',\n",
       " 'pini di roma 2nd movement 2/4 - YouTube',\n",
       " 'pini di roma 2nd movement 1/3 - YouTube',\n",
       " 'YouTube',\n",
       " 'Ottorino Respighi - Pini di Roma - YouTube',\n",
       " 'Respighi Pines of Rome (2/4) - Pines near a catacomb - YouTube',\n",
       " 'beethoven pathetique 2nd movement - YouTube',\n",
       " 'Ryuichi Sakamoto - Blu - YouTube',\n",
       " 'Ryuichi Sakamoto: Aqua - YouTube',\n",
       " 'Ryuichi Sakamoto plays Bach - YouTube',\n",
       " \"Ryuichi Sakamoto- 'Merry Christmas Mr Lawrence' - YouTube\",\n",
       " 'Ryuichi sakamoto - Sonatine - YouTube',\n",
       " 'Ryuchi Sakamoto -- Bolerish - YouTube',\n",
       " \"Ryuichi Sakamoto 'The Sheltering Sky' - YouTube\",\n",
       " 'Ryuichi Sakamoto - A Flower Is Not A Flower - YouTube',\n",
       " 'YouTube',\n",
       " 'YouTube',\n",
       " 'Watch Later Playlist - YouTube - YouTube',\n",
       " 'YouTube',\n",
       " 'YouTube',\n",
       " 'YouTube',\n",
       " 'YouTube',\n",
       " 'Periwinkle - Arctic Fox Hair Dye Experiment! - YouTube',\n",
       " 'Dying my hair periwinkle by Arctic Fox - YouTube',\n",
       " 'how to use arctic fox hair dye - YouTube',\n",
       " 'BLONDE TO PINK • Arctic Fox Hair Dye Review \"Virgin\" Pink\" - YouTube',\n",
       " 'Judy C. - YouTube - YouTube',\n",
       " 'How To Use Arctic Mist Diluter | ARCTIC FOX HAIR COLOR - YouTube',\n",
       " 'How To NOT Dye Your Hair/Arctic Fox Hair Color Review - YouTube',\n",
       " 'DIY Shadow Roots: AF Transylvania - YouTube',\n",
       " 'Spirited Away: Always With Me - Piano - YouTube',\n",
       " \"Howl's Moving Castle [OST - Theme Song] - YouTube\",\n",
       " 'Vashti Bunyan - If I Were - Same But Different - YouTube',\n",
       " 'SALES - \"big sis\" - YouTube',\n",
       " 'The Walters -- I Love You So - YouTube',\n",
       " 'PEACH PIT - peach pit - YouTube',\n",
       " 'The Other Side - Original Song - YouTube',\n",
       " 'Idle Town - Conan Gray [ Original Song ] - YouTube',\n",
       " 'MISO - Take Me (Official Video) - YouTube',\n",
       " \"Dean - I'm Not Sorry ft. Eric Bellinger - YouTube\",\n",
       " 'Dean - What 2 Do ft. Crush, Jeff Bernat - YouTube',\n",
       " 'Dean - D (Half Moon) ft. Gaeko - YouTube',\n",
       " 'Ryuichi_Sakamoto self portrait - YouTube',\n",
       " 'Ryuichi Sakamoto-Aqua - YouTube',\n",
       " 'YouTube',\n",
       " 'YouTube',\n",
       " 'Ryuichi Sakamoto-Aqua - YouTube',\n",
       " 'Princess Mononoke - Ashitaka and San Theme - YouTube',\n",
       " 'YouTube',\n",
       " 'Yiruma - River Flows In You - YouTube',\n",
       " 'YouTube',\n",
       " 'Coding Challenge #37: Diastic Machine - YouTube',\n",
       " '플라워 - 애정표현 - YouTube',\n",
       " 'YouTube',\n",
       " 'YouTube',\n",
       " \"DON'T PANIC — Hans Rosling showing the facts about population - YouTube\",\n",
       " 'YouTube',\n",
       " 'Apple – Designed by Apple in California - YouTube',\n",
       " 'YouTube',\n",
       " 'YouTube',\n",
       " 'Chasing - YouTube',\n",
       " 'Empty Streets - YouTube',\n",
       " 'Happy Holidays - YouTube',\n",
       " 'Soundtrack to a Lost Film - YouTube',\n",
       " 'Yiruma - Chaconne [HD Live - 1080p] - YouTube',\n",
       " 'YouTube',\n",
       " 'YouTube',\n",
       " 'YouTube',\n",
       " 'YouTube',\n",
       " 'Ryuichi Sakamoto - Railroad Man (Piano) - YouTube',\n",
       " 'YouTube',\n",
       " 'Timo the Cat & his koi fish buddies (compilation summer 2016) - YouTube',\n",
       " 'Fluffy cat making paw prints in the snow (Timo the Ragdoll Cat) - YouTube',\n",
       " 'Xiedubbel - YouTube - YouTube',\n",
       " 'The simple joy of having fun- Timo the Ragoll Cat - YouTube',\n",
       " 'Timo the Cat and his PooBox adventures (the Litter-Robot) - YouTube',\n",
       " \"This Vocal Cat Doesn't Want To Leave The New Carpet - Timo the Ragdoll Cat - YouTube\",\n",
       " 'YouTube',\n",
       " 'YouTube',\n",
       " '5.3: Box2D Coordinates and Vectors - The Nature of Code - YouTube',\n",
       " 'YouTube',\n",
       " '5.2: What makes up a Box2D world? - The Nature of Code - YouTube',\n",
       " '5.1: Introduction to Box2D - The Nature of Code - YouTube',\n",
       " 'The Coding Train - YouTube - YouTube',\n",
       " 'daniel shiffman - YouTube',\n",
       " 'Learning D3 Part 7 Choropleth Maps Synthesis Scott Becker. How To Create Pure React SVG Maps With Topojson And D3geo. 13 JavaScript Libraries To Create Interactive Customized Maps. Leaflet D3js DCjs Map Visualizations YouTube. Mastering D3js Tutorial Drawing A Map Packtpubcom YouTube. The State Of D3 Voronoi Philippe Rivière Visionscarto. Choropleth Maps With D3. Moving The Earth well Alaska Hawaii With R Rbloggers. Flight Animation With D3js TNODA. Make A Choropleth Map Part 1 Create A Style Mapbox. - meridianintl.co',\n",
       " 'YouTube',\n",
       " 'YouTube',\n",
       " 'YouTube',\n",
       " 'YouTube',\n",
       " 'YouTube',\n",
       " 'YouTube',\n",
       " 'Savina & Drones - Aurora [sub español + han + rom] Just Between Lovers OST - YouTube',\n",
       " 'savina and drones - YouTube',\n",
       " 'savana and drones - YouTube',\n",
       " 'SAVINANDRONES - YouTube - YouTube',\n",
       " 'Debussy: Violin Sonata, Cello Sonata, Piano Trio - YouTube',\n",
       " 'Nell - Afterglow - YouTube',\n",
       " 'Stay - Savina & Drones - YouTube',\n",
       " 'The Best of Ryuichi Sakamoto (1 hour Relaxing Music) - YouTube',\n",
       " 'YouTube',\n",
       " 'YouTube',\n",
       " 'YouTube',\n",
       " 'YouTube',\n",
       " 'YouTube',\n",
       " 'YouTube',\n",
       " 'Seong-Jin Cho - Rachmaninoff Piano Concerto No. 3 in D minor, Op. 30 (2011) - YouTube',\n",
       " 'Seong-Jin Cho – Piano Concerto in E minor Op. 11 (final stage of the Chopin Competition 2015) - YouTube',\n",
       " 'SEONG-JIN CHO - Mozart Piano Concerto # 21 in C Major 2014 - YouTube',\n",
       " 'Seong-jin cho Rachmaninoff piano concerto no.2 in C minor. (NDR Elbphilharmonie) - YouTube',\n",
       " 'YouTube',\n",
       " 'YouTube',\n",
       " 'YouTube',\n",
       " 'YouTube',\n",
       " 'YouTube',\n",
       " '171008 G-Dragon& IU-Palette @ WORLD TOUR M.O.T.T.E in Taiwan - YouTube',\n",
       " 'YouTube',\n",
       " 'Lana Del Rey - When The World Was At War We Kept Dancing - YouTube',\n",
       " 'Lana Del Rey - Cola - YouTube',\n",
       " 'Maurice Ravel - Gaspard de la nuit - YouTube',\n",
       " 'The Princess Mononoke : Reviewing with 3 keywords - YouTube',\n",
       " 'Debussy - Piano Solo - YouTube',\n",
       " 'Out of noise (Completo) - Ryuichi Sakamoto - YouTube',\n",
       " 'ryuichi sakamoto / illuha / taylor deupree - perpetual - YouTube',\n",
       " 'YouTube',\n",
       " 'YouTube',\n",
       " 'YouTube',\n",
       " 'YouTube',\n",
       " 'Ragdoll Cat meets Bernese Mountain Dog for the first time - YouTube',\n",
       " 'ragdoll and dog - YouTube',\n",
       " 'Ragdoll cats like big dogs - YouTube',\n",
       " \"Ragdoll- The cat who thinks it's a dog - YouTube\",\n",
       " \"Why They're Called Ragdolls - YouTube\",\n",
       " 'YouTube',\n",
       " 'YouTube',\n",
       " 'YouTube',\n",
       " 'ragdoll cat - YouTube',\n",
       " 'I am Timo - YouTube',\n",
       " 'YouTube',\n",
       " 'My Cats Welcome Me - YouTube',\n",
       " 'YouTube',\n",
       " 'YouTube',\n",
       " 'DJ Okawari - Kaleidoscope [Full Album] - YouTube',\n",
       " 'haruka nakamura - Lamp feat.Nujabes 【Official MV】 - YouTube',\n",
       " 'Nujabes - Luv(sic) [ft. Shing02] ALL PARTS (1-6) - YouTube',\n",
       " 'Claude Debussy ‒ Images (Complete) - YouTube',\n",
       " \"The best stats you've ever seen | Hans Rosling - YouTube\",\n",
       " 'hans rosling - YouTube',\n",
       " 'Liked videos - YouTube - YouTube',\n",
       " '07 - You Know Nothing - Game of Thrones - Season 3 - Soundtrack - YouTube',\n",
       " 'Deru - 1979 (Full Album) - YouTube',\n",
       " 'Goldberg Variations Complete (J.S. Bach BWV 988), with score, Kimiko Ishizaka piano - YouTube',\n",
       " 'Claude Debussy ‒ Images (Complete) - YouTube',\n",
       " 'Dean - D (Half Moon) ft. Gaeko - YouTube',\n",
       " 'DEAN - instagram Music Video - YouTube',\n",
       " 'YouTube',\n",
       " 'Game of Thrones Season 4 Soundtrack - 19 He Is Lost - YouTube',\n",
       " '13 Pay The Iron Price - Game of Thrones Season 2 - Soundtrack - YouTube',\n",
       " 'Game of Thrones Season 5 Soundtrack - 04 Jaws of the Viper - YouTube',\n",
       " '02 The Throne Is Mine - Game of Thrones Season 2 - Soundtrack - YouTube',\n",
       " 'The Rains of Castamere (Red Wedding Edition) (Cover) - YouTube',\n",
       " 'Game of Thrones Season 5 Soundtrack 10 - Kneel For No Man - YouTube',\n",
       " '17 The Old Gods And The New - Game of Thrones Season 2 - Soundtrack - YouTube',\n",
       " 'Game of Thrones - Truth - Ramin Djawadi (Season 7 Soundtrack) [official] - YouTube',\n",
       " '04 Warrior Of Light - Game of Thrones Season 2 - Soundtrack - YouTube',\n",
       " '19 I Will Keep You Safe - Game of Thrones Season 2 - Soundtrack - YouTube',\n",
       " '05 Valar Morghulis - Game of Thrones Season 2 - Soundtrack - YouTube',\n",
       " 'Game of Thrones - House Stark Soundtrack - YouTube',\n",
       " '15 House Of The Undying - Game of Thrones Season 2 - Soundtrack - YouTube',\n",
       " 'Game of Thrones: Season 6 OST - Light of the Seven (EP 10 Trial scene) - YouTube',\n",
       " 'Game of Thrones Season 5 Soundtrack 17 - Son of the Harpy - YouTube',\n",
       " 'Game of Thrones Season 5 Soundtrack 18 - Throne For the Game - YouTube',\n",
       " \"Game of Thrones Season 5 Soundtrack 07 - Mother's Mercy - YouTube\",\n",
       " 'Game of Thrones Season 5 Soundtrack 12 - Before the Old Gods - YouTube',\n",
       " 'Game of Thrones Season 5 Soundtrack - Episode 10 Credits - YouTube',\n",
       " '14 - The Bear and the Maiden Fair - Game of Thrones - Season 3 - Soundtrack - YouTube',\n",
       " '03 What Is Dead May Never Die - Game of Thrones Season 2 - Soundtrack - YouTube',\n",
       " 'Game of Thrones Season 4 Soundtrack - 21 Take Charge of Your Life - YouTube',\n",
       " 'Game of Thrones Season 4 Soundtrack - 07 Mereen - YouTube',\n",
       " \"Game of Thrones Season 4 Soundtrack - 16 Craster's Keep - YouTube\",\n",
       " 'Game of Thrones Season 4 Soundtrack - 06 Thenns - YouTube',\n",
       " '18 Mother Of Dragons - Game of Thrones Season 2 - Soundtrack - YouTube',\n",
       " 'Game of Thrones Season 4 Soundtrack - 20 I Only See What Matters - YouTube',\n",
       " 'Game of Thrones Season 5 Soundtrack 15 - The Wars To Come - YouTube',\n",
       " 'Game of Thrones Season 4 Soundtrack - 02 The Rains of Castamere - YouTube',\n",
       " 'Game of Thrones Season 4 Soundtrack - 12 Oathkeeper - YouTube',\n",
       " 'Game of Thrones Season 5 Soundtrack 03 - House of Black and White - YouTube',\n",
       " 'Game of Thrones Season 5 Soundtrack 14 - I Dreamt I Was Old - YouTube',\n",
       " \"Game of Thrones Season 4 Soundtrack - 15 Let's Kill Some Crows - YouTube\",\n",
       " \"12 - It's Always Summer Under the Sea (Shireen's Song) - Game of Thrones - Season 3 - Soundtrack - YouTube\",\n",
       " 'Game of Thrones Season 4 Soundtrack - 09 The Biggest Fire the North Has Ever Seen - YouTube',\n",
       " \"Game of Thrones Season 4 Soundtrack - 15 Let's Kill Some Crows - YouTube\",\n",
       " \"12 - It's Always Summer Under the Sea (Shireen's Song) - Game of Thrones - Season 3 - Soundtrack - YouTube\",\n",
       " '01 - Main Title (Game of Thrones) [Season 3] - Soundtrack - YouTube',\n",
       " 'Game of Thrones Season 4 Soundtrack - 10 Three Eyed Raven - YouTube',\n",
       " 'Game of Thrones Season 4 Soundtrack - 04 Watchers on the Wall - YouTube',\n",
       " '06 Winterfell - Game of Thrones Season 2 - Soundtrack - YouTube',\n",
       " 'Game of Thrones Season 5 Soundtrack 13 - Atonement - YouTube',\n",
       " 'Game of Thrones Season 4 Soundtrack - 08 First of His Name - YouTube',\n",
       " \"Game of Thrones Season 4 Soundtrack - 05 I'm Sorry for Today - YouTube\",\n",
       " 'Game of Thrones Season 5 Soundtrack 02 - Blood of the Dragon - YouTube',\n",
       " '09 I Am Hers, She Is Mine - Game of Thrones Season 2 - Soundtrack - YouTube',\n",
       " 'Game of Thrones Season 4 Soundtrack - 18 Forgive Me - YouTube',\n",
       " 'Game of Thrones Season 5 Soundtrack 09 - Dance of Dragons - YouTube',\n",
       " 'Game of Thrones Season 4 Soundtrack - 11 Two Swords - YouTube',\n",
       " 'Game of Thrones Season 4 Soundtrack - 13 You Are No Son of Mine - YouTube',\n",
       " '08 - Wall of Ice - Game of Thrones - Season 3 - Soundtrack - YouTube',\n",
       " 'Game of Thrones Season 4 Soundtrack - 03 Breaker Of The Chains - YouTube',\n",
       " 'Game of Thrones Season 4 Soundtrack -14 The North Remembers - YouTube',\n",
       " '15 - The Night Is Dark - Game of Thrones - Season 3 - Soundtrack - YouTube',\n",
       " 'Game of Thrones Season 4 Soundtrack - 22 The Children - YouTube',\n",
       " 'Game of Thrones Season 4 Soundtrack - 17 The Real North - YouTube',\n",
       " '19 - For the Realm - Game of Thrones - Season 3 - Soundtrack - YouTube',\n",
       " '16 - The Lannisters Send Their Regards - Game of Thrones - Season 3 - Soundtrack - YouTube',\n",
       " '04 - I Paid the Iron Price - Game of Thrones - Season 3 - Soundtrack - YouTube',\n",
       " '10 - I Have To Go North - Game of Thrones - Season 3 - Soundtrack - YouTube',\n",
       " '09 - Kingslayer - Game of Thrones - Season 3 - Soundtrack - YouTube',\n",
       " '17 - Heir To Winterfell - Game of Thrones - Season 3 - Soundtrack - YouTube',\n",
       " '05 - Chaos Is a Ladder - Game of Thrones - Season 3 - Soundtrack - YouTube',\n",
       " '06 - Dark Wings, Dark Words - Game of Thrones - Season 3 - Soundtrack - YouTube',\n",
       " '02 - A Lannister Always Pays His Debts - Game of Thrones - Season 3 - Soundtrack - YouTube',\n",
       " '18 - Mhysa - Game of Thrones - Season 3 - Soundtrack - YouTube',\n",
       " '07 - You Know Nothing - Game of Thrones - Season 3 - Soundtrack - YouTube',\n",
       " 'Game of Thrones Season 4 Soundtrack - 08 First of His Name - YouTube',\n",
       " 'Game of Thrones Season 5 Soundtrack 02 - Blood of the Dragon - YouTube',\n",
       " 'Game of Thrones Season 4 Soundtrack - 18 Forgive Me - YouTube',\n",
       " 'Game of Thrones Season 5 Soundtrack 09 - Dance of Dragons - YouTube',\n",
       " 'Game of Thrones Season 4 Soundtrack - 03 Breaker Of The Chains - YouTube',\n",
       " 'Game of Thrones Season 4 Soundtrack -14 The North Remembers - YouTube',\n",
       " '15 - The Night Is Dark - Game of Thrones - Season 3 - Soundtrack - YouTube',\n",
       " 'Game of Thrones Season 4 Soundtrack - 17 The Real North - YouTube',\n",
       " '19 - For the Realm - Game of Thrones - Season 3 - Soundtrack - YouTube',\n",
       " '16 - The Lannisters Send Their Regards - Game of Thrones - Season 3 - Soundtrack - YouTube',\n",
       " '05 - Chaos Is a Ladder - Game of Thrones - Season 3 - Soundtrack - YouTube',\n",
       " 'Abandoned Beautiful | Beautiful Piano and Cello Music | Relax, Reflect, sleep - YouTube',\n",
       " 'Funny Golden Retriever Puppies videos - Compilation 2017 - YouTube',\n",
       " \"Black Lab and Golden Retriever's daily garden fight | summer 2013 - YouTube\",\n",
       " 'black lab golden retriever - YouTube',\n",
       " 'Luna - Labrador x Golden Retriever - 3 Weeks Residential Dog Training - YouTube',\n",
       " 'black lab golden retriever mix - YouTube',\n",
       " '3 Female Golden Retriever/Black Lab-Mix Puppies - YouTube',\n",
       " 'Zack--Labrador and Golden Retriever Mix - YouTube',\n",
       " 'Gus--Black Lab & Golden Retriever Mix - YouTube',\n",
       " 'Guilty dog: Bonnie is very very sorry - YouTube',\n",
       " 'Black Lab Puppies - YouTube',\n",
       " 'black lab - YouTube',\n",
       " 'YouTube',\n",
       " 'YouTube',\n",
       " 'Abandoned Beautiful | Beautiful Piano and Cello Music | Relax, Reflect, sleep - YouTube',\n",
       " 'got showing white - YouTube',\n",
       " 'Game of Thrones 7x07 - Jon Snow shows Cersei the Wight - YouTube',\n",
       " 'Game of Thrones 3x03 - Podrick surprises Tyrion and Bronn - YouTube',\n",
       " 'Podrick Payne - YouTube',\n",
       " 'YouTube',\n",
       " 'The Mouth of Sauron - YouTube',\n",
       " 'mouth of sauron - YouTube',\n",
       " 'YouTube',\n",
       " 'LAIKA KNOWS WHAT SHE WANTS. - YouTube',\n",
       " 'TWO DOGS BICKER! - YouTube',\n",
       " 'Mishka Teaches Laika to Sing! - YouTube',\n",
       " 'laikathehusky - YouTube - YouTube',\n",
       " 'Laika meets Mishka & Moki! - YouTube',\n",
       " 'Playful Husky Puppy! - YouTube',\n",
       " 'mishka - YouTube',\n",
       " 'Mishka still says \"I love you\" - Husky Dog Talking - YouTube',\n",
       " 'Dog Gets A Puppy For His Birthday - YouTube',\n",
       " 'receiving golden retriever puppy - YouTube',\n",
       " 'YouTube',\n",
       " 'Doberman gets in tub with baby ducks! - YouTube',\n",
       " 'receiving golden retrievingpuppy - YouTube',\n",
       " 'receiving puppy - YouTube',\n",
       " \"Grandma's priceless reaction to Christmas puppy - YouTube\",\n",
       " 'Cute Golden retriever rescuing her teddy bear - YouTube',\n",
       " 'How To Get A Kitty Belly - YouTube',\n",
       " 'Game of Thrones (S04E09) - Jon Snow vs Styr, Death of Ygritte. - YouTube',\n",
       " 'Ygritte shooting - YouTube',\n",
       " 'Jon Snow & Ygritte: Game of Thrones (Season 3 Episode 10) HD Clip - YouTube',\n",
       " 'YouTube',\n",
       " 'Goldberg Variations Complete (J.S. Bach BWV 988), with score, Kimiko Ishizaka piano - YouTube',\n",
       " 'Husky furious with owner, refuses to look at her - YouTube',\n",
       " 'maya husky - YouTube',\n",
       " 'J.S. Bach Cello Suites No.1-6 BWV 1007-1012, Ralph Kirshbaum - YouTube',\n",
       " 'cello - YouTube',\n",
       " 'Relaxing Classical Cello Music Solo - Soothing Instrumental Background Pieces | Study, Work, Relax - YouTube',\n",
       " 'Rachmaninoff: Piano Concerto #3 (Weissenberg 1968) [with score] - YouTube',\n",
       " 'Game of Thrones Season 6 Soundtrack: Light of the Seven - YouTube',\n",
       " 'cersei song - YouTube',\n",
       " \"Karliene - A Woman's Game - A Cersei Fan-Song - YouTube\",\n",
       " 'Game of Thrones: Season 6 OST - Light of the Seven (EP 10 Trial scene) - YouTube',\n",
       " 'cecile song - YouTube',\n",
       " 'Game of Thrones Season 4 Soundtrack - 13 You Are No Son of Mine - YouTube',\n",
       " '08 - Wall of Ice - Game of Thrones - Season 3 - Soundtrack - YouTube',\n",
       " 'Game of Thrones Season 4 Soundtrack - 22 The Children - YouTube',\n",
       " '10 - I Have To Go North - Game of Thrones - Season 3 - Soundtrack - YouTube',\n",
       " '09 - Kingslayer - Game of Thrones - Season 3 - Soundtrack - YouTube',\n",
       " '06 - Dark Wings, Dark Words - Game of Thrones - Season 3 - Soundtrack - YouTube',\n",
       " '18 - Mhysa - Game of Thrones - Season 3 - Soundtrack - YouTube',\n",
       " 'YouTube',\n",
       " 'The Weldbuilt Glove Donning Machine - YouTube',\n",
       " 'How Fast is the AeroGlove® Automated Glove Dispenser? - YouTube',\n",
       " 'Ultrasonic Polyester Glove Making Machine - YouTube',\n",
       " 'Cleanroom glove dispensers - YouTube',\n",
       " 'glove applying machine - YouTube',\n",
       " 'auto glove - YouTube',\n",
       " 'auto press pack - YouTube',\n",
       " '[ENG SUB] How To Vacuum Pack with Ordinary Zipper Bag - YouTube',\n",
       " 'Stanford Scrub Training Video - YouTube',\n",
       " 'YouTube',\n",
       " 'Claude Debussy ‒ Images (Complete) - YouTube',\n",
       " '07 - You Know Nothing - Game of Thrones - Season 3 - Soundtrack - YouTube',\n",
       " 'YouTube',\n",
       " 'Debussy, Arabesque #1, Piano Solo (animation ver. 2) - YouTube',\n",
       " 'Ryuichi_Sakamoto self portrait - YouTube',\n",
       " 'Yuriko Nakamura◆Everlasting Day - YouTube',\n",
       " \"Mia & Sebastian's Theme (1 Hour) - La La Land Theme Song - YouTube\",\n",
       " 'Deru - 1979 (Full Album) - YouTube',\n",
       " 'Skrillex - Dirty Vibe with Diplo, CL, & G-Dragon (OFFICIAL VIDEO) - YouTube',\n",
       " \"Cashmere Cat - Plz Don't Go (Audio) ft. Jhené Aiko - YouTube\",\n",
       " 'Disclosure - Omen ft. Sam Smith - YouTube',\n",
       " 'Bonobo : Migration - YouTube',\n",
       " 'CodingTrain/Rainbow-Code: Code from Coding Train YouTube video tutorials.',\n",
       " 'YouTube',\n",
       " 'YouTube',\n",
       " 'YouTube',\n",
       " 'YouTube',\n",
       " 'YouTube',\n",
       " 'YouTube',\n",
       " 'YouTube',\n",
       " 'DEAN - instagram Music Video - YouTube',\n",
       " 'DEAN - instagram Music Video - YouTube',\n",
       " 'YouTube',\n",
       " 'YouTube',\n",
       " 'YouTube',\n",
       " 'Ryuichi Sakamoto - Railroad Man (Piano) - YouTube',\n",
       " \"Mia & Sebastian's Theme (1 Hour) - La La Land Theme Song - YouTube\",\n",
       " 'Mia & Sebastian\\'s Theme\" by Justin Hurwitz Listen piano - YouTube',\n",
       " 'YouTube',\n",
       " 'YouTube',\n",
       " 'YouTube',\n",
       " 'Alfa Mist - Antiphon [Full Album] - YouTube',\n",
       " 'YouTube',\n",
       " 'YouTube',\n",
       " 'YouTube',\n",
       " 'World unites for The Winter Olympics - YouTube',\n",
       " 'YouTube',\n",
       " 'Lana Del Rey - Brooklyn Baby (Official Audio) - YouTube',\n",
       " 'lana del rey brooklyn baby - YouTube',\n",
       " 'Lana Del Rey - Yayo ( Born to die Paradise Edition ) - YouTube',\n",
       " 'lana del rey yayo - YouTube',\n",
       " 'Horizon: Zero Dawn - Taking On A ThunderJaw - YouTube',\n",
       " 'YouTube',\n",
       " 'YouTube',\n",
       " 'YouTube',\n",
       " '7.7: Checking Objects Intersection Part II - p5.js Tutorial - YouTube',\n",
       " 'Horizon Zero Dawn - Aloys Origins - Aloy Finds Out Shes A Clone - YouTube',\n",
       " '*MILD SPOILERS* DESTROYING A TALLNECK IN HORIZON ZERO DAWN | HORIZON ZERO DAWN GAMEPLAY - YouTube',\n",
       " 'tallneck destroyed - YouTube',\n",
       " 'YouTube',\n",
       " 'YouTube',\n",
       " 'YouTube',\n",
       " 'Debussy, Arabesque #1, Piano Solo (animation ver. 2) - YouTube',\n",
       " 'YouTube',\n",
       " 'YouTube',\n",
       " 'Dog sticks nose through fingers - YouTube',\n",
       " 'Dog sticks nose through fingers - YouTube',\n",
       " 'How to summon a corgi 👌😂 - YouTube',\n",
       " 'Dog sticks nose through fingers - YouTube',\n",
       " 'YouTube',\n",
       " 'YouTube',\n",
       " 'YouTube',\n",
       " \"don't starve catcoon motion - YouTube\",\n",
       " \"don't starve catcoon - YouTube\",\n",
       " 'YouTube',\n",
       " 'YouTube',\n",
       " 'YouTube',\n",
       " 'YouTube',\n",
       " '13.1: Introduction - Perlin Noise and p5.js Tutorial - YouTube',\n",
       " 'YouTube',\n",
       " 'YouTube',\n",
       " 'YouTube',\n",
       " 'YouTube',\n",
       " 'Levy Flight - Part 1 - YouTube',\n",
       " 'YouTube',\n",
       " 'YouTube',\n",
       " 'Ser Barristan Selmy Death Game Of Thrones S05E04 - YouTube',\n",
       " 'grey worm death - YouTube',\n",
       " 'Game of Thrones 7x01 Arya Avenges the Red Wedding - YouTube',\n",
       " 'Game of Thrones S7E04 - Arya & Bran Reunite Scene - YouTube',\n",
       " 'Game of Thrones 7x04 - Bran Stark an Petyr \"Littlefinger\" Baelish - YouTube',\n",
       " 'bran arya - YouTube',\n",
       " 'The Night King, Ice Dragon Destroys The Wall - Game Of Thrones 7x07 HD - YouTube',\n",
       " 'viserion ice dragon - YouTube',\n",
       " 'Game of Thrones 6x06 - Bran and Meera are saved by Benjen Stark - YouTube',\n",
       " 'Game of Thrones 6x05 - Hold the Door - YouTube',\n",
       " \"Game of Thrones 6x05 - Bran meets the Night's King - YouTube\",\n",
       " 'Game of Thrones - Ice Dragon (Nights King kills and resurrects Viserion) - YouTube',\n",
       " 'Daenerys Rides North To Save Jon Snow - Night King Shoots Down Viserion 7x06 - YouTube',\n",
       " \"Game of Thrones 7x07 - Bran Stark and Sam discuss Jon Snow's Heritage - YouTube\",\n",
       " 'Game of Thrones 7x03 - Jon Snow meets Daenerys Targaryen - YouTube',\n",
       " 'Game Of Thrones 6x10 - Cersei Lannister tortures Septa Unella. - YouTube',\n",
       " 'cersei blows up the sept - YouTube',\n",
       " 'Cersei Lannister blows up the Sept of Baelor - YouTube',\n",
       " 'YouTube',\n",
       " 'ros death - YouTube',\n",
       " 'Joffrey tortures prostitute - YouTube',\n",
       " 'YouTube',\n",
       " 'Game of Thrones (S03E06) - Littlefinger finds out about Varys spy (Death of Ros) - YouTube',\n",
       " 'The Fate of Ros the Whore - Game of Thrones - YouTube',\n",
       " 'The Fate of Ygritte - Game of Thrones - YouTube',\n",
       " 'Ygritte - YouTube',\n",
       " 'iu palette live - YouTube',\n",
       " '[Hwanee/Sub] Mint Color Hair Dye - YouTube',\n",
       " 'Remove my Hair Dye!!! Remove Hair Manicure RiaRua - YouTube',\n",
       " 'Lavender Ombré Hair | PaolaKassa - YouTube',\n",
       " 'YouTube',\n",
       " \"Ryuichi Sakamoto 'The Sheltering Sky' - YouTube\",\n",
       " 'Bonobo : Migration - YouTube',\n",
       " 'Once OST - If You Want Me - YouTube',\n",
       " '박재범 Jay Park - RUN IT (Feat. 우원재 & 제시) (Prod. by GRAY) Official Music Video - YouTube',\n",
       " 'Ryuichi Sakamoto - A Flower Is Not A Flower - YouTube',\n",
       " 'Bonobo : Cirrus [Official Video] - YouTube',\n",
       " 'Ludovico Einaudi - Run - YouTube',\n",
       " 'Kings Of Convenience - Misread - YouTube',\n",
       " 'Bonobo : Surface (feat. Nicole Miglis) - YouTube',\n",
       " \"Cashmere Cat - Plz Don't Go (Audio) ft. Jhené Aiko - YouTube\",\n",
       " \"Bonobo - 'Black Sands' - YouTube\",\n",
       " 'Ryo Fukui - Scenery 1976 (FULL ALBUM) - YouTube',\n",
       " 'Deru - 1979 (Full Album) - YouTube',\n",
       " 'Falling Slowly - Glen Hansard and Marketa Irglova (Once) - YouTube',\n",
       " 'falling slowly - YouTube',\n",
       " 'Falling Slowly, Once Lyrics - YouTube',\n",
       " 'YouTube',\n",
       " 'YouTube',\n",
       " 'YouTube',\n",
       " 'Tessarr - YouTube - YouTube',\n",
       " 'Color B4... Made My PINK Hair Turn BLUE!!! - YouTube',\n",
       " 'My Neighbour is a Psychopath - Update grwm - YouTube',\n",
       " 'DYEING MY HAIR VIRGIN PINK - YouTube',\n",
       " 'YouTube',\n",
       " 'YouTube',\n",
       " 'YouTube',\n",
       " '50 Shades of Rose - YouTube',\n",
       " 'HAIRDRESSER REACTS TO BLEACHING HAIR FAIL 4! | bradmondo - YouTube',\n",
       " 'UNICORN HAIR! DIY Shadow Roots | FACEBEATBYEN - YouTube',\n",
       " 'how to do the PERFECT FADED OMBRE - YouTube',\n",
       " 'DIY Metallic Blue Hair Color - YouTube',\n",
       " 'arctic fox PERIWINKLE - YouTube',\n",
       " 'How I Colour My Hair At Home | Pastel Periwinkle - YouTube',\n",
       " 'PERIWINKLE HAIR ON MY BOYFRIEND!! - YouTube',\n",
       " 'Periwinkle Blue ombre hair dye tutorial - YouTube',\n",
       " 'using arctic fox PERIWINKLE - YouTube',\n",
       " 'Arctic Fox NEW pastel review! Girls Night + Periwinkle - YouTube',\n",
       " 'Dyeing My Hair Pastel Blue With Arctic Fox! - YouTube',\n",
       " 'using arctic fox smokey blue - YouTube',\n",
       " 'Alva Noto & Ryuichi Sakamoto Vrioon - YouTube',\n",
       " 'William Basinski - Watermusic II - YouTube',\n",
       " 'Deru - 1979 (Full Album) - YouTube',\n",
       " '박재범 Jay Park - RUN IT (Feat. 우원재 & 제시) (Prod. by GRAY) Official Music Video - YouTube',\n",
       " 'YouTube',\n",
       " 'Deru - 1979 (Full Album) - YouTube',\n",
       " 'Through the Night - IU Lyrics [Han,Rom,Eng] - YouTube',\n",
       " 'YouTube',\n",
       " 'Cashmere Cat - Love Incredible (Audio) ft. Camila Cabello - YouTube',\n",
       " 'Cashmere Cat - Trust Nobody ft. Selena Gomez, Tory Lanez - YouTube',\n",
       " \"Cashmere Cat - Victoria's Veil (Audio) - YouTube\",\n",
       " 'Cashmere Cat - Infinite Stripes (Audio) ft. Ty Dolla $ign - YouTube',\n",
       " 'Cashmere Cat - Quit (Lyric Video) ft. Ariana Grande - YouTube',\n",
       " 'Cashmere Cat - Wild Love (Audio) ft. The Weeknd, Francis and the Lights - YouTube',\n",
       " 'Cashmere Cat - 9 (After Coachella) ft. MØ, SOPHIE - YouTube',\n",
       " 'Cashmere Cat - Europa Pools (Audio) ft. Kacy Hill - YouTube',\n",
       " 'Cashmere Cat - Night Night (Audio) ft. Kehlani - YouTube',\n",
       " '9 cashmere cat - YouTube',\n",
       " 'Nujabes - City Lights (Homework Edit) - YouTube',\n",
       " 'Susumu Yokota Sakura full album(2000) - YouTube',\n",
       " \"Swedish House Mafia - Don't You Worry Child ft. John Martin - YouTube\",\n",
       " \"Bonobo - 'Black Sands' - YouTube\",\n",
       " 'Bonobo : Outlier - YouTube',\n",
       " 'Cashmere Cat - Europa Pools (Audio) ft. Kacy Hill - YouTube',\n",
       " 'Bonobo : Break Apart (feat. Rhye) - YouTube',\n",
       " 'YouTube',\n",
       " 'YouTube',\n",
       " 'Ryo Fukui - My Favorite Tune (full album) [Piano Jazz] [Japan, 1995] - YouTube',\n",
       " 'mahiro world of kanako - YouTube',\n",
       " 'YouTube',\n",
       " '[Raising a Fish][1] A game that we played secretly during computer class. 2017.07.09 - YouTube',\n",
       " 'Outlast 2 - The Preacher Tortures Josiah And Mary (60FPS) - YouTube',\n",
       " 'YouTube',\n",
       " 'YouTube',\n",
       " '[The Evil within 2][6] Survive from the Nightmare to Save Daughter - Horror/Gore Game 171013 - YouTube',\n",
       " '[SOMA][1] People Recommended this Masterpiece, but I Regretted 171130 - YouTube',\n",
       " 'Outlast Whistleblower Ending - Gameplay Walkthrough Part 6 (DLC) - YouTube',\n",
       " 'whistleblower ending - YouTube',\n",
       " 'Easy&Quick One Pan Vongole Spaghetti! - YouTube',\n",
       " 'Goldberg Variations Complete (J.S. Bach BWV 988), with score, Kimiko Ishizaka piano - YouTube',\n",
       " 'Stupid Liar - Big Bang [Full Audio] - YouTube',\n",
       " 'Black - GDragon Feat. Jennie Kim [Hangul, Romanized and English] Lyrics - YouTube',\n",
       " 'G-Dragon - Today (Instrumental) (HD) - YouTube',\n",
       " 'YouTube',\n",
       " \"Cashmere Cat - Plz Don't Go (Audio) ft. Jhené Aiko - YouTube\",\n",
       " 'Cashmere Cat - Love Incredible (Audio) ft. Camila Cabello - YouTube',\n",
       " 'Cashmere Cat - Europa Pools (Audio) ft. Kacy Hill - YouTube',\n",
       " 'Nujabes - Metaphorical Music (Full Album) - YouTube',\n",
       " 'Nujabes - Luv(sic) [ft. Shing02] ALL PARTS (1-6) - YouTube',\n",
       " 'YouTube',\n",
       " 'Vashti Bunyan - If I Were - Same But Different - YouTube',\n",
       " 'The Walters -- I Love You So - YouTube',\n",
       " 'Snowmine - Let me in - YouTube',\n",
       " 'BEACH HOUSE // Space Song - YouTube',\n",
       " 'Mogwai - Take Me Somewhere Nice - YouTube',\n",
       " 'Sunset Rollercoaster - My Jinji - YouTube',\n",
       " 'MISO - Take Me (Official Video) - YouTube',\n",
       " \"[MV] offonoff - 'Photograph' - YouTube\",\n",
       " 'CHEEZE (치즈) - Madeleine Love - YouTube',\n",
       " 'DEAN_what2do (ft. Crush x Jeff Bernat)_Music Video - YouTube',\n",
       " 'Jazzyfact - Smoking Dreams - YouTube',\n",
       " 'Jazzyfact - Always Awake - YouTube',\n",
       " 'Bonobo♡Black Sands FULL ALBUM - YouTube',\n",
       " 'Quantic - Time Is The Enemy - YouTube',\n",
       " 'Kiasmos - Looped - YouTube',\n",
       " 'Mogwai - Take Me Somewhere Nice - YouTube',\n",
       " 'Bonobo : 7th Sevens - YouTube',\n",
       " 'Bonobo : Grains - YouTube',\n",
       " 'Bonobo: Bambro Koyo Ganda (feat. Innov Gnawa) [Official Video] - YouTube',\n",
       " 'Bonobo : Figures - YouTube',\n",
       " 'Bonobo : Ontario - YouTube',\n",
       " 'Bonobo - Stay the Same ft Andreya - YouTube',\n",
       " 'Bonobo - Silver - YouTube',\n",
       " 'Bonobo : Second Sun - YouTube',\n",
       " 'Bonobo : Cirrus [Official Video] - YouTube',\n",
       " 'Bonobo : Migration - YouTube',\n",
       " 'Bonobo - Kiara - YouTube',\n",
       " 'Bonobo : Outlier - YouTube',\n",
       " 'Bonobo : No Reason (feat. Nick Murphy) - YouTube',\n",
       " 'Bonobo : Kerala - YouTube',\n",
       " 'Bonobo : Break Apart (feat. Rhye) - YouTube',\n",
       " 'Bonobo : Kerala - YouTube',\n",
       " 'Bonobo : Second Sun - YouTube',\n",
       " 'Bonobo - Sweetness [Full Album] - YouTube',\n",
       " 'Bonobo : Migration - YouTube',\n",
       " 'bonobo immigration - YouTube',\n",
       " 'Ryuichi Sakamoto - Railroad Man (Piano) - YouTube',\n",
       " 'Acoustic cafe - Long Long ago - YouTube',\n",
       " 'Ryuichi Sakamoto Live in Europe - Thousand Knives - YouTube',\n",
       " 'Ryuichi Sakamoto - Opus - YouTube',\n",
       " 'A bagatelle in water. - Ryuichi Sakamoto - YouTube',\n",
       " 'Ryuichi Sakamoto Playing the piano 2009 silk endroll - YouTube',\n",
       " 'skmt trio The Last Emperor - YouTube',\n",
       " 'Ryuichi Sakamoto Live in Europe - Parolibre - YouTube',\n",
       " 'Ryuichi Sakamoto Trio_Seven Samurai.mp4 - YouTube',\n",
       " 'Ryuichi Sakamoto plays Bach - YouTube',\n",
       " 'Ryuichi Sakamoto-Aqua - YouTube',\n",
       " 'Ryuichi Sakamoto - Blu - YouTube',\n",
       " 'BIbo no Aozora - BABEL - YouTube',\n",
       " 'Self Portrait : Ryuichi Sakamoto - YouTube',\n",
       " 'Ryuichi Sakamoto - Undercooled (Live 05) - YouTube',\n",
       " 'Ryuichi Sakamoto - A Flower Is Not A Flower - YouTube',\n",
       " 'Solitude - Sakamoto Ryuichi - YouTube',\n",
       " 'Ryuchi Sakamoto -- Bolerish - YouTube',\n",
       " \"Ryuichi Sakamoto- 'Merry Christmas Mr Lawrence' - YouTube\",\n",
       " \"Ryuichi Sakamoto 'The Sheltering Sky' - YouTube\",\n",
       " 'Ryuichi_Sakamoto self portrait - YouTube',\n",
       " 'Alva Noto & Ryuichi Sakamoto Vrioon - YouTube',\n",
       " 'infinite youtube - Google Search',\n",
       " 'Ryuichi_Sakamoto self portrait - YouTube',\n",
       " 'Ryuichi Sakamoto - Undercooled (Live 05) - YouTube',\n",
       " \"Ryuichi Sakamoto- 'Merry Christmas Mr Lawrence' - YouTube\",\n",
       " 'YouTube',\n",
       " 'Gladiator | His Name Is Maximus! | Russell Crowe and Joaquin Phoenix - YouTube',\n",
       " 'gladiator scene my name is maximus - YouTube',\n",
       " 'Dashboard - YouTube',\n",
       " 'YouTube']"
      ]
     },
     "execution_count": 53,
     "metadata": {},
     "output_type": "execute_result"
    }
   ],
   "source": [
    "en_youtube"
   ]
  },
  {
   "cell_type": "code",
   "execution_count": null,
   "metadata": {
    "collapsed": true
   },
   "outputs": [],
   "source": []
  }
 ],
 "metadata": {
  "kernelspec": {
   "display_name": "Python 3",
   "language": "python",
   "name": "python3"
  },
  "language_info": {
   "codemirror_mode": {
    "name": "ipython",
    "version": 3
   },
   "file_extension": ".py",
   "mimetype": "text/x-python",
   "name": "python",
   "nbconvert_exporter": "python",
   "pygments_lexer": "ipython3",
   "version": "3.6.3"
  }
 },
 "nbformat": 4,
 "nbformat_minor": 2
}
