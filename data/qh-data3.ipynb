{
 "cells": [
  {
   "cell_type": "markdown",
   "metadata": {},
   "source": [
    "# Chrome History\n",
    "Following process uses an existing Google Extension to export Google Chrome history in JSON format."
   ]
  },
  {
   "cell_type": "code",
   "execution_count": 3,
   "metadata": {
    "collapsed": true
   },
   "outputs": [],
   "source": [
    "import json\n",
    "history = json.loads(open(\"history.json\").read())\n",
    "# this is Chrome history from 1/15/2018 ~ 4/15/2018"
   ]
  },
  {
   "cell_type": "code",
   "execution_count": 4,
   "metadata": {},
   "outputs": [
    {
     "data": {
      "text/plain": [
       "19311"
      ]
     },
     "execution_count": 4,
     "metadata": {},
     "output_type": "execute_result"
    }
   ],
   "source": [
    "len(history)"
   ]
  },
  {
   "cell_type": "code",
   "execution_count": 5,
   "metadata": {
    "collapsed": true
   },
   "outputs": [],
   "source": [
    "titles = []\n",
    "for i in range(19311):\n",
    "    titles.append(history[i][\"title\"])"
   ]
  },
  {
   "cell_type": "markdown",
   "metadata": {},
   "source": [
    "### Languages\n",
    "Categorize titles via regular expression"
   ]
  },
  {
   "cell_type": "code",
   "execution_count": 7,
   "metadata": {
    "collapsed": true
   },
   "outputs": [],
   "source": [
    "import re"
   ]
  },
  {
   "cell_type": "code",
   "execution_count": 9,
   "metadata": {},
   "outputs": [
    {
     "data": {
      "text/plain": [
       "5337"
      ]
     },
     "execution_count": 9,
     "metadata": {},
     "output_type": "execute_result"
    }
   ],
   "source": [
    "none = [item for item in titles if len(item)==0]\n",
    "len(none)"
   ]
  },
  {
   "cell_type": "code",
   "execution_count": 10,
   "metadata": {},
   "outputs": [
    {
     "data": {
      "text/plain": [
       "2975"
      ]
     },
     "execution_count": 10,
     "metadata": {},
     "output_type": "execute_result"
    }
   ],
   "source": [
    "kor = [item for item in titles if re.search(r\"[ㄱ-ㅎㅏ-ㅣ가-힣]\", item) and len(item)>0]\n",
    "len(kor)"
   ]
  },
  {
   "cell_type": "markdown",
   "metadata": {},
   "source": [
    "- I added the range of Chinese characters [一-龥], because Japanese is consisted of Katakana, Hiragana, and Chinese letters.\n",
    "- Another additions were [ㄱ-ㅎ] and [ㅏ-ㅣ], which are consonants and vowels. Although these letters are grammaticaly meant to be grouped into syllabic blocks, they're also used casually by themselves as abbreviations and slangs in internet."
   ]
  },
  {
   "cell_type": "code",
   "execution_count": 11,
   "metadata": {},
   "outputs": [
    {
     "data": {
      "text/plain": [
       "10929"
      ]
     },
     "execution_count": 11,
     "metadata": {},
     "output_type": "execute_result"
    }
   ],
   "source": [
    "en = [item for item in titles if re.search(r\"^[^가-힣ㄱ-ㅎㅏ-ㅣぁ-んァ-ン一-龥]*$\", item) and len(item)>0]\n",
    "len(en)"
   ]
  },
  {
   "cell_type": "markdown",
   "metadata": {},
   "source": [
    "- As I checked, the rest are all Japanese contents, but since filtering by Chinese letter can theoretically include Chinese contents as well."
   ]
  },
  {
   "cell_type": "code",
   "execution_count": 101,
   "metadata": {},
   "outputs": [
    {
     "data": {
      "text/plain": [
       "70"
      ]
     },
     "execution_count": 101,
     "metadata": {},
     "output_type": "execute_result"
    }
   ],
   "source": [
    "jp = [item for item in titles if re.search(r\"^[^가-힣]*$\", item) and re.search(r\"[ぁ-んァ-ン一-龥]\", item) and len(item)>0]\n",
    "len(jp)"
   ]
  },
  {
   "cell_type": "code",
   "execution_count": 108,
   "metadata": {},
   "outputs": [
    {
     "data": {
      "text/plain": [
       "5407"
      ]
     },
     "execution_count": 108,
     "metadata": {},
     "output_type": "execute_result"
    }
   ],
   "source": [
    "others = jp + none\n",
    "len(others)"
   ]
  },
  {
   "cell_type": "markdown",
   "metadata": {},
   "source": [
    "en : kor = 10940 : 2975"
   ]
  },
  {
   "cell_type": "markdown",
   "metadata": {},
   "source": [
    "### Counting\n",
    "Checking if total number matches the sum"
   ]
  },
  {
   "cell_type": "code",
   "execution_count": 104,
   "metadata": {},
   "outputs": [
    {
     "data": {
      "text/plain": [
       "True"
      ]
     },
     "execution_count": 104,
     "metadata": {},
     "output_type": "execute_result"
    }
   ],
   "source": [
    "total_len = len(en) + len(kor) + len(others)\n",
    "total_len == len(titles)"
   ]
  },
  {
   "cell_type": "code",
   "execution_count": 105,
   "metadata": {
    "scrolled": true
   },
   "outputs": [
    {
     "data": {
      "text/plain": [
       "0"
      ]
     },
     "execution_count": 105,
     "metadata": {},
     "output_type": "execute_result"
    }
   ],
   "source": [
    "total_len - len(titles)"
   ]
  },
  {
   "cell_type": "markdown",
   "metadata": {},
   "source": [
    "### Major services"
   ]
  },
  {
   "cell_type": "code",
   "execution_count": 79,
   "metadata": {},
   "outputs": [
    {
     "data": {
      "text/plain": [
       "695"
      ]
     },
     "execution_count": 79,
     "metadata": {},
     "output_type": "execute_result"
    }
   ],
   "source": [
    "kor_youtube = [line for line in kor if re.search(r\"[Yy]ou[Tt]ube\", line)]\n",
    "len(kor_youtube)"
   ]
  },
  {
   "cell_type": "code",
   "execution_count": 80,
   "metadata": {},
   "outputs": [
    {
     "data": {
      "text/plain": [
       "740"
      ]
     },
     "execution_count": 80,
     "metadata": {},
     "output_type": "execute_result"
    }
   ],
   "source": [
    "en_youtube = [line for line in en if re.search(r\"[Yy]ou[Tt]ube\", line)]\n",
    "len(en_youtube)"
   ]
  },
  {
   "cell_type": "code",
   "execution_count": 81,
   "metadata": {},
   "outputs": [
    {
     "data": {
      "text/plain": [
       "281"
      ]
     },
     "execution_count": 81,
     "metadata": {},
     "output_type": "execute_result"
    }
   ],
   "source": [
    "kor_google = [line for line in kor if re.search(r\"[Gg]oogle\", line)]\n",
    "len(kor_google)"
   ]
  },
  {
   "cell_type": "code",
   "execution_count": 82,
   "metadata": {},
   "outputs": [
    {
     "data": {
      "text/plain": [
       "2398"
      ]
     },
     "execution_count": 82,
     "metadata": {},
     "output_type": "execute_result"
    }
   ],
   "source": [
    "en_google = [line for line in en if re.search(r\"[Gg]oogle\", line)]\n",
    "len(en_google)"
   ]
  },
  {
   "cell_type": "markdown",
   "metadata": {},
   "source": [
    "### What compose Korean sites?"
   ]
  },
  {
   "cell_type": "code",
   "execution_count": 83,
   "metadata": {},
   "outputs": [
    {
     "data": {
      "text/plain": [
       "697"
      ]
     },
     "execution_count": 83,
     "metadata": {},
     "output_type": "execute_result"
    }
   ],
   "source": [
    "kor_namu = [line for line in kor if re.search(r\"나무위키\", line)]\n",
    "len(kor_namu)"
   ]
  },
  {
   "cell_type": "code",
   "execution_count": 84,
   "metadata": {},
   "outputs": [
    {
     "data": {
      "text/plain": [
       "54"
      ]
     },
     "execution_count": 84,
     "metadata": {},
     "output_type": "execute_result"
    }
   ],
   "source": [
    "kor_ppss = [line for line in kor if re.search(r\"ㅍㅍㅅㅅ\", line)]\n",
    "len(kor_ppss)"
   ]
  },
  {
   "cell_type": "code",
   "execution_count": 85,
   "metadata": {},
   "outputs": [
    {
     "data": {
      "text/plain": [
       "32"
      ]
     },
     "execution_count": 85,
     "metadata": {},
     "output_type": "execute_result"
    }
   ],
   "source": [
    "kor_insta = [line for line in kor if re.search(r\"[Ii]nstagram\", line)]\n",
    "len(kor_insta)"
   ]
  },
  {
   "cell_type": "code",
   "execution_count": 86,
   "metadata": {},
   "outputs": [
    {
     "data": {
      "text/plain": [
       "519"
      ]
     },
     "execution_count": 86,
     "metadata": {},
     "output_type": "execute_result"
    }
   ],
   "source": [
    "kor_naver = [line for line in kor if re.search(r\"네이버\", line)]\n",
    "len(kor_naver)"
   ]
  },
  {
   "cell_type": "code",
   "execution_count": 110,
   "metadata": {},
   "outputs": [
    {
     "data": {
      "text/plain": [
       "2278"
      ]
     },
     "execution_count": 110,
     "metadata": {},
     "output_type": "execute_result"
    }
   ],
   "source": [
    "# len(kor) == 2975\n",
    "len(kor_namu) + len(kor_youtube) + len(kor_google) + len(kor_ppss) + len(kor_insta) + len(kor_naver)"
   ]
  },
  {
   "cell_type": "code",
   "execution_count": 137,
   "metadata": {},
   "outputs": [
    {
     "name": "stdout",
     "output_type": "stream",
     "text": [
      "77% of Korean titles is defined.\n",
      "23% of them is undefined.\n"
     ]
    }
   ],
   "source": [
    "# 2278 : total = ?% : 100%\n",
    "print(str(round((2278 * 100) / len(kor))) + \"% of Korean titles is defined.\\n\" + str(100-round((2278 * 100) / len(kor))) + \"% of them is undefined.\")"
   ]
  },
  {
   "cell_type": "markdown",
   "metadata": {},
   "source": [
    "### How about English?"
   ]
  },
  {
   "cell_type": "code",
   "execution_count": 90,
   "metadata": {},
   "outputs": [
    {
     "data": {
      "text/plain": [
       "3138"
      ]
     },
     "execution_count": 90,
     "metadata": {},
     "output_type": "execute_result"
    }
   ],
   "source": [
    "# len(en) == 10940\n",
    "len(en_youtube) + len(en_google) + len(en_insta) + len(en_adobe) + len(en_me)"
   ]
  },
  {
   "cell_type": "code",
   "execution_count": 91,
   "metadata": {},
   "outputs": [
    {
     "data": {
      "text/plain": [
       "95"
      ]
     },
     "execution_count": 91,
     "metadata": {},
     "output_type": "execute_result"
    }
   ],
   "source": [
    "en_insta = [line for line in en if re.search(r\"[Ii]nstagram\", line)]\n",
    "len(en_insta)"
   ]
  },
  {
   "cell_type": "code",
   "execution_count": 58,
   "metadata": {},
   "outputs": [
    {
     "data": {
      "text/plain": [
       "118"
      ]
     },
     "execution_count": 58,
     "metadata": {},
     "output_type": "execute_result"
    }
   ],
   "source": [
    "en_adobe = [line for line in en if re.search(r\"[Aa]dobe\", line)]\n",
    "len(en_adobe)"
   ]
  },
  {
   "cell_type": "code",
   "execution_count": 59,
   "metadata": {},
   "outputs": [
    {
     "data": {
      "text/plain": [
       "891"
      ]
     },
     "execution_count": 59,
     "metadata": {},
     "output_type": "execute_result"
    }
   ],
   "source": [
    "# blog or portfolio or personal/professional accounts\n",
    "en_me = [line for line in en if re.search(r\"\\b(?:Alice Sun|alicehgsun)\\b\", line)]\n",
    "len(en_me)"
   ]
  },
  {
   "cell_type": "code",
   "execution_count": 63,
   "metadata": {},
   "outputs": [
    {
     "data": {
      "text/plain": [
       "70"
      ]
     },
     "execution_count": 63,
     "metadata": {},
     "output_type": "execute_result"
    }
   ],
   "source": [
    "en_class = [line for line in en if re.search(r\"[Ww]eek\\d\", line)]\n",
    "len(en_class)"
   ]
  },
  {
   "cell_type": "code",
   "execution_count": 64,
   "metadata": {},
   "outputs": [
    {
     "data": {
      "text/plain": [
       "271"
      ]
     },
     "execution_count": 64,
     "metadata": {},
     "output_type": "execute_result"
    }
   ],
   "source": [
    "en_linkedin = [line for line in en if re.search(r\"[Ll]inked[Ii]n\", line)]\n",
    "len(en_linkedin)"
   ]
  },
  {
   "cell_type": "code",
   "execution_count": 138,
   "metadata": {
    "scrolled": true
   },
   "outputs": [
    {
     "data": {
      "text/plain": [
       "2"
      ]
     },
     "execution_count": 138,
     "metadata": {},
     "output_type": "execute_result"
    }
   ],
   "source": [
    "en_naver = [line for line in en if re.search(r\"[Nn]aver\", line)]\n",
    "len(en_naver)"
   ]
  },
  {
   "cell_type": "markdown",
   "metadata": {},
   "source": [
    "## Timeline"
   ]
  },
  {
   "cell_type": "code",
   "execution_count": 220,
   "metadata": {},
   "outputs": [
    {
     "name": "stdout",
     "output_type": "stream",
     "text": [
      "Last record is 4/15/2018, 9:24:32 PM\n",
      "Frist record is 1/15/2018, 9:40:57 PM\n"
     ]
    }
   ],
   "source": [
    "# total there're 19311 history records\n",
    "print(\"Last record is \" + str(history[0][\"lastVisitTime\"]) + \"\\nFrist record is \" + str(history[19310][\"lastVisitTime\"]))"
   ]
  },
  {
   "cell_type": "code",
   "execution_count": 226,
   "metadata": {
    "collapsed": true
   },
   "outputs": [],
   "source": [
    "april = []\n",
    "march = []\n",
    "february = []\n",
    "january = []\n",
    "for elt in history:\n",
    "    match_apr = re.search(r\"^4/\", elt[\"lastVisitTime\"])\n",
    "    match_mar = re.search(r\"^3/\", elt[\"lastVisitTime\"])\n",
    "    match_feb = re.search(r\"^2/\", elt[\"lastVisitTime\"])\n",
    "    match_jan = re.search(r\"^1/\", elt[\"lastVisitTime\"])\n",
    "    if match_apr:\n",
    "        april.append(elt[\"title\"])\n",
    "    elif match_mar:\n",
    "        march.append(elt[\"title\"])\n",
    "    elif match_feb:\n",
    "        february.append(elt[\"title\"])\n",
    "    elif match_jan:\n",
    "        january.append(elt[\"title\"])"
   ]
  },
  {
   "cell_type": "code",
   "execution_count": 397,
   "metadata": {},
   "outputs": [
    {
     "name": "stdout",
     "output_type": "stream",
     "text": [
      "January en: 2386\n",
      "January kor: 470\n",
      "84% is Enlgish\n",
      "16% is Korean\n"
     ]
    }
   ],
   "source": [
    "january_en = [item for item in january if re.search(r\"^[^가-힣ㄱ-ㅎㅏ-ㅣぁ-んァ-ン一-龥]*$\", item) and len(item)>0]\n",
    "january_kor = [item for item in january if re.search(r\"[ㄱ-ㅎㅏ-ㅣ가-힣]\", item) and len(item)>0]\n",
    "print (\"January en:\", str(len(january_en)))\n",
    "print (\"January kor:\", str(len(january_kor)))\n",
    "# en : kor = 2386 : 470\n",
    "\n",
    "print(str(round((len(january_en)*100)/(len(january_en)+len(january_kor)))) + \"% is Enlgish\")\n",
    "print(str(round((len(january_kor)*100)/(len(january_en)+len(january_kor)))) + \"% is Korean\")"
   ]
  },
  {
   "cell_type": "code",
   "execution_count": 398,
   "metadata": {},
   "outputs": [
    {
     "name": "stdout",
     "output_type": "stream",
     "text": [
      "February en: 2916\n",
      "February kor: 908\n",
      "76% is Enlgish\n",
      "24% is Korean\n"
     ]
    }
   ],
   "source": [
    "february_en = [item for item in february if re.search(r\"^[^가-힣ㄱ-ㅎㅏ-ㅣぁ-んァ-ン一-龥]*$\", item) and len(item)>0]\n",
    "february_kor = [item for item in february if re.search(r\"[ㄱ-ㅎㅏ-ㅣ가-힣]\", item) and len(item)>0]\n",
    "print (\"February en:\", str(len(february_en)))\n",
    "print (\"February kor:\", str(len(february_kor)))\n",
    "\n",
    "print(str(round((len(february_en)*100)/(len(february_en)+len(february_kor)))) + \"% is Enlgish\")\n",
    "print(str(round((len(february_kor)*100)/(len(february_en)+len(february_kor)))) + \"% is Korean\")"
   ]
  },
  {
   "cell_type": "code",
   "execution_count": 399,
   "metadata": {},
   "outputs": [
    {
     "name": "stdout",
     "output_type": "stream",
     "text": [
      "March en: 3655\n",
      "March kor: 1099\n",
      "77% is Enlgish\n",
      "23% is Korean\n"
     ]
    }
   ],
   "source": [
    "march_en = [item for item in march if re.search(r\"^[^가-힣ㄱ-ㅎㅏ-ㅣぁ-んァ-ン一-龥]*$\", item) and len(item)>0]\n",
    "march_kor = [item for item in march if re.search(r\"[ㄱ-ㅎㅏ-ㅣ가-힣]\", item) and len(item)>0]\n",
    "print (\"March en:\", str(len(march_en)))\n",
    "print (\"March kor:\", str(len(march_kor)))\n",
    "\n",
    "print(str(round((len(march_en)*100)/(len(march_en)+len(march_kor)))) + \"% is Enlgish\")\n",
    "print(str(round((len(march_kor)*100)/(len(march_en)+len(march_kor)))) + \"% is Korean\")"
   ]
  },
  {
   "cell_type": "code",
   "execution_count": 401,
   "metadata": {},
   "outputs": [
    {
     "name": "stdout",
     "output_type": "stream",
     "text": [
      "April en: 1972\n",
      "April kor: 498\n",
      "80% is Enlgish\n",
      "20% is Korean\n"
     ]
    }
   ],
   "source": [
    "april_en = [item for item in april if re.search(r\"^[^가-힣ㄱ-ㅎㅏ-ㅣぁ-んァ-ン一-龥]*$\", item) and len(item)>0]\n",
    "april_kor = [item for item in april if re.search(r\"[ㄱ-ㅎㅏ-ㅣ가-힣]\", item) and len(item)>0]\n",
    "print (\"April en:\", str(len(april_en)))\n",
    "print (\"April kor:\", str(len(april_kor)))\n",
    "\n",
    "print(str(round((len(april_en)*100)/(len(april_en)+len(april_kor)))) + \"% is Enlgish\")\n",
    "print(str(round((len(april_kor)*100)/(len(april_en)+len(april_kor)))) + \"% is Korean\")"
   ]
  },
  {
   "cell_type": "code",
   "execution_count": 377,
   "metadata": {},
   "outputs": [
    {
     "name": "stdout",
     "output_type": "stream",
     "text": [
      "April total: 3292\n",
      "March total: 6869\n",
      "February total: 5218\n",
      "January total: 3932\n"
     ]
    }
   ],
   "source": [
    "print(\"April total: \" + str(len(april)) + \"\\nMarch total: \" + str(len(march)) + \"\\nFebruary total: \" + str(len(february)) + \"\\nJanuary total: \" + str(len(january)))"
   ]
  },
  {
   "cell_type": "markdown",
   "metadata": {},
   "source": [
    "### 30 days period"
   ]
  },
  {
   "cell_type": "code",
   "execution_count": 15,
   "metadata": {
    "collapsed": true
   },
   "outputs": [],
   "source": [
    "# total = 19311\n",
    "# 1/15 - 2/13\n",
    "# 2/14 - 3/15\n",
    "# 3/16 - 4/15\n",
    "\n",
    "month1 = []\n",
    "month2 = []\n",
    "month3 = []\n",
    "for elt in history:\n",
    "    match1 = re.search(r\"\\b(?:1/(1[5-9]|[2,3][0-9])|2/(\\d|1[0-3]))\\b\", elt[\"lastVisitTime\"])\n",
    "    match2 = re.search(r\"\\b(?:2/(1[4-9]|2[0-8])|3/(\\d|1[0-5]))\\b\", elt[\"lastVisitTime\"])\n",
    "    match3 = re.search(r\"\\b(?:3/(1[6-9]|[2,3][0-9])|4/(\\d|1[0-5]))\\b\", elt[\"lastVisitTime\"])\n",
    "    \n",
    "    if match1:\n",
    "        month1.append(elt[\"title\"])\n",
    "    elif match2:\n",
    "        month2.append(elt[\"title\"])\n",
    "    elif match3:\n",
    "        month3.append(elt[\"title\"])"
   ]
  },
  {
   "cell_type": "code",
   "execution_count": 16,
   "metadata": {},
   "outputs": [
    {
     "data": {
      "text/plain": [
       "True"
      ]
     },
     "execution_count": 16,
     "metadata": {},
     "output_type": "execute_result"
    }
   ],
   "source": [
    "len(history) == len(month3) + len(month2) + len(month1)"
   ]
  },
  {
   "cell_type": "code",
   "execution_count": 17,
   "metadata": {},
   "outputs": [
    {
     "name": "stdout",
     "output_type": "stream",
     "text": [
      "Month 1 en: 4007\n",
      "Month 1 kor: 805\n",
      "83% is Enlgish\n",
      "17% is Korean\n"
     ]
    }
   ],
   "source": [
    "month1_en = [item for item in month1 if re.search(r\"^[^가-힣ㄱ-ㅎㅏ-ㅣぁ-んァ-ン一-龥]*$\", item) and len(item)>0]\n",
    "month1_kor = [item for item in month1 if re.search(r\"[ㄱ-ㅎㅏ-ㅣ가-힣]\", item) and len(item)>0]\n",
    "print (\"Month 1 en:\", str(len(month1_en)))\n",
    "print (\"Month 1 kor:\", str(len(month1_kor)))\n",
    "\n",
    "print(str(round((len(month1_en)*100)/(len(month1_en)+len(month1_kor)))) + \"% is Enlgish\")\n",
    "print(str(round((len(month1_kor)*100)/(len(month1_en)+len(month1_kor)))) + \"% is Korean\")"
   ]
  },
  {
   "cell_type": "code",
   "execution_count": 18,
   "metadata": {},
   "outputs": [
    {
     "name": "stdout",
     "output_type": "stream",
     "text": [
      "Month 2 en: 3370\n",
      "Month 2 kor: 1090\n",
      "76% is Enlgish\n",
      "24% is Korean\n"
     ]
    }
   ],
   "source": [
    "month2_en = [item for item in month2 if re.search(r\"^[^가-힣ㄱ-ㅎㅏ-ㅣぁ-んァ-ン一-龥]*$\", item) and len(item)>0]\n",
    "month2_kor = [item for item in month2 if re.search(r\"[ㄱ-ㅎㅏ-ㅣ가-힣]\", item) and len(item)>0]\n",
    "print (\"Month 2 en:\", str(len(month2_en)))\n",
    "print (\"Month 2 kor:\", str(len(month2_kor)))\n",
    "\n",
    "print(str(round((len(month2_en)*100)/(len(month2_en)+len(month2_kor)))) + \"% is Enlgish\")\n",
    "print(str(round((len(month2_kor)*100)/(len(month2_en)+len(month2_kor)))) + \"% is Korean\")"
   ]
  },
  {
   "cell_type": "code",
   "execution_count": 19,
   "metadata": {
    "scrolled": true
   },
   "outputs": [
    {
     "name": "stdout",
     "output_type": "stream",
     "text": [
      "Month 3 en: 3552\n",
      "Month 3 kor: 1080\n",
      "77% is Enlgish\n",
      "23% is Korean\n"
     ]
    }
   ],
   "source": [
    "month3_en = [item for item in month3 if re.search(r\"^[^가-힣ㄱ-ㅎㅏ-ㅣぁ-んァ-ン一-龥]*$\", item) and len(item)>0]\n",
    "month3_kor = [item for item in month3 if re.search(r\"[ㄱ-ㅎㅏ-ㅣ가-힣]\", item) and len(item)>0]\n",
    "print (\"Month 3 en:\", str(len(month3_en)))\n",
    "print (\"Month 3 kor:\", str(len(month3_kor)))\n",
    "\n",
    "print(str(round((len(month3_en)*100)/(len(month3_en)+len(month3_kor)))) + \"% is Enlgish\")\n",
    "print(str(round((len(month3_kor)*100)/(len(month3_en)+len(month3_kor)))) + \"% is Korean\")"
   ]
  },
  {
   "cell_type": "markdown",
   "metadata": {},
   "source": [
    "### Weekly"
   ]
  },
  {
   "cell_type": "code",
   "execution_count": 31,
   "metadata": {},
   "outputs": [],
   "source": [
    "# total = 19311\n",
    "#1 1/15 - 1/21\n",
    "#2 1/22 - 1/28\n",
    "#3 1/29 - 2/4\n",
    "#4 2/5 - 2/11\n",
    "#5 2/12 - 2/18\n",
    "#6 2/19 - 2/25\n",
    "#7 2/26 - 3/4\n",
    "#8 3/5 - 3/11\n",
    "#9 3/12 - 3/18\n",
    "#10 3/19 - 3/25\n",
    "#11 3/26 - 4/1\n",
    "#12 4/2 - 4/8\n",
    "#13 4/9 - 4/15\n",
    "\n",
    "week1 = []\n",
    "week2 = []\n",
    "week3 = []\n",
    "week4 = []\n",
    "week5 = []\n",
    "week6 = []\n",
    "week7 = []\n",
    "week8 = []\n",
    "week9 = []\n",
    "week10 = []\n",
    "week11 = []\n",
    "week12 = []\n",
    "week13 = []\n",
    "\n",
    "for elt in history:\n",
    "    match1 = re.search(r\"\\b(1/(1[5-9]|2[0,1]))\\b\", elt[\"lastVisitTime\"])\n",
    "    match2 = re.search(r\"\\b(1/2[2-8])\\b\", elt[\"lastVisitTime\"])\n",
    "    match3 = re.search(r\"\\b(?:1/(29|3[0-9])|2/[0-4]/2018)\\b\", elt[\"lastVisitTime\"])\n",
    "    match4 = re.search(r\"\\b(2/([5-9]/2018|1[0,1]))\\b\", elt[\"lastVisitTime\"])\n",
    "    match5 = re.search(r\"\\b(2/1[2-8])\\b\", elt[\"lastVisitTime\"])\n",
    "    match6 = re.search(r\"\\b(2/(19|2[0-5]))\\b\", elt[\"lastVisitTime\"])\n",
    "    match7 = re.search(r\"\\b(?:2/(2[6-9]|3[0-9])|3/[0-4]/2018)\\b\", elt[\"lastVisitTime\"])\n",
    "    match8 = re.search(r\"\\b(3/([5-9]/2018|1[0,1]))\\b\", elt[\"lastVisitTime\"])\n",
    "    match9 = re.search(r\"\\b(3/1[2-8])\\b\", elt[\"lastVisitTime\"])\n",
    "    match10 = re.search(r\"\\b(3/(19|2[0-5]))\\b\", elt[\"lastVisitTime\"])\n",
    "    match11 = re.search(r\"\\b(?:3/(2[6-9]|3[0-9])|4/1/2018)\\b\", elt[\"lastVisitTime\"])\n",
    "    match12 = re.search(r\"\\b(4/[2-8]/2018)\\b\", elt[\"lastVisitTime\"])\n",
    "    match13 = re.search(r\"\\b(4/(9|1[0-5]))\\b\", elt[\"lastVisitTime\"])\n",
    "    \n",
    "\n",
    "    if match1:\n",
    "        week1.append(elt[\"title\"])\n",
    "    elif match2:\n",
    "        week2.append(elt[\"title\"])\n",
    "    elif match3:\n",
    "        week3.append(elt[\"title\"])\n",
    "    elif match4:\n",
    "        week4.append(elt[\"title\"])\n",
    "    elif match5:\n",
    "        week5.append(elt[\"title\"])\n",
    "    elif match6:\n",
    "        week6.append(elt[\"title\"])\n",
    "    elif match7:\n",
    "        week7.append(elt[\"title\"])\n",
    "    elif match8:\n",
    "        week8.append(elt[\"title\"])\n",
    "    elif match9:\n",
    "        week9.append(elt[\"title\"])\n",
    "    elif match10:\n",
    "        week10.append(elt[\"title\"])\n",
    "    elif match11:\n",
    "        week11.append(elt[\"title\"])\n",
    "    elif match12:\n",
    "        week12.append(elt[\"title\"])\n",
    "    elif match13:\n",
    "        week13.append(elt[\"title\"])"
   ]
  },
  {
   "cell_type": "code",
   "execution_count": 32,
   "metadata": {},
   "outputs": [
    {
     "data": {
      "text/plain": [
       "True"
      ]
     },
     "execution_count": 32,
     "metadata": {},
     "output_type": "execute_result"
    }
   ],
   "source": [
    "len(history) == len(week1) + len(week2) + len(week3) + len(week4) + len(week5) + len(week6) +len(week7) + len(week8) + len(week9) + len(week10) + len(week11) + len(week12) + len(week13)"
   ]
  },
  {
   "cell_type": "code",
   "execution_count": 34,
   "metadata": {},
   "outputs": [
    {
     "name": "stdout",
     "output_type": "stream",
     "text": [
      "week1 en: 970\n",
      "week1 kor: 193\n",
      "week2 en: 983\n",
      "week2 kor: 237\n",
      "week3 en: 891\n",
      "week3 kor: 134\n",
      "week4 en: 940\n",
      "week4 kor: 200\n",
      "week5 en: 525\n",
      "week5 kor: 150\n",
      "week6 en: 680\n",
      "week6 kor: 360\n",
      "week7 en: 947\n",
      "week7 kor: 361\n",
      "week8 en: 1171\n",
      "week8 kor: 246\n",
      "week9 en: 569\n",
      "week9 kor: 100\n",
      "week10 en: 753\n",
      "week10 kor: 212\n",
      "week11 en: 543\n",
      "week11 kor: 315\n",
      "week12 en: 817\n",
      "week12 kor: 191\n",
      "week13 en: 1140\n",
      "week13 kor: 276\n"
     ]
    }
   ],
   "source": [
    "week1_en = [item for item in week1 if re.search(r\"^[^가-힣ㄱ-ㅎㅏ-ㅣぁ-んァ-ン一-龥]*$\", item) and len(item)>0]\n",
    "week1_kor = [item for item in week1 if re.search(r\"[ㄱ-ㅎㅏ-ㅣ가-힣]\", item) and len(item)>0]\n",
    "print (\"week1 en:\", str(len(week1_en)))\n",
    "print (\"week1 kor:\", str(len(week1_kor)))\n",
    "week2_en = [item for item in week2 if re.search(r\"^[^가-힣ㄱ-ㅎㅏ-ㅣぁ-んァ-ン一-龥]*$\", item) and len(item)>0]\n",
    "week2_kor = [item for item in week2 if re.search(r\"[ㄱ-ㅎㅏ-ㅣ가-힣]\", item) and len(item)>0]\n",
    "print (\"week2 en:\", str(len(week2_en)))\n",
    "print (\"week2 kor:\", str(len(week2_kor)))\n",
    "week3_en = [item for item in week3 if re.search(r\"^[^가-힣ㄱ-ㅎㅏ-ㅣぁ-んァ-ン一-龥]*$\", item) and len(item)>0]\n",
    "week3_kor = [item for item in week3 if re.search(r\"[ㄱ-ㅎㅏ-ㅣ가-힣]\", item) and len(item)>0]\n",
    "print (\"week3 en:\", str(len(week3_en)))\n",
    "print (\"week3 kor:\", str(len(week3_kor)))\n",
    "week4_en = [item for item in week4 if re.search(r\"^[^가-힣ㄱ-ㅎㅏ-ㅣぁ-んァ-ン一-龥]*$\", item) and len(item)>0]\n",
    "week4_kor = [item for item in week4 if re.search(r\"[ㄱ-ㅎㅏ-ㅣ가-힣]\", item) and len(item)>0]\n",
    "print (\"week4 en:\", str(len(week4_en)))\n",
    "print (\"week4 kor:\", str(len(week4_kor)))\n",
    "week5_en = [item for item in week5 if re.search(r\"^[^가-힣ㄱ-ㅎㅏ-ㅣぁ-んァ-ン一-龥]*$\", item) and len(item)>0]\n",
    "week5_kor = [item for item in week5 if re.search(r\"[ㄱ-ㅎㅏ-ㅣ가-힣]\", item) and len(item)>0]\n",
    "print (\"week5 en:\", str(len(week5_en)))\n",
    "print (\"week5 kor:\", str(len(week5_kor)))\n",
    "week6_en = [item for item in week6 if re.search(r\"^[^가-힣ㄱ-ㅎㅏ-ㅣぁ-んァ-ン一-龥]*$\", item) and len(item)>0]\n",
    "week6_kor = [item for item in week6 if re.search(r\"[ㄱ-ㅎㅏ-ㅣ가-힣]\", item) and len(item)>0]\n",
    "print (\"week6 en:\", str(len(week6_en)))\n",
    "print (\"week6 kor:\", str(len(week6_kor)))\n",
    "week7_en = [item for item in week7 if re.search(r\"^[^가-힣ㄱ-ㅎㅏ-ㅣぁ-んァ-ン一-龥]*$\", item) and len(item)>0]\n",
    "week7_kor = [item for item in week7 if re.search(r\"[ㄱ-ㅎㅏ-ㅣ가-힣]\", item) and len(item)>0]\n",
    "print (\"week7 en:\", str(len(week7_en)))\n",
    "print (\"week7 kor:\", str(len(week7_kor)))\n",
    "week8_en = [item for item in week8 if re.search(r\"^[^가-힣ㄱ-ㅎㅏ-ㅣぁ-んァ-ン一-龥]*$\", item) and len(item)>0]\n",
    "week8_kor = [item for item in week8 if re.search(r\"[ㄱ-ㅎㅏ-ㅣ가-힣]\", item) and len(item)>0]\n",
    "print (\"week8 en:\", str(len(week8_en)))\n",
    "print (\"week8 kor:\", str(len(week8_kor)))\n",
    "week9_en = [item for item in week9 if re.search(r\"^[^가-힣ㄱ-ㅎㅏ-ㅣぁ-んァ-ン一-龥]*$\", item) and len(item)>0]\n",
    "week9_kor = [item for item in week9 if re.search(r\"[ㄱ-ㅎㅏ-ㅣ가-힣]\", item) and len(item)>0]\n",
    "print (\"week9 en:\", str(len(week9_en)))\n",
    "print (\"week9 kor:\", str(len(week9_kor)))\n",
    "week10_en = [item for item in week10 if re.search(r\"^[^가-힣ㄱ-ㅎㅏ-ㅣぁ-んァ-ン一-龥]*$\", item) and len(item)>0]\n",
    "week10_kor = [item for item in week10 if re.search(r\"[ㄱ-ㅎㅏ-ㅣ가-힣]\", item) and len(item)>0]\n",
    "print (\"week10 en:\", str(len(week10_en)))\n",
    "print (\"week10 kor:\", str(len(week10_kor)))\n",
    "week11_en = [item for item in week11 if re.search(r\"^[^가-힣ㄱ-ㅎㅏ-ㅣぁ-んァ-ン一-龥]*$\", item) and len(item)>0]\n",
    "week11_kor = [item for item in week11 if re.search(r\"[ㄱ-ㅎㅏ-ㅣ가-힣]\", item) and len(item)>0]\n",
    "print (\"week11 en:\", str(len(week11_en)))\n",
    "print (\"week11 kor:\", str(len(week11_kor)))\n",
    "week12_en = [item for item in week12 if re.search(r\"^[^가-힣ㄱ-ㅎㅏ-ㅣぁ-んァ-ン一-龥]*$\", item) and len(item)>0]\n",
    "week12_kor = [item for item in week12 if re.search(r\"[ㄱ-ㅎㅏ-ㅣ가-힣]\", item) and len(item)>0]\n",
    "print (\"week12 en:\", str(len(week12_en)))\n",
    "print (\"week12 kor:\", str(len(week12_kor)))\n",
    "week13_en = [item for item in week13 if re.search(r\"^[^가-힣ㄱ-ㅎㅏ-ㅣぁ-んァ-ン一-龥]*$\", item) and len(item)>0]\n",
    "week13_kor = [item for item in week13 if re.search(r\"[ㄱ-ㅎㅏ-ㅣ가-힣]\", item) and len(item)>0]\n",
    "print (\"week13 en:\", str(len(week13_en)))\n",
    "print (\"week13 kor:\", str(len(week13_kor)))"
   ]
  },
  {
   "cell_type": "code",
   "execution_count": 35,
   "metadata": {},
   "outputs": [
    {
     "data": {
      "text/plain": [
       "10929"
      ]
     },
     "execution_count": 35,
     "metadata": {},
     "output_type": "execute_result"
    }
   ],
   "source": [
    "len(week1_en) + len(week2_en) + len(week3_en) + len(week4_en) + len(week5_en) + len(week6_en) +len(week7_en) + len(week8_en) + len(week9_en) + len(week10_en) + len(week11_en) + len(week12_en) + len(week13_en)"
   ]
  },
  {
   "cell_type": "code",
   "execution_count": null,
   "metadata": {
    "collapsed": true
   },
   "outputs": [],
   "source": []
  }
 ],
 "metadata": {
  "kernelspec": {
   "display_name": "Python 3",
   "language": "python",
   "name": "python3"
  },
  "language_info": {
   "codemirror_mode": {
    "name": "ipython",
    "version": 3
   },
   "file_extension": ".py",
   "mimetype": "text/x-python",
   "name": "python",
   "nbconvert_exporter": "python",
   "pygments_lexer": "ipython3",
   "version": "3.6.3"
  }
 },
 "nbformat": 4,
 "nbformat_minor": 2
}
